{
  "cells": [
    {
      "cell_type": "markdown",
      "metadata": {
        "id": "view-in-github",
        "colab_type": "text"
      },
      "source": [
        "<a href=\"https://colab.research.google.com/github/mehmet-0101/Python-Notes/blob/master/2022_04_12_Python_Tekrar_Asteriks_Yield_listComp_Lambda.ipynb\" target=\"_parent\"><img src=\"https://colab.research.google.com/assets/colab-badge.svg\" alt=\"Open In Colab\"/></a>"
      ]
    },
    {
      "cell_type": "markdown",
      "id": "daaa6908",
      "metadata": {
        "id": "daaa6908"
      },
      "source": [
        "# what is - dir() and help()"
      ]
    },
    {
      "cell_type": "code",
      "execution_count": null,
      "id": "be12d7a9",
      "metadata": {
        "id": "be12d7a9",
        "outputId": "bc253f31-13ed-4605-bef9-f56d02403d47"
      },
      "outputs": [
        {
          "name": "stdout",
          "output_type": "stream",
          "text": [
            "Help on _Helper in module _sitebuiltins object:\n",
            "\n",
            "class _Helper(builtins.object)\n",
            " |  Define the builtin 'help'.\n",
            " |  \n",
            " |  This is a wrapper around pydoc.help that provides a helpful message\n",
            " |  when 'help' is typed at the Python interactive prompt.\n",
            " |  \n",
            " |  Calling help() at the Python prompt starts an interactive help session.\n",
            " |  Calling help(thing) prints help for the python object 'thing'.\n",
            " |  \n",
            " |  Methods defined here:\n",
            " |  \n",
            " |  __call__(self, *args, **kwds)\n",
            " |      Call self as a function.\n",
            " |  \n",
            " |  __repr__(self)\n",
            " |      Return repr(self).\n",
            " |  \n",
            " |  ----------------------------------------------------------------------\n",
            " |  Data descriptors defined here:\n",
            " |  \n",
            " |  __dict__\n",
            " |      dictionary for instance variables (if defined)\n",
            " |  \n",
            " |  __weakref__\n",
            " |      list of weak references to the object (if defined)\n",
            "\n"
          ]
        }
      ],
      "source": [
        "help(help)"
      ]
    },
    {
      "cell_type": "code",
      "execution_count": null,
      "id": "9e99a44a",
      "metadata": {
        "id": "9e99a44a",
        "outputId": "f7e2ae43-8a62-46de-a4c7-20abc6878620"
      },
      "outputs": [
        {
          "name": "stdout",
          "output_type": "stream",
          "text": [
            "Help on built-in function dir in module builtins:\n",
            "\n",
            "dir(...)\n",
            "    dir([object]) -> list of strings\n",
            "    \n",
            "    If called without an argument, return the names in the current scope.\n",
            "    Else, return an alphabetized list of names comprising (some of) the attributes\n",
            "    of the given object, and of attributes reachable from it.\n",
            "    If the object supplies a method named __dir__, it will be used; otherwise\n",
            "    the default dir() logic is used and returns:\n",
            "      for a module object: the module's attributes.\n",
            "      for a class object:  its attributes, and recursively the attributes\n",
            "        of its bases.\n",
            "      for any other object: its attributes, its class's attributes, and\n",
            "        recursively the attributes of its class's base classes.\n",
            "\n"
          ]
        }
      ],
      "source": [
        "help(dir)"
      ]
    },
    {
      "cell_type": "code",
      "execution_count": null,
      "id": "a6df01ba",
      "metadata": {
        "id": "a6df01ba",
        "outputId": "0f1dd7fe-5ddf-4b1c-852e-d1846022be80"
      },
      "outputs": [
        {
          "name": "stdout",
          "output_type": "stream",
          "text": [
            "Help on built-in function print in module builtins:\n",
            "\n",
            "print(...)\n",
            "    print(value, ..., sep=' ', end='\\n', file=sys.stdout, flush=False)\n",
            "    \n",
            "    Prints the values to a stream, or to sys.stdout by default.\n",
            "    Optional keyword arguments:\n",
            "    file:  a file-like object (stream); defaults to the current sys.stdout.\n",
            "    sep:   string inserted between values, default a space.\n",
            "    end:   string appended after the last value, default a newline.\n",
            "    flush: whether to forcibly flush the stream.\n",
            "\n"
          ]
        }
      ],
      "source": [
        "help(print)  # print is built-in function"
      ]
    },
    {
      "cell_type": "code",
      "execution_count": null,
      "id": "7757c465",
      "metadata": {
        "id": "7757c465",
        "outputId": "746a1ec8-b76e-4a1f-bad5-feb8a91ea7c4"
      },
      "outputs": [
        {
          "data": {
            "text/plain": [
              "['__call__',\n",
              " '__class__',\n",
              " '__delattr__',\n",
              " '__dir__',\n",
              " '__doc__',\n",
              " '__eq__',\n",
              " '__format__',\n",
              " '__ge__',\n",
              " '__getattribute__',\n",
              " '__gt__',\n",
              " '__hash__',\n",
              " '__init__',\n",
              " '__init_subclass__',\n",
              " '__le__',\n",
              " '__lt__',\n",
              " '__module__',\n",
              " '__name__',\n",
              " '__ne__',\n",
              " '__new__',\n",
              " '__qualname__',\n",
              " '__reduce__',\n",
              " '__reduce_ex__',\n",
              " '__repr__',\n",
              " '__self__',\n",
              " '__setattr__',\n",
              " '__sizeof__',\n",
              " '__str__',\n",
              " '__subclasshook__',\n",
              " '__text_signature__']"
            ]
          },
          "execution_count": 17,
          "metadata": {},
          "output_type": "execute_result"
        }
      ],
      "source": [
        "dir(print)"
      ]
    },
    {
      "cell_type": "code",
      "execution_count": null,
      "id": "09c894b7",
      "metadata": {
        "id": "09c894b7",
        "outputId": "69aec245-25bc-4e5e-9cb6-d0f022b9cbd3"
      },
      "outputs": [
        {
          "name": "stdout",
          "output_type": "stream",
          "text": [
            "Help on class str in module builtins:\n",
            "\n",
            "class str(object)\n",
            " |  str(object='') -> str\n",
            " |  str(bytes_or_buffer[, encoding[, errors]]) -> str\n",
            " |  \n",
            " |  Create a new string object from the given object. If encoding or\n",
            " |  errors is specified, then the object must expose a data buffer\n",
            " |  that will be decoded using the given encoding and error handler.\n",
            " |  Otherwise, returns the result of object.__str__() (if defined)\n",
            " |  or repr(object).\n",
            " |  encoding defaults to sys.getdefaultencoding().\n",
            " |  errors defaults to 'strict'.\n",
            " |  \n",
            " |  Methods defined here:\n",
            " |  \n",
            " |  __add__(self, value, /)\n",
            " |      Return self+value.\n",
            " |  \n",
            " |  __contains__(self, key, /)\n",
            " |      Return key in self.\n",
            " |  \n",
            " |  __eq__(self, value, /)\n",
            " |      Return self==value.\n",
            " |  \n",
            " |  __format__(self, format_spec, /)\n",
            " |      Return a formatted version of the string as described by format_spec.\n",
            " |  \n",
            " |  __ge__(self, value, /)\n",
            " |      Return self>=value.\n",
            " |  \n",
            " |  __getattribute__(self, name, /)\n",
            " |      Return getattr(self, name).\n",
            " |  \n",
            " |  __getitem__(self, key, /)\n",
            " |      Return self[key].\n",
            " |  \n",
            " |  __getnewargs__(...)\n",
            " |  \n",
            " |  __gt__(self, value, /)\n",
            " |      Return self>value.\n",
            " |  \n",
            " |  __hash__(self, /)\n",
            " |      Return hash(self).\n",
            " |  \n",
            " |  __iter__(self, /)\n",
            " |      Implement iter(self).\n",
            " |  \n",
            " |  __le__(self, value, /)\n",
            " |      Return self<=value.\n",
            " |  \n",
            " |  __len__(self, /)\n",
            " |      Return len(self).\n",
            " |  \n",
            " |  __lt__(self, value, /)\n",
            " |      Return self<value.\n",
            " |  \n",
            " |  __mod__(self, value, /)\n",
            " |      Return self%value.\n",
            " |  \n",
            " |  __mul__(self, value, /)\n",
            " |      Return self*value.\n",
            " |  \n",
            " |  __ne__(self, value, /)\n",
            " |      Return self!=value.\n",
            " |  \n",
            " |  __repr__(self, /)\n",
            " |      Return repr(self).\n",
            " |  \n",
            " |  __rmod__(self, value, /)\n",
            " |      Return value%self.\n",
            " |  \n",
            " |  __rmul__(self, value, /)\n",
            " |      Return value*self.\n",
            " |  \n",
            " |  __sizeof__(self, /)\n",
            " |      Return the size of the string in memory, in bytes.\n",
            " |  \n",
            " |  __str__(self, /)\n",
            " |      Return str(self).\n",
            " |  \n",
            " |  capitalize(self, /)\n",
            " |      Return a capitalized version of the string.\n",
            " |      \n",
            " |      More specifically, make the first character have upper case and the rest lower\n",
            " |      case.\n",
            " |  \n",
            " |  casefold(self, /)\n",
            " |      Return a version of the string suitable for caseless comparisons.\n",
            " |  \n",
            " |  center(self, width, fillchar=' ', /)\n",
            " |      Return a centered string of length width.\n",
            " |      \n",
            " |      Padding is done using the specified fill character (default is a space).\n",
            " |  \n",
            " |  count(...)\n",
            " |      S.count(sub[, start[, end]]) -> int\n",
            " |      \n",
            " |      Return the number of non-overlapping occurrences of substring sub in\n",
            " |      string S[start:end].  Optional arguments start and end are\n",
            " |      interpreted as in slice notation.\n",
            " |  \n",
            " |  encode(self, /, encoding='utf-8', errors='strict')\n",
            " |      Encode the string using the codec registered for encoding.\n",
            " |      \n",
            " |      encoding\n",
            " |        The encoding in which to encode the string.\n",
            " |      errors\n",
            " |        The error handling scheme to use for encoding errors.\n",
            " |        The default is 'strict' meaning that encoding errors raise a\n",
            " |        UnicodeEncodeError.  Other possible values are 'ignore', 'replace' and\n",
            " |        'xmlcharrefreplace' as well as any other name registered with\n",
            " |        codecs.register_error that can handle UnicodeEncodeErrors.\n",
            " |  \n",
            " |  endswith(...)\n",
            " |      S.endswith(suffix[, start[, end]]) -> bool\n",
            " |      \n",
            " |      Return True if S ends with the specified suffix, False otherwise.\n",
            " |      With optional start, test S beginning at that position.\n",
            " |      With optional end, stop comparing S at that position.\n",
            " |      suffix can also be a tuple of strings to try.\n",
            " |  \n",
            " |  expandtabs(self, /, tabsize=8)\n",
            " |      Return a copy where all tab characters are expanded using spaces.\n",
            " |      \n",
            " |      If tabsize is not given, a tab size of 8 characters is assumed.\n",
            " |  \n",
            " |  find(...)\n",
            " |      S.find(sub[, start[, end]]) -> int\n",
            " |      \n",
            " |      Return the lowest index in S where substring sub is found,\n",
            " |      such that sub is contained within S[start:end].  Optional\n",
            " |      arguments start and end are interpreted as in slice notation.\n",
            " |      \n",
            " |      Return -1 on failure.\n",
            " |  \n",
            " |  format(...)\n",
            " |      S.format(*args, **kwargs) -> str\n",
            " |      \n",
            " |      Return a formatted version of S, using substitutions from args and kwargs.\n",
            " |      The substitutions are identified by braces ('{' and '}').\n",
            " |  \n",
            " |  format_map(...)\n",
            " |      S.format_map(mapping) -> str\n",
            " |      \n",
            " |      Return a formatted version of S, using substitutions from mapping.\n",
            " |      The substitutions are identified by braces ('{' and '}').\n",
            " |  \n",
            " |  index(...)\n",
            " |      S.index(sub[, start[, end]]) -> int\n",
            " |      \n",
            " |      Return the lowest index in S where substring sub is found,\n",
            " |      such that sub is contained within S[start:end].  Optional\n",
            " |      arguments start and end are interpreted as in slice notation.\n",
            " |      \n",
            " |      Raises ValueError when the substring is not found.\n",
            " |  \n",
            " |  isalnum(self, /)\n",
            " |      Return True if the string is an alpha-numeric string, False otherwise.\n",
            " |      \n",
            " |      A string is alpha-numeric if all characters in the string are alpha-numeric and\n",
            " |      there is at least one character in the string.\n",
            " |  \n",
            " |  isalpha(self, /)\n",
            " |      Return True if the string is an alphabetic string, False otherwise.\n",
            " |      \n",
            " |      A string is alphabetic if all characters in the string are alphabetic and there\n",
            " |      is at least one character in the string.\n",
            " |  \n",
            " |  isascii(self, /)\n",
            " |      Return True if all characters in the string are ASCII, False otherwise.\n",
            " |      \n",
            " |      ASCII characters have code points in the range U+0000-U+007F.\n",
            " |      Empty string is ASCII too.\n",
            " |  \n",
            " |  isdecimal(self, /)\n",
            " |      Return True if the string is a decimal string, False otherwise.\n",
            " |      \n",
            " |      A string is a decimal string if all characters in the string are decimal and\n",
            " |      there is at least one character in the string.\n",
            " |  \n",
            " |  isdigit(self, /)\n",
            " |      Return True if the string is a digit string, False otherwise.\n",
            " |      \n",
            " |      A string is a digit string if all characters in the string are digits and there\n",
            " |      is at least one character in the string.\n",
            " |  \n",
            " |  isidentifier(self, /)\n",
            " |      Return True if the string is a valid Python identifier, False otherwise.\n",
            " |      \n",
            " |      Call keyword.iskeyword(s) to test whether string s is a reserved identifier,\n",
            " |      such as \"def\" or \"class\".\n",
            " |  \n",
            " |  islower(self, /)\n",
            " |      Return True if the string is a lowercase string, False otherwise.\n",
            " |      \n",
            " |      A string is lowercase if all cased characters in the string are lowercase and\n",
            " |      there is at least one cased character in the string.\n",
            " |  \n",
            " |  isnumeric(self, /)\n",
            " |      Return True if the string is a numeric string, False otherwise.\n",
            " |      \n",
            " |      A string is numeric if all characters in the string are numeric and there is at\n",
            " |      least one character in the string.\n",
            " |  \n",
            " |  isprintable(self, /)\n",
            " |      Return True if the string is printable, False otherwise.\n",
            " |      \n",
            " |      A string is printable if all of its characters are considered printable in\n",
            " |      repr() or if it is empty.\n",
            " |  \n",
            " |  isspace(self, /)\n",
            " |      Return True if the string is a whitespace string, False otherwise.\n",
            " |      \n",
            " |      A string is whitespace if all characters in the string are whitespace and there\n",
            " |      is at least one character in the string.\n",
            " |  \n",
            " |  istitle(self, /)\n",
            " |      Return True if the string is a title-cased string, False otherwise.\n",
            " |      \n",
            " |      In a title-cased string, upper- and title-case characters may only\n",
            " |      follow uncased characters and lowercase characters only cased ones.\n",
            " |  \n",
            " |  isupper(self, /)\n",
            " |      Return True if the string is an uppercase string, False otherwise.\n",
            " |      \n",
            " |      A string is uppercase if all cased characters in the string are uppercase and\n",
            " |      there is at least one cased character in the string.\n",
            " |  \n",
            " |  join(self, iterable, /)\n",
            " |      Concatenate any number of strings.\n",
            " |      \n",
            " |      The string whose method is called is inserted in between each given string.\n",
            " |      The result is returned as a new string.\n",
            " |      \n",
            " |      Example: '.'.join(['ab', 'pq', 'rs']) -> 'ab.pq.rs'\n",
            " |  \n",
            " |  ljust(self, width, fillchar=' ', /)\n",
            " |      Return a left-justified string of length width.\n",
            " |      \n",
            " |      Padding is done using the specified fill character (default is a space).\n",
            " |  \n",
            " |  lower(self, /)\n",
            " |      Return a copy of the string converted to lowercase.\n",
            " |  \n",
            " |  lstrip(self, chars=None, /)\n",
            " |      Return a copy of the string with leading whitespace removed.\n",
            " |      \n",
            " |      If chars is given and not None, remove characters in chars instead.\n",
            " |  \n",
            " |  partition(self, sep, /)\n",
            " |      Partition the string into three parts using the given separator.\n",
            " |      \n",
            " |      This will search for the separator in the string.  If the separator is found,\n",
            " |      returns a 3-tuple containing the part before the separator, the separator\n",
            " |      itself, and the part after it.\n",
            " |      \n",
            " |      If the separator is not found, returns a 3-tuple containing the original string\n",
            " |      and two empty strings.\n",
            " |  \n",
            " |  removeprefix(self, prefix, /)\n",
            " |      Return a str with the given prefix string removed if present.\n",
            " |      \n",
            " |      If the string starts with the prefix string, return string[len(prefix):].\n",
            " |      Otherwise, return a copy of the original string.\n",
            " |  \n",
            " |  removesuffix(self, suffix, /)\n",
            " |      Return a str with the given suffix string removed if present.\n",
            " |      \n",
            " |      If the string ends with the suffix string and that suffix is not empty,\n",
            " |      return string[:-len(suffix)]. Otherwise, return a copy of the original\n",
            " |      string.\n",
            " |  \n",
            " |  replace(self, old, new, count=-1, /)\n",
            " |      Return a copy with all occurrences of substring old replaced by new.\n",
            " |      \n",
            " |        count\n",
            " |          Maximum number of occurrences to replace.\n",
            " |          -1 (the default value) means replace all occurrences.\n",
            " |      \n",
            " |      If the optional argument count is given, only the first count occurrences are\n",
            " |      replaced.\n",
            " |  \n",
            " |  rfind(...)\n",
            " |      S.rfind(sub[, start[, end]]) -> int\n",
            " |      \n",
            " |      Return the highest index in S where substring sub is found,\n",
            " |      such that sub is contained within S[start:end].  Optional\n",
            " |      arguments start and end are interpreted as in slice notation.\n",
            " |      \n",
            " |      Return -1 on failure.\n",
            " |  \n",
            " |  rindex(...)\n",
            " |      S.rindex(sub[, start[, end]]) -> int\n",
            " |      \n",
            " |      Return the highest index in S where substring sub is found,\n",
            " |      such that sub is contained within S[start:end].  Optional\n",
            " |      arguments start and end are interpreted as in slice notation.\n",
            " |      \n",
            " |      Raises ValueError when the substring is not found.\n",
            " |  \n",
            " |  rjust(self, width, fillchar=' ', /)\n",
            " |      Return a right-justified string of length width.\n",
            " |      \n",
            " |      Padding is done using the specified fill character (default is a space).\n",
            " |  \n",
            " |  rpartition(self, sep, /)\n",
            " |      Partition the string into three parts using the given separator.\n",
            " |      \n",
            " |      This will search for the separator in the string, starting at the end. If\n",
            " |      the separator is found, returns a 3-tuple containing the part before the\n",
            " |      separator, the separator itself, and the part after it.\n",
            " |      \n",
            " |      If the separator is not found, returns a 3-tuple containing two empty strings\n",
            " |      and the original string.\n",
            " |  \n",
            " |  rsplit(self, /, sep=None, maxsplit=-1)\n",
            " |      Return a list of the words in the string, using sep as the delimiter string.\n",
            " |      \n",
            " |        sep\n",
            " |          The delimiter according which to split the string.\n",
            " |          None (the default value) means split according to any whitespace,\n",
            " |          and discard empty strings from the result.\n",
            " |        maxsplit\n",
            " |          Maximum number of splits to do.\n",
            " |          -1 (the default value) means no limit.\n",
            " |      \n",
            " |      Splits are done starting at the end of the string and working to the front.\n",
            " |  \n",
            " |  rstrip(self, chars=None, /)\n",
            " |      Return a copy of the string with trailing whitespace removed.\n",
            " |      \n",
            " |      If chars is given and not None, remove characters in chars instead.\n",
            " |  \n",
            " |  split(self, /, sep=None, maxsplit=-1)\n",
            " |      Return a list of the words in the string, using sep as the delimiter string.\n",
            " |      \n",
            " |      sep\n",
            " |        The delimiter according which to split the string.\n",
            " |        None (the default value) means split according to any whitespace,\n",
            " |        and discard empty strings from the result.\n",
            " |      maxsplit\n",
            " |        Maximum number of splits to do.\n",
            " |        -1 (the default value) means no limit.\n",
            " |  \n",
            " |  splitlines(self, /, keepends=False)\n",
            " |      Return a list of the lines in the string, breaking at line boundaries.\n",
            " |      \n",
            " |      Line breaks are not included in the resulting list unless keepends is given and\n",
            " |      true.\n",
            " |  \n",
            " |  startswith(...)\n",
            " |      S.startswith(prefix[, start[, end]]) -> bool\n",
            " |      \n",
            " |      Return True if S starts with the specified prefix, False otherwise.\n",
            " |      With optional start, test S beginning at that position.\n",
            " |      With optional end, stop comparing S at that position.\n",
            " |      prefix can also be a tuple of strings to try.\n",
            " |  \n",
            " |  strip(self, chars=None, /)\n",
            " |      Return a copy of the string with leading and trailing whitespace removed.\n",
            " |      \n",
            " |      If chars is given and not None, remove characters in chars instead.\n",
            " |  \n",
            " |  swapcase(self, /)\n",
            " |      Convert uppercase characters to lowercase and lowercase characters to uppercase.\n",
            " |  \n",
            " |  title(self, /)\n",
            " |      Return a version of the string where each word is titlecased.\n",
            " |      \n",
            " |      More specifically, words start with uppercased characters and all remaining\n",
            " |      cased characters have lower case.\n",
            " |  \n",
            " |  translate(self, table, /)\n",
            " |      Replace each character in the string using the given translation table.\n",
            " |      \n",
            " |        table\n",
            " |          Translation table, which must be a mapping of Unicode ordinals to\n",
            " |          Unicode ordinals, strings, or None.\n",
            " |      \n",
            " |      The table must implement lookup/indexing via __getitem__, for instance a\n",
            " |      dictionary or list.  If this operation raises LookupError, the character is\n",
            " |      left untouched.  Characters mapped to None are deleted.\n",
            " |  \n",
            " |  upper(self, /)\n",
            " |      Return a copy of the string converted to uppercase.\n",
            " |  \n",
            " |  zfill(self, width, /)\n",
            " |      Pad a numeric string with zeros on the left, to fill a field of the given width.\n",
            " |      \n",
            " |      The string is never truncated.\n",
            " |  \n",
            " |  ----------------------------------------------------------------------\n",
            " |  Static methods defined here:\n",
            " |  \n",
            " |  __new__(*args, **kwargs) from builtins.type\n",
            " |      Create and return a new object.  See help(type) for accurate signature.\n",
            " |  \n",
            " |  maketrans(...)\n",
            " |      Return a translation table usable for str.translate().\n",
            " |      \n",
            " |      If there is only one argument, it must be a dictionary mapping Unicode\n",
            " |      ordinals (integers) or characters to Unicode ordinals, strings or None.\n",
            " |      Character keys will be then converted to ordinals.\n",
            " |      If there are two arguments, they must be strings of equal length, and\n",
            " |      in the resulting dictionary, each character in x will be mapped to the\n",
            " |      character at the same position in y. If there is a third argument, it\n",
            " |      must be a string, whose characters will be mapped to None in the result.\n",
            "\n"
          ]
        }
      ],
      "source": [
        "help(str)  # str is class"
      ]
    },
    {
      "cell_type": "code",
      "execution_count": null,
      "id": "f3d3ae81",
      "metadata": {
        "id": "f3d3ae81",
        "outputId": "894ce204-d092-4e90-da8f-ca28bcb98c0f"
      },
      "outputs": [
        {
          "name": "stdout",
          "output_type": "stream",
          "text": [
            "['__add__', '__class__', '__contains__', '__delattr__', '__dir__', '__doc__', '__eq__', '__format__', '__ge__', '__getattribute__', '__getitem__', '__getnewargs__', '__gt__', '__hash__', '__init__', '__init_subclass__', '__iter__', '__le__', '__len__', '__lt__', '__mod__', '__mul__', '__ne__', '__new__', '__reduce__', '__reduce_ex__', '__repr__', '__rmod__', '__rmul__', '__setattr__', '__sizeof__', '__str__', '__subclasshook__', 'capitalize', 'casefold', 'center', 'count', 'encode', 'endswith', 'expandtabs', 'find', 'format', 'format_map', 'index', 'isalnum', 'isalpha', 'isascii', 'isdecimal', 'isdigit', 'isidentifier', 'islower', 'isnumeric', 'isprintable', 'isspace', 'istitle', 'isupper', 'join', 'ljust', 'lower', 'lstrip', 'maketrans', 'partition', 'removeprefix', 'removesuffix', 'replace', 'rfind', 'rindex', 'rjust', 'rpartition', 'rsplit', 'rstrip', 'split', 'splitlines', 'startswith', 'strip', 'swapcase', 'title', 'translate', 'upper', 'zfill']\n"
          ]
        }
      ],
      "source": [
        "# str - string class'ının \n",
        "# attribute'larını  (python variable - class içinde attribute) ve \n",
        "# method'larını     (python fonksiyonlar - class içinde metod) gösterir.\n",
        "print(dir(str))"
      ]
    },
    {
      "cell_type": "code",
      "execution_count": null,
      "id": "552e81c1",
      "metadata": {
        "id": "552e81c1",
        "outputId": "04e13469-87b6-4110-b465-64cb6a82bcca"
      },
      "outputs": [
        {
          "name": "stdout",
          "output_type": "stream",
          "text": [
            "Help on class str in module builtins:\n",
            "\n",
            "class str(object)\n",
            " |  str(object='') -> str\n",
            " |  str(bytes_or_buffer[, encoding[, errors]]) -> str\n",
            " |  \n",
            " |  Create a new string object from the given object. If encoding or\n",
            " |  errors is specified, then the object must expose a data buffer\n",
            " |  that will be decoded using the given encoding and error handler.\n",
            " |  Otherwise, returns the result of object.__str__() (if defined)\n",
            " |  or repr(object).\n",
            " |  encoding defaults to sys.getdefaultencoding().\n",
            " |  errors defaults to 'strict'.\n",
            " |  \n",
            " |  Methods defined here:\n",
            " |  \n",
            " |  __add__(self, value, /)\n",
            " |      Return self+value.\n",
            " |  \n",
            " |  __contains__(self, key, /)\n",
            " |      Return key in self.\n",
            " |  \n",
            " |  __eq__(self, value, /)\n",
            " |      Return self==value.\n",
            " |  \n",
            " |  __format__(self, format_spec, /)\n",
            " |      Return a formatted version of the string as described by format_spec.\n",
            " |  \n",
            " |  __ge__(self, value, /)\n",
            " |      Return self>=value.\n",
            " |  \n",
            " |  __getattribute__(self, name, /)\n",
            " |      Return getattr(self, name).\n",
            " |  \n",
            " |  __getitem__(self, key, /)\n",
            " |      Return self[key].\n",
            " |  \n",
            " |  __getnewargs__(...)\n",
            " |  \n",
            " |  __gt__(self, value, /)\n",
            " |      Return self>value.\n",
            " |  \n",
            " |  __hash__(self, /)\n",
            " |      Return hash(self).\n",
            " |  \n",
            " |  __iter__(self, /)\n",
            " |      Implement iter(self).\n",
            " |  \n",
            " |  __le__(self, value, /)\n",
            " |      Return self<=value.\n",
            " |  \n",
            " |  __len__(self, /)\n",
            " |      Return len(self).\n",
            " |  \n",
            " |  __lt__(self, value, /)\n",
            " |      Return self<value.\n",
            " |  \n",
            " |  __mod__(self, value, /)\n",
            " |      Return self%value.\n",
            " |  \n",
            " |  __mul__(self, value, /)\n",
            " |      Return self*value.\n",
            " |  \n",
            " |  __ne__(self, value, /)\n",
            " |      Return self!=value.\n",
            " |  \n",
            " |  __repr__(self, /)\n",
            " |      Return repr(self).\n",
            " |  \n",
            " |  __rmod__(self, value, /)\n",
            " |      Return value%self.\n",
            " |  \n",
            " |  __rmul__(self, value, /)\n",
            " |      Return value*self.\n",
            " |  \n",
            " |  __sizeof__(self, /)\n",
            " |      Return the size of the string in memory, in bytes.\n",
            " |  \n",
            " |  __str__(self, /)\n",
            " |      Return str(self).\n",
            " |  \n",
            " |  capitalize(self, /)\n",
            " |      Return a capitalized version of the string.\n",
            " |      \n",
            " |      More specifically, make the first character have upper case and the rest lower\n",
            " |      case.\n",
            " |  \n",
            " |  casefold(self, /)\n",
            " |      Return a version of the string suitable for caseless comparisons.\n",
            " |  \n",
            " |  center(self, width, fillchar=' ', /)\n",
            " |      Return a centered string of length width.\n",
            " |      \n",
            " |      Padding is done using the specified fill character (default is a space).\n",
            " |  \n",
            " |  count(...)\n",
            " |      S.count(sub[, start[, end]]) -> int\n",
            " |      \n",
            " |      Return the number of non-overlapping occurrences of substring sub in\n",
            " |      string S[start:end].  Optional arguments start and end are\n",
            " |      interpreted as in slice notation.\n",
            " |  \n",
            " |  encode(self, /, encoding='utf-8', errors='strict')\n",
            " |      Encode the string using the codec registered for encoding.\n",
            " |      \n",
            " |      encoding\n",
            " |        The encoding in which to encode the string.\n",
            " |      errors\n",
            " |        The error handling scheme to use for encoding errors.\n",
            " |        The default is 'strict' meaning that encoding errors raise a\n",
            " |        UnicodeEncodeError.  Other possible values are 'ignore', 'replace' and\n",
            " |        'xmlcharrefreplace' as well as any other name registered with\n",
            " |        codecs.register_error that can handle UnicodeEncodeErrors.\n",
            " |  \n",
            " |  endswith(...)\n",
            " |      S.endswith(suffix[, start[, end]]) -> bool\n",
            " |      \n",
            " |      Return True if S ends with the specified suffix, False otherwise.\n",
            " |      With optional start, test S beginning at that position.\n",
            " |      With optional end, stop comparing S at that position.\n",
            " |      suffix can also be a tuple of strings to try.\n",
            " |  \n",
            " |  expandtabs(self, /, tabsize=8)\n",
            " |      Return a copy where all tab characters are expanded using spaces.\n",
            " |      \n",
            " |      If tabsize is not given, a tab size of 8 characters is assumed.\n",
            " |  \n",
            " |  find(...)\n",
            " |      S.find(sub[, start[, end]]) -> int\n",
            " |      \n",
            " |      Return the lowest index in S where substring sub is found,\n",
            " |      such that sub is contained within S[start:end].  Optional\n",
            " |      arguments start and end are interpreted as in slice notation.\n",
            " |      \n",
            " |      Return -1 on failure.\n",
            " |  \n",
            " |  format(...)\n",
            " |      S.format(*args, **kwargs) -> str\n",
            " |      \n",
            " |      Return a formatted version of S, using substitutions from args and kwargs.\n",
            " |      The substitutions are identified by braces ('{' and '}').\n",
            " |  \n",
            " |  format_map(...)\n",
            " |      S.format_map(mapping) -> str\n",
            " |      \n",
            " |      Return a formatted version of S, using substitutions from mapping.\n",
            " |      The substitutions are identified by braces ('{' and '}').\n",
            " |  \n",
            " |  index(...)\n",
            " |      S.index(sub[, start[, end]]) -> int\n",
            " |      \n",
            " |      Return the lowest index in S where substring sub is found,\n",
            " |      such that sub is contained within S[start:end].  Optional\n",
            " |      arguments start and end are interpreted as in slice notation.\n",
            " |      \n",
            " |      Raises ValueError when the substring is not found.\n",
            " |  \n",
            " |  isalnum(self, /)\n",
            " |      Return True if the string is an alpha-numeric string, False otherwise.\n",
            " |      \n",
            " |      A string is alpha-numeric if all characters in the string are alpha-numeric and\n",
            " |      there is at least one character in the string.\n",
            " |  \n",
            " |  isalpha(self, /)\n",
            " |      Return True if the string is an alphabetic string, False otherwise.\n",
            " |      \n",
            " |      A string is alphabetic if all characters in the string are alphabetic and there\n",
            " |      is at least one character in the string.\n",
            " |  \n",
            " |  isascii(self, /)\n",
            " |      Return True if all characters in the string are ASCII, False otherwise.\n",
            " |      \n",
            " |      ASCII characters have code points in the range U+0000-U+007F.\n",
            " |      Empty string is ASCII too.\n",
            " |  \n",
            " |  isdecimal(self, /)\n",
            " |      Return True if the string is a decimal string, False otherwise.\n",
            " |      \n",
            " |      A string is a decimal string if all characters in the string are decimal and\n",
            " |      there is at least one character in the string.\n",
            " |  \n",
            " |  isdigit(self, /)\n",
            " |      Return True if the string is a digit string, False otherwise.\n",
            " |      \n",
            " |      A string is a digit string if all characters in the string are digits and there\n",
            " |      is at least one character in the string.\n",
            " |  \n",
            " |  isidentifier(self, /)\n",
            " |      Return True if the string is a valid Python identifier, False otherwise.\n",
            " |      \n",
            " |      Call keyword.iskeyword(s) to test whether string s is a reserved identifier,\n",
            " |      such as \"def\" or \"class\".\n",
            " |  \n",
            " |  islower(self, /)\n",
            " |      Return True if the string is a lowercase string, False otherwise.\n",
            " |      \n",
            " |      A string is lowercase if all cased characters in the string are lowercase and\n",
            " |      there is at least one cased character in the string.\n",
            " |  \n",
            " |  isnumeric(self, /)\n",
            " |      Return True if the string is a numeric string, False otherwise.\n",
            " |      \n",
            " |      A string is numeric if all characters in the string are numeric and there is at\n",
            " |      least one character in the string.\n",
            " |  \n",
            " |  isprintable(self, /)\n",
            " |      Return True if the string is printable, False otherwise.\n",
            " |      \n",
            " |      A string is printable if all of its characters are considered printable in\n",
            " |      repr() or if it is empty.\n",
            " |  \n",
            " |  isspace(self, /)\n",
            " |      Return True if the string is a whitespace string, False otherwise.\n",
            " |      \n",
            " |      A string is whitespace if all characters in the string are whitespace and there\n",
            " |      is at least one character in the string.\n",
            " |  \n",
            " |  istitle(self, /)\n",
            " |      Return True if the string is a title-cased string, False otherwise.\n",
            " |      \n",
            " |      In a title-cased string, upper- and title-case characters may only\n",
            " |      follow uncased characters and lowercase characters only cased ones.\n",
            " |  \n",
            " |  isupper(self, /)\n",
            " |      Return True if the string is an uppercase string, False otherwise.\n",
            " |      \n",
            " |      A string is uppercase if all cased characters in the string are uppercase and\n",
            " |      there is at least one cased character in the string.\n",
            " |  \n",
            " |  join(self, iterable, /)\n",
            " |      Concatenate any number of strings.\n",
            " |      \n",
            " |      The string whose method is called is inserted in between each given string.\n",
            " |      The result is returned as a new string.\n",
            " |      \n",
            " |      Example: '.'.join(['ab', 'pq', 'rs']) -> 'ab.pq.rs'\n",
            " |  \n",
            " |  ljust(self, width, fillchar=' ', /)\n",
            " |      Return a left-justified string of length width.\n",
            " |      \n",
            " |      Padding is done using the specified fill character (default is a space).\n",
            " |  \n",
            " |  lower(self, /)\n",
            " |      Return a copy of the string converted to lowercase.\n",
            " |  \n",
            " |  lstrip(self, chars=None, /)\n",
            " |      Return a copy of the string with leading whitespace removed.\n",
            " |      \n",
            " |      If chars is given and not None, remove characters in chars instead.\n",
            " |  \n",
            " |  partition(self, sep, /)\n",
            " |      Partition the string into three parts using the given separator.\n",
            " |      \n",
            " |      This will search for the separator in the string.  If the separator is found,\n",
            " |      returns a 3-tuple containing the part before the separator, the separator\n",
            " |      itself, and the part after it.\n",
            " |      \n",
            " |      If the separator is not found, returns a 3-tuple containing the original string\n",
            " |      and two empty strings.\n",
            " |  \n",
            " |  removeprefix(self, prefix, /)\n",
            " |      Return a str with the given prefix string removed if present.\n",
            " |      \n",
            " |      If the string starts with the prefix string, return string[len(prefix):].\n",
            " |      Otherwise, return a copy of the original string.\n",
            " |  \n",
            " |  removesuffix(self, suffix, /)\n",
            " |      Return a str with the given suffix string removed if present.\n",
            " |      \n",
            " |      If the string ends with the suffix string and that suffix is not empty,\n",
            " |      return string[:-len(suffix)]. Otherwise, return a copy of the original\n",
            " |      string.\n",
            " |  \n",
            " |  replace(self, old, new, count=-1, /)\n",
            " |      Return a copy with all occurrences of substring old replaced by new.\n",
            " |      \n",
            " |        count\n",
            " |          Maximum number of occurrences to replace.\n",
            " |          -1 (the default value) means replace all occurrences.\n",
            " |      \n",
            " |      If the optional argument count is given, only the first count occurrences are\n",
            " |      replaced.\n",
            " |  \n",
            " |  rfind(...)\n",
            " |      S.rfind(sub[, start[, end]]) -> int\n",
            " |      \n",
            " |      Return the highest index in S where substring sub is found,\n",
            " |      such that sub is contained within S[start:end].  Optional\n",
            " |      arguments start and end are interpreted as in slice notation.\n",
            " |      \n",
            " |      Return -1 on failure.\n",
            " |  \n",
            " |  rindex(...)\n",
            " |      S.rindex(sub[, start[, end]]) -> int\n",
            " |      \n",
            " |      Return the highest index in S where substring sub is found,\n",
            " |      such that sub is contained within S[start:end].  Optional\n",
            " |      arguments start and end are interpreted as in slice notation.\n",
            " |      \n",
            " |      Raises ValueError when the substring is not found.\n",
            " |  \n",
            " |  rjust(self, width, fillchar=' ', /)\n",
            " |      Return a right-justified string of length width.\n",
            " |      \n",
            " |      Padding is done using the specified fill character (default is a space).\n",
            " |  \n",
            " |  rpartition(self, sep, /)\n",
            " |      Partition the string into three parts using the given separator.\n",
            " |      \n",
            " |      This will search for the separator in the string, starting at the end. If\n",
            " |      the separator is found, returns a 3-tuple containing the part before the\n",
            " |      separator, the separator itself, and the part after it.\n",
            " |      \n",
            " |      If the separator is not found, returns a 3-tuple containing two empty strings\n",
            " |      and the original string.\n",
            " |  \n",
            " |  rsplit(self, /, sep=None, maxsplit=-1)\n",
            " |      Return a list of the words in the string, using sep as the delimiter string.\n",
            " |      \n",
            " |        sep\n",
            " |          The delimiter according which to split the string.\n",
            " |          None (the default value) means split according to any whitespace,\n",
            " |          and discard empty strings from the result.\n",
            " |        maxsplit\n",
            " |          Maximum number of splits to do.\n",
            " |          -1 (the default value) means no limit.\n",
            " |      \n",
            " |      Splits are done starting at the end of the string and working to the front.\n",
            " |  \n",
            " |  rstrip(self, chars=None, /)\n",
            " |      Return a copy of the string with trailing whitespace removed.\n",
            " |      \n",
            " |      If chars is given and not None, remove characters in chars instead.\n",
            " |  \n",
            " |  split(self, /, sep=None, maxsplit=-1)\n",
            " |      Return a list of the words in the string, using sep as the delimiter string.\n",
            " |      \n",
            " |      sep\n",
            " |        The delimiter according which to split the string.\n",
            " |        None (the default value) means split according to any whitespace,\n",
            " |        and discard empty strings from the result.\n",
            " |      maxsplit\n",
            " |        Maximum number of splits to do.\n",
            " |        -1 (the default value) means no limit.\n",
            " |  \n",
            " |  splitlines(self, /, keepends=False)\n",
            " |      Return a list of the lines in the string, breaking at line boundaries.\n",
            " |      \n",
            " |      Line breaks are not included in the resulting list unless keepends is given and\n",
            " |      true.\n",
            " |  \n",
            " |  startswith(...)\n",
            " |      S.startswith(prefix[, start[, end]]) -> bool\n",
            " |      \n",
            " |      Return True if S starts with the specified prefix, False otherwise.\n",
            " |      With optional start, test S beginning at that position.\n",
            " |      With optional end, stop comparing S at that position.\n",
            " |      prefix can also be a tuple of strings to try.\n",
            " |  \n",
            " |  strip(self, chars=None, /)\n",
            " |      Return a copy of the string with leading and trailing whitespace removed.\n",
            " |      \n",
            " |      If chars is given and not None, remove characters in chars instead.\n",
            " |  \n",
            " |  swapcase(self, /)\n",
            " |      Convert uppercase characters to lowercase and lowercase characters to uppercase.\n",
            " |  \n",
            " |  title(self, /)\n",
            " |      Return a version of the string where each word is titlecased.\n",
            " |      \n",
            " |      More specifically, words start with uppercased characters and all remaining\n",
            " |      cased characters have lower case.\n",
            " |  \n",
            " |  translate(self, table, /)\n",
            " |      Replace each character in the string using the given translation table.\n",
            " |      \n",
            " |        table\n",
            " |          Translation table, which must be a mapping of Unicode ordinals to\n",
            " |          Unicode ordinals, strings, or None.\n",
            " |      \n",
            " |      The table must implement lookup/indexing via __getitem__, for instance a\n",
            " |      dictionary or list.  If this operation raises LookupError, the character is\n",
            " |      left untouched.  Characters mapped to None are deleted.\n",
            " |  \n",
            " |  upper(self, /)\n",
            " |      Return a copy of the string converted to uppercase.\n",
            " |  \n",
            " |  zfill(self, width, /)\n",
            " |      Pad a numeric string with zeros on the left, to fill a field of the given width.\n",
            " |      \n",
            " |      The string is never truncated.\n",
            " |  \n",
            " |  ----------------------------------------------------------------------\n",
            " |  Static methods defined here:\n",
            " |  \n",
            " |  __new__(*args, **kwargs) from builtins.type\n",
            " |      Create and return a new object.  See help(type) for accurate signature.\n",
            " |  \n",
            " |  maketrans(...)\n",
            " |      Return a translation table usable for str.translate().\n",
            " |      \n",
            " |      If there is only one argument, it must be a dictionary mapping Unicode\n",
            " |      ordinals (integers) or characters to Unicode ordinals, strings or None.\n",
            " |      Character keys will be then converted to ordinals.\n",
            " |      If there are two arguments, they must be strings of equal length, and\n",
            " |      in the resulting dictionary, each character in x will be mapped to the\n",
            " |      character at the same position in y. If there is a third argument, it\n",
            " |      must be a string, whose characters will be mapped to None in the result.\n",
            "\n"
          ]
        }
      ],
      "source": [
        "help(str.__name__)"
      ]
    },
    {
      "cell_type": "code",
      "execution_count": null,
      "id": "754a2cf2",
      "metadata": {
        "id": "754a2cf2",
        "outputId": "29c2d740-455c-4875-e76d-9c21f004fe29"
      },
      "outputs": [
        {
          "name": "stdout",
          "output_type": "stream",
          "text": [
            "Help on method_descriptor:\n",
            "\n",
            "capitalize(self, /)\n",
            "    Return a capitalized version of the string.\n",
            "    \n",
            "    More specifically, make the first character have upper case and the rest lower\n",
            "    case.\n",
            "\n"
          ]
        }
      ],
      "source": [
        "help(str.capitalize)"
      ]
    },
    {
      "cell_type": "code",
      "execution_count": null,
      "id": "088844dc",
      "metadata": {
        "id": "088844dc"
      },
      "outputs": [],
      "source": [
        ""
      ]
    },
    {
      "cell_type": "markdown",
      "id": "852806f7",
      "metadata": {
        "id": "852806f7"
      },
      "source": [
        "# list of Build in Functions"
      ]
    },
    {
      "cell_type": "code",
      "execution_count": null,
      "id": "0095a85b",
      "metadata": {
        "id": "0095a85b",
        "outputId": "ea650e45-fb8b-42c9-eae9-44ed5b598d1c"
      },
      "outputs": [
        {
          "name": "stdout",
          "output_type": "stream",
          "text": [
            "['ArithmeticError', 'AssertionError', 'AttributeError', 'BaseException', 'BlockingIOError', 'BrokenPipeError', 'BufferError', 'BytesWarning', 'ChildProcessError', 'ConnectionAbortedError', 'ConnectionError', 'ConnectionRefusedError', 'ConnectionResetError', 'DeprecationWarning', 'EOFError', 'Ellipsis', 'EncodingWarning', 'EnvironmentError', 'Exception', 'False', 'FileExistsError', 'FileNotFoundError', 'FloatingPointError', 'FutureWarning', 'GeneratorExit', 'IOError', 'ImportError', 'ImportWarning', 'IndentationError', 'IndexError', 'InterruptedError', 'IsADirectoryError', 'KeyError', 'KeyboardInterrupt', 'LookupError', 'MemoryError', 'ModuleNotFoundError', 'NameError', 'None', 'NotADirectoryError', 'NotImplemented', 'NotImplementedError', 'OSError', 'OverflowError', 'PendingDeprecationWarning', 'PermissionError', 'ProcessLookupError', 'RecursionError', 'ReferenceError', 'ResourceWarning', 'RuntimeError', 'RuntimeWarning', 'StopAsyncIteration', 'StopIteration', 'SyntaxError', 'SyntaxWarning', 'SystemError', 'SystemExit', 'TabError', 'TimeoutError', 'True', 'TypeError', 'UnboundLocalError', 'UnicodeDecodeError', 'UnicodeEncodeError', 'UnicodeError', 'UnicodeTranslateError', 'UnicodeWarning', 'UserWarning', 'ValueError', 'Warning', 'WindowsError', 'ZeroDivisionError', '__IPYTHON__', '__build_class__', '__debug__', '__doc__', '__import__', '__loader__', '__name__', '__package__', '__spec__', 'abs', 'aiter', 'all', 'anext', 'any', 'ascii', 'bin', 'bool', 'breakpoint', 'bytearray', 'bytes', 'callable', 'chr', 'classmethod', 'compile', 'complex', 'copyright', 'credits', 'delattr', 'dict', 'dir', 'display', 'divmod', 'enumerate', 'eval', 'exec', 'execfile', 'filter', 'float', 'format', 'frozenset', 'get_ipython', 'getattr', 'globals', 'hasattr', 'hash', 'help', 'hex', 'id', 'input', 'int', 'isinstance', 'issubclass', 'iter', 'len', 'license', 'list', 'locals', 'map', 'max', 'memoryview', 'min', 'next', 'object', 'oct', 'open', 'ord', 'pow', 'print', 'property', 'range', 'repr', 'reversed', 'round', 'runfile', 'set', 'setattr', 'slice', 'sorted', 'staticmethod', 'str', 'sum', 'super', 'tuple', 'type', 'vars', 'zip']\n"
          ]
        }
      ],
      "source": [
        "print(dir(__builtins__))"
      ]
    },
    {
      "cell_type": "code",
      "execution_count": null,
      "id": "350f80a1",
      "metadata": {
        "id": "350f80a1"
      },
      "outputs": [],
      "source": [
        ""
      ]
    },
    {
      "cell_type": "markdown",
      "id": "7a080cb3",
      "metadata": {
        "id": "7a080cb3"
      },
      "source": [
        "# Print lists in Python (4 Different Ways Line by Line)"
      ]
    },
    {
      "cell_type": "code",
      "execution_count": null,
      "id": "702492e7",
      "metadata": {
        "id": "702492e7",
        "outputId": "0e536750-5b82-4a3a-bf2d-742c444b4486"
      },
      "outputs": [
        {
          "data": {
            "text/plain": [
              "[11, 45, 8, 11, 23, 45, 23, 45, 89]"
            ]
          },
          "execution_count": 1,
          "metadata": {},
          "output_type": "execute_result"
        }
      ],
      "source": [
        "liste = [11, 45, 8, 11, 23, 45, 23, 45, 89]\n",
        "liste"
      ]
    },
    {
      "cell_type": "code",
      "execution_count": null,
      "id": "d0c2e4ae",
      "metadata": {
        "id": "d0c2e4ae",
        "outputId": "721b620a-39a2-45b6-b34a-b63b16b7e742"
      },
      "outputs": [
        {
          "name": "stdout",
          "output_type": "stream",
          "text": [
            "[11, 45, 8, 11, 23, 45, 23, 45, 89]\n"
          ]
        }
      ],
      "source": [
        "print(liste)"
      ]
    },
    {
      "cell_type": "code",
      "execution_count": null,
      "id": "b76a9659",
      "metadata": {
        "id": "b76a9659"
      },
      "outputs": [],
      "source": [
        ""
      ]
    },
    {
      "cell_type": "markdown",
      "id": "67faac1b",
      "metadata": {
        "id": "67faac1b"
      },
      "source": [
        "## Using for loop :  write line by line"
      ]
    },
    {
      "cell_type": "code",
      "execution_count": null,
      "id": "d36164e1",
      "metadata": {
        "id": "d36164e1",
        "outputId": "9874a88d-2120-464c-a7f4-eaac8ba020e6"
      },
      "outputs": [
        {
          "name": "stdout",
          "output_type": "stream",
          "text": [
            "11\n",
            "45\n",
            "8\n",
            "11\n",
            "23\n",
            "45\n",
            "23\n",
            "45\n",
            "89\n"
          ]
        }
      ],
      "source": [
        "for x in range(len(liste)):\n",
        "    print(liste[x])"
      ]
    },
    {
      "cell_type": "code",
      "execution_count": null,
      "id": "c2b7ca2f",
      "metadata": {
        "id": "c2b7ca2f",
        "outputId": "99181c3b-09bd-49fc-9100-db6afcd1be15"
      },
      "outputs": [
        {
          "name": "stdout",
          "output_type": "stream",
          "text": [
            "11\n",
            "8\n",
            "23\n",
            "23\n"
          ]
        }
      ],
      "source": [
        "for x in range(len(liste)//2):\n",
        "    print(liste[x*2])"
      ]
    },
    {
      "cell_type": "markdown",
      "id": "c9e68773",
      "metadata": {
        "id": "c9e68773"
      },
      "source": [
        "## Without using loops: * symbol  :  write line by line"
      ]
    },
    {
      "cell_type": "code",
      "execution_count": null,
      "id": "02e431d5",
      "metadata": {
        "id": "02e431d5"
      },
      "outputs": [],
      "source": [
        "liste = [11, 45, 8, 11, 23, 45, 23, 45, 89]"
      ]
    },
    {
      "cell_type": "code",
      "execution_count": null,
      "id": "5ee901e8",
      "metadata": {
        "id": "5ee901e8",
        "outputId": "b72046e0-888a-4944-afd5-c89f4459de84"
      },
      "outputs": [
        {
          "ename": "SyntaxError",
          "evalue": "can't use starred expression here (102785490.py, line 1)",
          "output_type": "error",
          "traceback": [
            "\u001b[1;36m  Input \u001b[1;32mIn [8]\u001b[1;36m\u001b[0m\n\u001b[1;33m    *liste\u001b[0m\n\u001b[1;37m    ^\u001b[0m\n\u001b[1;31mSyntaxError\u001b[0m\u001b[1;31m:\u001b[0m can't use starred expression here\n"
          ]
        }
      ],
      "source": [
        "*liste"
      ]
    },
    {
      "cell_type": "code",
      "execution_count": null,
      "id": "a456c957",
      "metadata": {
        "id": "a456c957",
        "outputId": "68b17ac7-cb19-4fcb-e1d4-47e2c6810ad0"
      },
      "outputs": [
        {
          "name": "stdout",
          "output_type": "stream",
          "text": [
            "11 45 8 11 23 45 23 45 89\n"
          ]
        }
      ],
      "source": [
        "print(*liste)"
      ]
    },
    {
      "cell_type": "code",
      "execution_count": null,
      "id": "071316b1",
      "metadata": {
        "id": "071316b1",
        "outputId": "2eab8380-c19e-4b68-fa06-9ceb03933a8a"
      },
      "outputs": [
        {
          "name": "stdout",
          "output_type": "stream",
          "text": [
            "11 45 8 11 23 45 23 45 89\n"
          ]
        }
      ],
      "source": [
        "print(11, 45, 8, 11, 23, 45, 23, 45, 89)"
      ]
    },
    {
      "cell_type": "code",
      "execution_count": null,
      "id": "3ddd430b",
      "metadata": {
        "id": "3ddd430b",
        "outputId": "e6527012-d236-4e1d-b31d-a5ec054163fc"
      },
      "outputs": [
        {
          "name": "stdout",
          "output_type": "stream",
          "text": [
            "11\n",
            "45\n",
            "8\n",
            "11\n",
            "23\n",
            "45\n",
            "23\n",
            "45\n",
            "89\n"
          ]
        }
      ],
      "source": [
        "print(11, 45, 8, 11, 23, 45, 23, 45, 89, sep='\\n')"
      ]
    },
    {
      "cell_type": "code",
      "execution_count": null,
      "id": "338a3453",
      "metadata": {
        "id": "338a3453",
        "outputId": "f3c5c72b-795b-4d21-ebb0-342f5acf0737"
      },
      "outputs": [
        {
          "name": "stdout",
          "output_type": "stream",
          "text": [
            "11\n",
            "45\n",
            "8\n",
            "11\n",
            "23\n",
            "45\n",
            "23\n",
            "45\n",
            "89\n"
          ]
        }
      ],
      "source": [
        "print(*liste, sep='\\n')"
      ]
    },
    {
      "cell_type": "code",
      "execution_count": null,
      "id": "e98f261a",
      "metadata": {
        "id": "e98f261a"
      },
      "outputs": [],
      "source": [
        ""
      ]
    },
    {
      "cell_type": "code",
      "execution_count": null,
      "id": "ccc00234",
      "metadata": {
        "id": "ccc00234",
        "outputId": "4cc3cbfd-7d07-4f95-9287-2c522e6fd7f6"
      },
      "outputs": [
        {
          "ename": "SyntaxError",
          "evalue": "can't use starred expression here (2969166982.py, line 1)",
          "output_type": "error",
          "traceback": [
            "\u001b[1;36m  Input \u001b[1;32mIn [16]\u001b[1;36m\u001b[0m\n\u001b[1;33m    *'deneme'\u001b[0m\n\u001b[1;37m    ^\u001b[0m\n\u001b[1;31mSyntaxError\u001b[0m\u001b[1;31m:\u001b[0m can't use starred expression here\n"
          ]
        }
      ],
      "source": [
        "*'deneme'"
      ]
    },
    {
      "cell_type": "code",
      "execution_count": null,
      "id": "ae013f5e",
      "metadata": {
        "id": "ae013f5e",
        "outputId": "c3a07014-8e3f-4511-adf3-bf74f8fd8499"
      },
      "outputs": [
        {
          "name": "stdout",
          "output_type": "stream",
          "text": [
            "d\te\tn\te\tm\te\n"
          ]
        }
      ],
      "source": [
        "print(*'deneme', sep='\\t')"
      ]
    },
    {
      "cell_type": "code",
      "execution_count": null,
      "id": "9f8beb5a",
      "metadata": {
        "id": "9f8beb5a",
        "outputId": "99e4cf02-fbf6-4eda-eca1-446f13541fd1"
      },
      "outputs": [
        {
          "data": {
            "text/plain": [
              "['d', 'e', 'n', 'e', 'm', 'e']"
            ]
          },
          "execution_count": 3,
          "metadata": {},
          "output_type": "execute_result"
        }
      ],
      "source": [
        "list3 = [*'deneme']\n",
        "list3"
      ]
    },
    {
      "cell_type": "code",
      "execution_count": null,
      "id": "ac3d0198",
      "metadata": {
        "id": "ac3d0198"
      },
      "outputs": [],
      "source": [
        ""
      ]
    },
    {
      "cell_type": "code",
      "execution_count": null,
      "id": "67738e9a",
      "metadata": {
        "id": "67738e9a",
        "outputId": "a7daf20a-53f7-4392-bcaf-2b4fe40be368"
      },
      "outputs": [
        {
          "name": "stdout",
          "output_type": "stream",
          "text": [
            "d\te\tn\te\tm\te\n"
          ]
        }
      ],
      "source": [
        "print(*list3, sep='\\t')"
      ]
    },
    {
      "cell_type": "code",
      "execution_count": null,
      "id": "c8158120",
      "metadata": {
        "id": "c8158120",
        "outputId": "182a987a-eb8a-426f-df5f-8a53b1183146"
      },
      "outputs": [
        {
          "name": "stdout",
          "output_type": "stream",
          "text": [
            "11 + 45 + 8 + 11 + 23 + 45 + 23 + 45 + 89\n"
          ]
        }
      ],
      "source": [
        "print(*liste, sep=' + ')"
      ]
    },
    {
      "cell_type": "code",
      "execution_count": null,
      "id": "630caae4",
      "metadata": {
        "id": "630caae4"
      },
      "outputs": [],
      "source": [
        "liste = [11, 45, 8, 11, 23, 45, 23, 45, 89]"
      ]
    },
    {
      "cell_type": "code",
      "execution_count": null,
      "id": "d34ff19c",
      "metadata": {
        "id": "d34ff19c"
      },
      "outputs": [],
      "source": [
        ""
      ]
    },
    {
      "cell_type": "markdown",
      "id": "2d08a822",
      "metadata": {
        "id": "2d08a822"
      },
      "source": [
        "## '\\n'.join(iterable)  :  write line by line"
      ]
    },
    {
      "cell_type": "markdown",
      "id": "517f896b",
      "metadata": {
        "id": "517f896b"
      },
      "source": [
        "### split() nedir?"
      ]
    },
    {
      "cell_type": "code",
      "execution_count": null,
      "id": "004fad1f",
      "metadata": {
        "id": "004fad1f",
        "outputId": "5509b907-cbf0-4762-f92f-ec8a819f4cb1"
      },
      "outputs": [
        {
          "data": {
            "text/plain": [
              "['d', 'e', 'n', 'e', 'm', 'e']"
            ]
          },
          "execution_count": 18,
          "metadata": {},
          "output_type": "execute_result"
        }
      ],
      "source": [
        "list1 = 'd e n e m e'.split()  #  (' ')  list() - []\n",
        "list1"
      ]
    },
    {
      "cell_type": "code",
      "execution_count": null,
      "id": "f53176bc",
      "metadata": {
        "id": "f53176bc",
        "outputId": "2db6f841-99b6-4423-f540-dc9e3b79fc26"
      },
      "outputs": [
        {
          "data": {
            "text/plain": [
              "['d ', ' n ', ' m ', '']"
            ]
          },
          "execution_count": 20,
          "metadata": {},
          "output_type": "execute_result"
        }
      ],
      "source": [
        "list1 = 'd e n e m e'.split('e')  #  (' ')  list() - []\n",
        "list1"
      ]
    },
    {
      "cell_type": "code",
      "execution_count": null,
      "id": "cb14d5b8",
      "metadata": {
        "id": "cb14d5b8",
        "outputId": "5ccf3973-305c-4d6c-bf30-b790e569efb7"
      },
      "outputs": [
        {
          "data": {
            "text/plain": [
              "['deneme']"
            ]
          },
          "execution_count": 21,
          "metadata": {},
          "output_type": "execute_result"
        }
      ],
      "source": [
        "list1 = 'deneme'.split()  #  (' ')  list() - []\n",
        "list1"
      ]
    },
    {
      "cell_type": "code",
      "execution_count": null,
      "id": "e2ea7f5c",
      "metadata": {
        "id": "e2ea7f5c",
        "outputId": "bdadd247-a910-4ea2-fe0a-696fcd57b366"
      },
      "outputs": [
        {
          "data": {
            "text/plain": [
              "list"
            ]
          },
          "execution_count": 19,
          "metadata": {},
          "output_type": "execute_result"
        }
      ],
      "source": [
        "type(list1)"
      ]
    },
    {
      "cell_type": "code",
      "execution_count": null,
      "id": "497c6d8f",
      "metadata": {
        "id": "497c6d8f",
        "outputId": "5ad97c79-11e1-4e25-d575-848190923ad5"
      },
      "outputs": [
        {
          "data": {
            "text/plain": [
              "['d', 'e n e m', 'e']"
            ]
          },
          "execution_count": 64,
          "metadata": {},
          "output_type": "execute_result"
        }
      ],
      "source": [
        "list1 = 'd+e n e m+e'.split('+')  #  (' ')\n",
        "list1"
      ]
    },
    {
      "cell_type": "code",
      "execution_count": null,
      "id": "42177b70",
      "metadata": {
        "id": "42177b70",
        "outputId": "f6ed4ede-0dcd-4349-ae20-0c3a48446633"
      },
      "outputs": [
        {
          "data": {
            "text/plain": [
              "['de n', 'e me']"
            ]
          },
          "execution_count": 65,
          "metadata": {},
          "output_type": "execute_result"
        }
      ],
      "source": [
        "list1 = 'de n4e me'.split('4')  #  (' ')\n",
        "list1"
      ]
    },
    {
      "cell_type": "markdown",
      "id": "6d22212b",
      "metadata": {
        "id": "6d22212b"
      },
      "source": [
        "### ''.join(iterable)  # 'arası',  (iterable-string)  nedir?"
      ]
    },
    {
      "cell_type": "code",
      "execution_count": null,
      "id": "9b0720d5",
      "metadata": {
        "id": "9b0720d5",
        "outputId": "52ad0ea4-8dc3-4508-9cb6-3bf99f97dc7f"
      },
      "outputs": [
        {
          "data": {
            "text/plain": [
              "'deneme'"
            ]
          },
          "execution_count": 22,
          "metadata": {},
          "output_type": "execute_result"
        }
      ],
      "source": [
        "list1 = ''.join('deneme')\n",
        "list1"
      ]
    },
    {
      "cell_type": "code",
      "execution_count": null,
      "id": "9af39de8",
      "metadata": {
        "id": "9af39de8",
        "outputId": "2756cfbc-c55f-43f9-dd77-1d4c0353375f"
      },
      "outputs": [
        {
          "data": {
            "text/plain": [
              "'d+e+n+e+m+e'"
            ]
          },
          "execution_count": 23,
          "metadata": {},
          "output_type": "execute_result"
        }
      ],
      "source": [
        "list1 = '+'.join('deneme')\n",
        "list1"
      ]
    },
    {
      "cell_type": "code",
      "execution_count": null,
      "id": "f217769f",
      "metadata": {
        "id": "f217769f",
        "outputId": "9cc05bb4-4682-4023-9c98-8c0a3fc708af"
      },
      "outputs": [
        {
          "data": {
            "text/plain": [
              "'d\\ne\\nn\\ne\\nm\\ne'"
            ]
          },
          "execution_count": 3,
          "metadata": {},
          "output_type": "execute_result"
        }
      ],
      "source": [
        "list1 = '\\n'.join('deneme')\n",
        "list1"
      ]
    },
    {
      "cell_type": "code",
      "execution_count": null,
      "id": "50b0dde8",
      "metadata": {
        "id": "50b0dde8",
        "outputId": "bd8bd543-7bec-44c3-8a33-f32dbb4101e0"
      },
      "outputs": [
        {
          "name": "stdout",
          "output_type": "stream",
          "text": [
            "d\n",
            "e\n",
            "n\n",
            "e\n",
            "m\n",
            "e\n"
          ]
        }
      ],
      "source": [
        "print(list1)"
      ]
    },
    {
      "cell_type": "markdown",
      "id": "4fcd5ecb",
      "metadata": {
        "id": "4fcd5ecb"
      },
      "source": [
        "```\n",
        "'deneme' den liste metodu kullanmadan harf listesi olusturma  \n",
        "1- * ile \n",
        "2- strip ve join ile\n",
        "\n",
        "```"
      ]
    },
    {
      "cell_type": "code",
      "execution_count": null,
      "id": "6fd20dde",
      "metadata": {
        "id": "6fd20dde",
        "outputId": "ce42b000-919f-4235-d44b-1c6fd1c21a86"
      },
      "outputs": [
        {
          "data": {
            "text/plain": [
              "['d', 'e', 'n', 'e', 'm', 'e']"
            ]
          },
          "execution_count": 6,
          "metadata": {},
          "output_type": "execute_result"
        }
      ],
      "source": [
        "list1 = [*'deneme']\n",
        "list1"
      ]
    },
    {
      "cell_type": "code",
      "execution_count": null,
      "id": "15d25c50",
      "metadata": {
        "id": "15d25c50",
        "outputId": "36af823b-2140-4c43-e87b-c414d55e2153"
      },
      "outputs": [
        {
          "data": {
            "text/plain": [
              "['d', 'e', 'n', 'e', 'm', 'e']"
            ]
          },
          "execution_count": 5,
          "metadata": {},
          "output_type": "execute_result"
        }
      ],
      "source": [
        "list1 = ' '.join('deneme').split()\n",
        "list1"
      ]
    },
    {
      "cell_type": "code",
      "execution_count": null,
      "id": "f9b0943d",
      "metadata": {
        "id": "f9b0943d"
      },
      "outputs": [],
      "source": [
        "liste = [11, 45, 8, 11, 23, 45, 23, 45, 89]"
      ]
    },
    {
      "cell_type": "code",
      "execution_count": null,
      "id": "04788873",
      "metadata": {
        "id": "04788873",
        "outputId": "f461e6ed-4474-443e-a7c2-899e022b3833"
      },
      "outputs": [
        {
          "ename": "TypeError",
          "evalue": "sequence item 0: expected str instance, int found",
          "output_type": "error",
          "traceback": [
            "\u001b[1;31m---------------------------------------------------------------------------\u001b[0m",
            "\u001b[1;31mTypeError\u001b[0m                                 Traceback (most recent call last)",
            "\u001b[1;32md:\\Masaüstü\\Yeni klasör (2)\\GTekrar-2022-04-03-print-Asteriks-yertut-yield-listComp-lambda.ipynb Cell 38'\u001b[0m in \u001b[0;36m<cell line: 1>\u001b[1;34m()\u001b[0m\n\u001b[1;32m----> <a href='vscode-notebook-cell:/d%3A/Masa%C3%BCst%C3%BC/Yeni%20klas%C3%B6r%20%282%29/GTekrar-2022-04-03-print-Asteriks-yertut-yield-listComp-lambda.ipynb#ch0000192?line=0'>1</a>\u001b[0m \u001b[39m'\u001b[39;49m\u001b[39m'\u001b[39;49m\u001b[39m.\u001b[39;49mjoin(liste)\n",
            "\u001b[1;31mTypeError\u001b[0m: sequence item 0: expected str instance, int found"
          ]
        }
      ],
      "source": [
        "''.join(liste)  # join strin alır"
      ]
    },
    {
      "cell_type": "code",
      "execution_count": null,
      "id": "0eeec7c7",
      "metadata": {
        "id": "0eeec7c7"
      },
      "outputs": [],
      "source": [
        "liste = ['11', '45', '8', '11', '23', '45', '23', '45', '89']"
      ]
    },
    {
      "cell_type": "code",
      "execution_count": null,
      "id": "99c68139",
      "metadata": {
        "id": "99c68139",
        "outputId": "47b4c7ce-ac57-4aaf-e83b-9e0fec6a1820"
      },
      "outputs": [
        {
          "data": {
            "text/plain": [
              "'11 45 8 11 23 45 23 45 89'"
            ]
          },
          "execution_count": 36,
          "metadata": {},
          "output_type": "execute_result"
        }
      ],
      "source": [
        "ilk_hali = ' '.join(liste)  # like 'd e n e m e'\n",
        "ilk_hali "
      ]
    },
    {
      "cell_type": "code",
      "execution_count": null,
      "id": "683f76f9",
      "metadata": {
        "id": "683f76f9",
        "outputId": "dc0f77b0-44a0-4492-9af6-4d89f38699d0"
      },
      "outputs": [
        {
          "name": "stdout",
          "output_type": "stream",
          "text": [
            "11\t45\t8\t11\t23\t45\t23\t45\t89\n"
          ]
        }
      ],
      "source": [
        "print('\\t'.join(liste))"
      ]
    },
    {
      "cell_type": "code",
      "execution_count": null,
      "id": "bbff8dca",
      "metadata": {
        "id": "bbff8dca",
        "outputId": "41c94c84-c706-40e2-a098-1ed5f645e0aa"
      },
      "outputs": [
        {
          "name": "stdout",
          "output_type": "stream",
          "text": [
            "11\n",
            "45\n",
            "8\n",
            "11\n",
            "23\n",
            "45\n",
            "23\n",
            "45\n",
            "89\n"
          ]
        }
      ],
      "source": [
        "print('\\n'.join(liste))"
      ]
    },
    {
      "cell_type": "code",
      "execution_count": null,
      "id": "7b019aef",
      "metadata": {
        "id": "7b019aef"
      },
      "outputs": [],
      "source": [
        ""
      ]
    },
    {
      "cell_type": "markdown",
      "id": "a4fe56f3",
      "metadata": {
        "id": "a4fe56f3"
      },
      "source": [
        "## '\\n'.join(iterable) use map(str, iterable)  :  write line by line"
      ]
    },
    {
      "cell_type": "code",
      "execution_count": null,
      "id": "82f14c95",
      "metadata": {
        "id": "82f14c95"
      },
      "outputs": [],
      "source": [
        ""
      ]
    },
    {
      "cell_type": "code",
      "execution_count": null,
      "id": "31c112d8",
      "metadata": {
        "id": "31c112d8",
        "outputId": "b069cd96-1286-425e-808b-f8bded73642c"
      },
      "outputs": [
        {
          "data": {
            "text/plain": [
              "(['11', '45', '8', '11', '23', '45', '23', '45', '89'], <map at 0x1a6fa63b130>)"
            ]
          },
          "execution_count": 13,
          "metadata": {},
          "output_type": "execute_result"
        }
      ],
      "source": [
        "liste = [11, 45, 8, 11, 23, 45, 23, 45, 89]\n",
        "\n",
        "list(map(str, liste)), map(str, liste)"
      ]
    },
    {
      "cell_type": "code",
      "execution_count": null,
      "id": "034ad11c",
      "metadata": {
        "id": "034ad11c",
        "outputId": "ad13251e-4094-4159-d652-d462c5ae0501"
      },
      "outputs": [
        {
          "name": "stdout",
          "output_type": "stream",
          "text": [
            "11\n",
            "45\n",
            "8\n",
            "11\n",
            "23\n",
            "45\n",
            "23\n",
            "45\n",
            "89\n"
          ]
        }
      ],
      "source": [
        "print('\\n'.join(map(str, liste)))"
      ]
    },
    {
      "cell_type": "code",
      "execution_count": null,
      "id": "bd422847",
      "metadata": {
        "id": "bd422847"
      },
      "outputs": [],
      "source": [
        ""
      ]
    },
    {
      "cell_type": "markdown",
      "id": "c5e975c0",
      "metadata": {
        "id": "c5e975c0"
      },
      "source": [
        "# değişken atama - yer tutucu(_) ve (*) asteriks ve (,)tuple kullanımı"
      ]
    },
    {
      "cell_type": "code",
      "execution_count": null,
      "id": "c3e2a293",
      "metadata": {
        "id": "c3e2a293",
        "outputId": "2da350c4-7426-4e74-c237-46c2f423c520"
      },
      "outputs": [
        {
          "data": {
            "text/plain": [
              "'12'"
            ]
          },
          "execution_count": 47,
          "metadata": {},
          "output_type": "execute_result"
        }
      ],
      "source": [
        "a = '12'\n",
        "a"
      ]
    },
    {
      "cell_type": "code",
      "execution_count": null,
      "id": "40371ab1",
      "metadata": {
        "id": "40371ab1",
        "outputId": "8984cd40-3888-4336-e125-d6217b6090a7"
      },
      "outputs": [
        {
          "data": {
            "text/plain": [
              "'12'"
            ]
          },
          "execution_count": 30,
          "metadata": {},
          "output_type": "execute_result"
        }
      ],
      "source": [
        "a = b = '12'\n",
        "a = '123'\n",
        "b"
      ]
    },
    {
      "cell_type": "code",
      "execution_count": null,
      "id": "ecf01ca0",
      "metadata": {
        "id": "ecf01ca0",
        "outputId": "ae824fae-8d55-44d8-a2fe-dcbd3e6632a1"
      },
      "outputs": [
        {
          "data": {
            "text/plain": [
              "'123'"
            ]
          },
          "execution_count": 31,
          "metadata": {},
          "output_type": "execute_result"
        }
      ],
      "source": [
        "a"
      ]
    },
    {
      "cell_type": "code",
      "execution_count": null,
      "id": "f56c6e54",
      "metadata": {
        "id": "f56c6e54",
        "outputId": "a75d92fb-c591-4d98-e393-a59d95cb3cf5"
      },
      "outputs": [
        {
          "data": {
            "text/plain": [
              "'12'"
            ]
          },
          "execution_count": 32,
          "metadata": {},
          "output_type": "execute_result"
        }
      ],
      "source": [
        "b"
      ]
    },
    {
      "cell_type": "code",
      "execution_count": null,
      "id": "22fab329",
      "metadata": {
        "id": "22fab329",
        "outputId": "def83a68-0559-4d71-a451-27060151ffd3"
      },
      "outputs": [
        {
          "data": {
            "text/plain": [
              "['xyz']"
            ]
          },
          "execution_count": 38,
          "metadata": {},
          "output_type": "execute_result"
        }
      ],
      "source": [
        "a = b = []  # aynı list objesi a ya append ettik b de cıktı aldık\n",
        "a.append('xyz')\n",
        "b"
      ]
    },
    {
      "cell_type": "code",
      "execution_count": null,
      "id": "1960ea5d",
      "metadata": {
        "id": "1960ea5d",
        "outputId": "9bcdfff5-a8b5-4da4-c0ea-542bf500ed36"
      },
      "outputs": [
        {
          "data": {
            "text/plain": [
              "['xyz']"
            ]
          },
          "execution_count": 39,
          "metadata": {},
          "output_type": "execute_result"
        }
      ],
      "source": [
        "a"
      ]
    },
    {
      "cell_type": "code",
      "execution_count": null,
      "id": "0bc82027",
      "metadata": {
        "id": "0bc82027",
        "outputId": "822576f6-150e-48eb-ec1b-78a504a23e58"
      },
      "outputs": [
        {
          "data": {
            "text/plain": [
              "['xyz']"
            ]
          },
          "execution_count": 40,
          "metadata": {},
          "output_type": "execute_result"
        }
      ],
      "source": [
        "b"
      ]
    },
    {
      "cell_type": "code",
      "execution_count": null,
      "id": "55638411",
      "metadata": {
        "id": "55638411",
        "outputId": "b7079d76-4870-4f51-d5e5-73f9618bc31e"
      },
      "outputs": [
        {
          "data": {
            "text/plain": [
              "('1', '2')"
            ]
          },
          "execution_count": 11,
          "metadata": {},
          "output_type": "execute_result"
        }
      ],
      "source": [
        "a, b = '1', '2'\n",
        "a,b"
      ]
    },
    {
      "cell_type": "code",
      "execution_count": null,
      "id": "d6bcdb13",
      "metadata": {
        "id": "d6bcdb13",
        "outputId": "9b97b7b2-500e-4ddb-d261-e45e82e08d83"
      },
      "outputs": [
        {
          "data": {
            "text/plain": [
              "('1', '2')"
            ]
          },
          "execution_count": 12,
          "metadata": {},
          "output_type": "execute_result"
        }
      ],
      "source": [
        "x, y = '12'\n",
        "x,y"
      ]
    },
    {
      "cell_type": "code",
      "execution_count": null,
      "id": "37a963ab",
      "metadata": {
        "id": "37a963ab",
        "outputId": "c5065be2-3fb6-4ffa-8e43-368e79723657"
      },
      "outputs": [
        {
          "data": {
            "text/plain": [
              "(1, 2)"
            ]
          },
          "execution_count": 13,
          "metadata": {},
          "output_type": "execute_result"
        }
      ],
      "source": [
        "x, y, z = [1, 2, 3]\n",
        "x,y"
      ]
    },
    {
      "cell_type": "code",
      "execution_count": null,
      "id": "f26539b9",
      "metadata": {
        "id": "f26539b9",
        "outputId": "8ab475aa-6692-4de9-d953-cd43aebf5048"
      },
      "outputs": [
        {
          "ename": "ValueError",
          "evalue": "too many values to unpack (expected 2)",
          "output_type": "error",
          "traceback": [
            "\u001b[1;31m---------------------------------------------------------------------------\u001b[0m",
            "\u001b[1;31mValueError\u001b[0m                                Traceback (most recent call last)",
            "\u001b[1;32m~\\AppData\\Local\\Temp/ipykernel_18464/2855634281.py\u001b[0m in \u001b[0;36m<module>\u001b[1;34m\u001b[0m\n\u001b[1;32m----> 1\u001b[1;33m \u001b[0ma\u001b[0m\u001b[1;33m,\u001b[0m \u001b[0mb\u001b[0m \u001b[1;33m=\u001b[0m \u001b[1;34m'12345'\u001b[0m\u001b[1;33m\u001b[0m\u001b[1;33m\u001b[0m\u001b[0m\n\u001b[0m\u001b[0;32m      2\u001b[0m \u001b[0ma\u001b[0m\u001b[1;33m,\u001b[0m\u001b[0mb\u001b[0m\u001b[1;33m\u001b[0m\u001b[1;33m\u001b[0m\u001b[0m\n",
            "\u001b[1;31mValueError\u001b[0m: too many values to unpack (expected 2)"
          ]
        }
      ],
      "source": [
        "a, b = '12345'\n",
        "a,b"
      ]
    },
    {
      "cell_type": "code",
      "execution_count": null,
      "id": "b107f9d9",
      "metadata": {
        "id": "b107f9d9",
        "outputId": "efd5a599-7864-48ec-9126-ee0622e88b6d"
      },
      "outputs": [
        {
          "data": {
            "text/plain": [
              "('1', '2', ['3', '4', '5'])"
            ]
          },
          "execution_count": 15,
          "metadata": {},
          "output_type": "execute_result"
        }
      ],
      "source": [
        "a, b, *c = '12345'\n",
        "a, b, c"
      ]
    },
    {
      "cell_type": "code",
      "execution_count": null,
      "id": "62c0324f",
      "metadata": {
        "scrolled": true,
        "id": "62c0324f",
        "outputId": "6799be65-a4ce-46a5-aeff-9a0e85e3f8f7"
      },
      "outputs": [
        {
          "data": {
            "text/plain": [
              "('1', '2')"
            ]
          },
          "execution_count": 58,
          "metadata": {},
          "output_type": "execute_result"
        }
      ],
      "source": [
        "a, b, _ = '123'\n",
        "a,b"
      ]
    },
    {
      "cell_type": "code",
      "execution_count": null,
      "id": "0927eff3",
      "metadata": {
        "id": "0927eff3",
        "outputId": "74d56202-15ff-4ac7-f524-ee75751e5d47"
      },
      "outputs": [
        {
          "data": {
            "text/plain": [
              "('1', '2', '3')"
            ]
          },
          "execution_count": 59,
          "metadata": {},
          "output_type": "execute_result"
        }
      ],
      "source": [
        "a, b, _ = '123'\n",
        "a,b, _"
      ]
    },
    {
      "cell_type": "code",
      "execution_count": null,
      "id": "2db86c17",
      "metadata": {
        "id": "2db86c17",
        "outputId": "01b98c65-ba11-42cd-bafd-891ee822eccf"
      },
      "outputs": [
        {
          "data": {
            "text/plain": [
              "('b', 'o')"
            ]
          },
          "execution_count": 62,
          "metadata": {},
          "output_type": "execute_result"
        }
      ],
      "source": [
        "a, s, d = 'bos'\n",
        "a,s"
      ]
    },
    {
      "cell_type": "code",
      "execution_count": null,
      "id": "51d0b7a8",
      "metadata": {
        "id": "51d0b7a8",
        "outputId": "59f4dbaa-e5a4-4ee4-acd0-bbe3cab113a4"
      },
      "outputs": [
        {
          "data": {
            "text/plain": [
              "('1', '2', ['3', '4', '5'])"
            ]
          },
          "execution_count": 82,
          "metadata": {},
          "output_type": "execute_result"
        }
      ],
      "source": [
        "a, b, *_ = '12345'\n",
        "a,b, _"
      ]
    },
    {
      "cell_type": "code",
      "execution_count": null,
      "id": "462b342d",
      "metadata": {
        "id": "462b342d",
        "outputId": "68f8660a-3296-4839-ee1f-1ac4e8c2239c"
      },
      "outputs": [
        {
          "data": {
            "text/plain": [
              "('1', '3')"
            ]
          },
          "execution_count": 83,
          "metadata": {},
          "output_type": "execute_result"
        }
      ],
      "source": [
        "a, b, b = '123'\n",
        "a,b"
      ]
    },
    {
      "cell_type": "code",
      "execution_count": null,
      "id": "eb9cb7d7",
      "metadata": {
        "id": "eb9cb7d7",
        "outputId": "fb982677-a3ca-4d63-c21d-3deef1b7c1b8"
      },
      "outputs": [
        {
          "data": {
            "text/plain": [
              "1"
            ]
          },
          "execution_count": 84,
          "metadata": {},
          "output_type": "execute_result"
        }
      ],
      "source": [
        "a = 1\n",
        "a"
      ]
    },
    {
      "cell_type": "code",
      "execution_count": null,
      "id": "4ec715e5",
      "metadata": {
        "id": "4ec715e5",
        "outputId": "d1ee6672-4f9c-4468-acf7-6cfb8f086664"
      },
      "outputs": [
        {
          "name": "stdout",
          "output_type": "stream",
          "text": [
            "(1,) <class 'tuple'>\n"
          ]
        }
      ],
      "source": [
        "a = 1,\n",
        "print(a, type(a))"
      ]
    },
    {
      "cell_type": "code",
      "execution_count": null,
      "id": "4c59899c",
      "metadata": {
        "id": "4c59899c"
      },
      "outputs": [],
      "source": [
        ""
      ]
    },
    {
      "cell_type": "markdown",
      "id": "c06a8a59",
      "metadata": {
        "id": "c06a8a59"
      },
      "source": [
        "# list().count()"
      ]
    },
    {
      "cell_type": "code",
      "execution_count": null,
      "id": "bfed3447",
      "metadata": {
        "id": "bfed3447"
      },
      "outputs": [],
      "source": [
        "liste = [11, 45, 8, 11, 23, 45, 23, 45, 89]"
      ]
    },
    {
      "cell_type": "code",
      "execution_count": null,
      "id": "790fab56",
      "metadata": {
        "id": "790fab56",
        "outputId": "7898e8dc-86d5-4249-97b6-5413bb739ae0"
      },
      "outputs": [
        {
          "data": {
            "text/plain": [
              "2"
            ]
          },
          "execution_count": 64,
          "metadata": {},
          "output_type": "execute_result"
        }
      ],
      "source": [
        "liste.count(11)"
      ]
    },
    {
      "cell_type": "markdown",
      "id": "cdf67379",
      "metadata": {
        "id": "cdf67379"
      },
      "source": [
        "```count metodu olmadan liste içindeki elemanların sayısı```"
      ]
    },
    {
      "cell_type": "code",
      "execution_count": null,
      "id": "5c02df42",
      "metadata": {
        "id": "5c02df42",
        "outputId": "15574db1-ceed-4c7f-a765-777f8c1718bf"
      },
      "outputs": [
        {
          "name": "stdout",
          "output_type": "stream",
          "text": [
            "{11: 2, 45: 3, 8: 1, 23: 2, 89: 1}\n"
          ]
        }
      ],
      "source": [
        "# for döngüsü ve dict() ile\n",
        "liste = [11, 45, 8, 11, 23, 45, 23, 45, 89]\n",
        "\n",
        "result2 = {}  # liste elemanı key olsun yanın da sayısı olsun\n",
        "\n",
        "for i in liste:\n",
        "    if i in result2:\n",
        "        result2[i] += 1\n",
        "    else:  # {key:value} atama\n",
        "        result2[i] = 1  \n",
        "        \n",
        "print(result2)"
      ]
    },
    {
      "cell_type": "markdown",
      "id": "9bd81427",
      "metadata": {
        "id": "9bd81427"
      },
      "source": [
        "```count metodu ile liste içindeki elemanların sayısı```"
      ]
    },
    {
      "cell_type": "code",
      "execution_count": null,
      "id": "c69e7441",
      "metadata": {
        "id": "c69e7441",
        "outputId": "702dcd6c-7c56-4ac8-dacb-0605f0cbaab8"
      },
      "outputs": [
        {
          "name": "stdout",
          "output_type": "stream",
          "text": [
            "{11: 2, 45: 3, 8: 1, 23: 2, 89: 1}\n"
          ]
        }
      ],
      "source": [
        "liste = [11, 45, 8, 11, 23, 45, 23, 45, 89]  \n",
        "result = {}\n",
        "for i in liste:  # 9 feda döngü\n",
        "    result[i] = liste.count(i)  \n",
        "print(result)"
      ]
    },
    {
      "cell_type": "markdown",
      "id": "44f2c99f",
      "metadata": {
        "id": "44f2c99f"
      },
      "source": [
        "```EN HIZLI ÇOZUM \n",
        "count metodu ile set() kullanarak döngü sayısını azaltıp liste içindeki elemanların sayısını buluyoruz```"
      ]
    },
    {
      "cell_type": "code",
      "execution_count": null,
      "id": "ef8cce3b",
      "metadata": {
        "id": "ef8cce3b",
        "outputId": "45918b26-df72-4e09-b178-da3a8c588568"
      },
      "outputs": [
        {
          "name": "stdout",
          "output_type": "stream",
          "text": [
            "{8: 1, 11: 2, 45: 3, 23: 2, 89: 1}\n"
          ]
        }
      ],
      "source": [
        "liste = [11, 45, 8, 11, 23, 45, 23, 45, 89]\n",
        "result = {}\n",
        "for i in set(liste):  # set-daha hızlı liste de 9 feda döngü\n",
        "    result[i] = liste.count(i)  \n",
        "print(result)"
      ]
    },
    {
      "cell_type": "code",
      "execution_count": null,
      "id": "ff04c7fb",
      "metadata": {
        "id": "ff04c7fb"
      },
      "outputs": [],
      "source": [
        ""
      ]
    },
    {
      "cell_type": "markdown",
      "id": "d8f866ac",
      "metadata": {
        "id": "d8f866ac"
      },
      "source": [
        "# {}.fromkeys(tipler)"
      ]
    },
    {
      "cell_type": "markdown",
      "id": "c77df41a",
      "metadata": {
        "id": "c77df41a"
      },
      "source": [
        "```count metodu olmadan fromkeys ile liste içindeki elemanların sayısı```"
      ]
    },
    {
      "cell_type": "code",
      "execution_count": null,
      "id": "5bf88fdf",
      "metadata": {
        "id": "5bf88fdf",
        "outputId": "8ebc9ccd-5f15-40b8-9ea6-c4ac34dd8d04"
      },
      "outputs": [
        {
          "name": "stdout",
          "output_type": "stream",
          "text": [
            "{11: 0, 45: 0, 8: 0, 23: 0, 89: 0}\n",
            "{11: 2, 45: 3, 8: 1, 23: 2, 89: 1}\n"
          ]
        }
      ],
      "source": [
        "liste = [11, 45, 8, 11, 23, 45, 23, 45, 89]\n",
        "\n",
        "dic = dict().fromkeys(liste, 0) # atama gerekiyor key listeden value = 0 , {}.fromkeys(liste, 0)\n",
        "print(dic)\n",
        "\n",
        "for i in liste:  # 9 defa\n",
        "    dic[i]+=1  # dic[i]= dic[i] + 1\n",
        "print(dic)"
      ]
    },
    {
      "cell_type": "code",
      "execution_count": null,
      "id": "11a0d8cf",
      "metadata": {
        "id": "11a0d8cf"
      },
      "outputs": [],
      "source": [
        ""
      ]
    },
    {
      "cell_type": "markdown",
      "id": "e18017c3",
      "metadata": {
        "id": "e18017c3"
      },
      "source": [
        "# zip()  - generator"
      ]
    },
    {
      "cell_type": "code",
      "execution_count": null,
      "id": "ab0e1319",
      "metadata": {
        "id": "ab0e1319"
      },
      "outputs": [],
      "source": [
        "first_list = [2, 3, 5]\n",
        "second_list = [4, 9]"
      ]
    },
    {
      "cell_type": "code",
      "execution_count": null,
      "id": "563f7428",
      "metadata": {
        "id": "563f7428",
        "outputId": "a865d363-f9e4-4ab7-9776-4d5b4d359411"
      },
      "outputs": [
        {
          "data": {
            "text/plain": [
              "((2, 4), (3, 9))"
            ]
          },
          "execution_count": 24,
          "metadata": {},
          "output_type": "execute_result"
        }
      ],
      "source": [
        "zipp = zip(first_list, second_list)\n",
        "# print(*zipp)\n",
        "*zipp,"
      ]
    },
    {
      "cell_type": "code",
      "execution_count": null,
      "id": "24bbac91",
      "metadata": {
        "id": "24bbac91",
        "outputId": "2028a5fd-fac8-4510-be1a-e1f13c30b809"
      },
      "outputs": [
        {
          "data": {
            "text/plain": [
              "()"
            ]
          },
          "execution_count": 25,
          "metadata": {},
          "output_type": "execute_result"
        }
      ],
      "source": [
        "*zipp,  # generator bir defalık üretiyor"
      ]
    },
    {
      "cell_type": "code",
      "execution_count": null,
      "id": "580b9446",
      "metadata": {
        "id": "580b9446",
        "outputId": "631ada65-6c87-41ed-bd23-290475a0aae2"
      },
      "outputs": [
        {
          "name": "stdout",
          "output_type": "stream",
          "text": [
            "[(2, 4), (3, 9)]\n"
          ]
        }
      ],
      "source": [
        "last = list(zip(first_list, second_list))  # sürekli kullanmak için bir değişkene atıyoruz\n",
        "print(last)"
      ]
    },
    {
      "cell_type": "code",
      "execution_count": null,
      "id": "20bbf9dd",
      "metadata": {
        "id": "20bbf9dd",
        "outputId": "de9bc445-d6ff-42bd-e577-051cdf74f5dd"
      },
      "outputs": [
        {
          "data": {
            "text/plain": [
              "[(2, 4), (3, 9)]"
            ]
          },
          "execution_count": 27,
          "metadata": {},
          "output_type": "execute_result"
        }
      ],
      "source": [
        "last"
      ]
    },
    {
      "cell_type": "code",
      "execution_count": null,
      "id": "4376e384",
      "metadata": {
        "id": "4376e384"
      },
      "outputs": [],
      "source": [
        ""
      ]
    },
    {
      "cell_type": "markdown",
      "id": "d420cb7f",
      "metadata": {
        "id": "d420cb7f"
      },
      "source": [
        "# emumarate() - generator"
      ]
    },
    {
      "cell_type": "code",
      "execution_count": null,
      "id": "caf35e97",
      "metadata": {
        "id": "caf35e97"
      },
      "outputs": [],
      "source": [
        "liste = [11, 45, 8, 11, 23, 45, 23, 45, 89]"
      ]
    },
    {
      "cell_type": "code",
      "execution_count": null,
      "id": "b1e4ee92",
      "metadata": {
        "id": "b1e4ee92",
        "outputId": "8c061bad-fdee-4f01-c4c4-7f067debf395"
      },
      "outputs": [
        {
          "data": {
            "text/plain": [
              "<enumerate at 0x21c5e147b80>"
            ]
          },
          "execution_count": 85,
          "metadata": {},
          "output_type": "execute_result"
        }
      ],
      "source": [
        "enumerate(liste)"
      ]
    },
    {
      "cell_type": "code",
      "execution_count": null,
      "id": "13c38568",
      "metadata": {
        "id": "13c38568",
        "outputId": "46ada9e0-e0b8-42b1-d695-f24732becf42"
      },
      "outputs": [
        {
          "data": {
            "text/plain": [
              "((0, 11),\n",
              " (1, 45),\n",
              " (2, 8),\n",
              " (3, 11),\n",
              " (4, 23),\n",
              " (5, 45),\n",
              " (6, 23),\n",
              " (7, 45),\n",
              " (8, 89))"
            ]
          },
          "execution_count": 86,
          "metadata": {},
          "output_type": "execute_result"
        }
      ],
      "source": [
        "*enumerate(liste),"
      ]
    },
    {
      "cell_type": "code",
      "execution_count": null,
      "id": "86c6ee0e",
      "metadata": {
        "id": "86c6ee0e",
        "outputId": "065a59a8-d5c2-4f20-8030-41f51188d402"
      },
      "outputs": [
        {
          "data": {
            "text/plain": [
              "((100, 11),\n",
              " (101, 45),\n",
              " (102, 8),\n",
              " (103, 11),\n",
              " (104, 23),\n",
              " (105, 45),\n",
              " (106, 23),\n",
              " (107, 45),\n",
              " (108, 89))"
            ]
          },
          "execution_count": 113,
          "metadata": {},
          "output_type": "execute_result"
        }
      ],
      "source": [
        "*enumerate(liste, 100),"
      ]
    },
    {
      "cell_type": "code",
      "execution_count": null,
      "id": "0813a504",
      "metadata": {
        "id": "0813a504",
        "outputId": "2dee7adb-821e-4d03-b59d-3ed8274c1e78"
      },
      "outputs": [
        {
          "name": "stdout",
          "output_type": "stream",
          "text": [
            "(0, 11) (1, 45) (2, 8) (3, 11) (4, 23) (5, 45) (6, 23) (7, 45) (8, 89)\n"
          ]
        }
      ],
      "source": [
        "print(*enumerate(liste))"
      ]
    },
    {
      "cell_type": "code",
      "execution_count": null,
      "id": "18795c5c",
      "metadata": {
        "id": "18795c5c",
        "outputId": "cda051a0-eb28-48a7-d4a2-78ca96d03865"
      },
      "outputs": [
        {
          "name": "stdout",
          "output_type": "stream",
          "text": [
            "(0, 11)\n",
            "(1, 45)\n",
            "(2, 8)\n",
            "(3, 11)\n",
            "(4, 23)\n",
            "(5, 45)\n",
            "(6, 23)\n",
            "(7, 45)\n",
            "(8, 89)\n"
          ]
        }
      ],
      "source": [
        "print(*enumerate(liste), sep='\\n')"
      ]
    },
    {
      "cell_type": "code",
      "execution_count": null,
      "id": "da7e91cc",
      "metadata": {
        "id": "da7e91cc",
        "outputId": "68c3cb59-3429-412b-f1cb-6cbcdaee0eb4"
      },
      "outputs": [
        {
          "data": {
            "text/plain": [
              "((100, 11),\n",
              " (101, 45),\n",
              " (102, 8),\n",
              " (103, 11),\n",
              " (104, 23),\n",
              " (105, 45),\n",
              " (106, 23),\n",
              " (107, 45),\n",
              " (108, 89))"
            ]
          },
          "execution_count": 115,
          "metadata": {},
          "output_type": "execute_result"
        }
      ],
      "source": [
        "en = enumerate(liste, 100)\n",
        "*en,"
      ]
    },
    {
      "cell_type": "code",
      "execution_count": null,
      "id": "6e2e773a",
      "metadata": {
        "id": "6e2e773a",
        "outputId": "7ab61373-d4b1-4151-ed61-9ea338102b06"
      },
      "outputs": [
        {
          "data": {
            "text/plain": [
              "()"
            ]
          },
          "execution_count": 116,
          "metadata": {},
          "output_type": "execute_result"
        }
      ],
      "source": [
        "*en,"
      ]
    },
    {
      "cell_type": "code",
      "execution_count": null,
      "id": "58f45acd",
      "metadata": {
        "id": "58f45acd",
        "outputId": "33ee5ddd-f98c-4321-bb58-98dac5d11b2b"
      },
      "outputs": [
        {
          "name": "stdout",
          "output_type": "stream",
          "text": [
            "3\n"
          ]
        }
      ],
      "source": [
        "print(3)"
      ]
    },
    {
      "cell_type": "code",
      "execution_count": null,
      "id": "b316fc53",
      "metadata": {
        "id": "b316fc53",
        "outputId": "a5489b98-3a14-41c4-8441-1251314ec759"
      },
      "outputs": [
        {
          "name": "stdout",
          "output_type": "stream",
          "text": [
            "3\n"
          ]
        }
      ],
      "source": [
        "print(3,)"
      ]
    },
    {
      "cell_type": "code",
      "execution_count": null,
      "id": "7718eb07",
      "metadata": {
        "id": "7718eb07",
        "outputId": "157b3cf8-31d5-430e-cd04-0f7e6b7a3b06"
      },
      "outputs": [
        {
          "name": "stdout",
          "output_type": "stream",
          "text": [
            "[(0, 11), (1, 45), (2, 8), (3, 11), (4, 23), (5, 45), (6, 23), (7, 45), (8, 89)]\n"
          ]
        }
      ],
      "source": [
        "print(list(enumerate(liste)), sep='\\n')"
      ]
    },
    {
      "cell_type": "code",
      "execution_count": null,
      "id": "620a0a1f",
      "metadata": {
        "id": "620a0a1f",
        "outputId": "81f49a71-4ed8-4dc2-ecc4-4530ae784b31"
      },
      "outputs": [
        {
          "name": "stdout",
          "output_type": "stream",
          "text": [
            "(0, 11)\n",
            "(1, 45)\n",
            "(2, 8)\n",
            "(3, 11)\n",
            "(4, 23)\n",
            "(5, 45)\n",
            "(6, 23)\n",
            "(7, 45)\n",
            "(8, 89)\n"
          ]
        }
      ],
      "source": [
        "print(*list(enumerate(liste)), sep='\\n')"
      ]
    },
    {
      "cell_type": "code",
      "execution_count": null,
      "id": "db698f55",
      "metadata": {
        "id": "db698f55",
        "outputId": "0674708a-8867-4782-9295-4ae99fdb469d"
      },
      "outputs": [
        {
          "name": "stdout",
          "output_type": "stream",
          "text": [
            "(0, 11)\n",
            "(1, 45)\n",
            "(2, 8)\n",
            "(3, 11)\n",
            "(4, 23)\n",
            "(5, 45)\n",
            "(6, 23)\n",
            "(7, 45)\n",
            "(8, 89)\n"
          ]
        }
      ],
      "source": [
        "print(*enumerate(liste), sep='\\n')"
      ]
    },
    {
      "cell_type": "code",
      "execution_count": null,
      "id": "faf6d6c0",
      "metadata": {
        "id": "faf6d6c0"
      },
      "outputs": [],
      "source": [
        ""
      ]
    },
    {
      "cell_type": "code",
      "execution_count": null,
      "id": "6a713f70",
      "metadata": {
        "id": "6a713f70",
        "outputId": "ff89e925-5248-4a3b-c04b-543a76204217"
      },
      "outputs": [
        {
          "data": {
            "text/plain": [
              "['deneme']"
            ]
          },
          "execution_count": 37,
          "metadata": {},
          "output_type": "execute_result"
        }
      ],
      "source": [
        "liste = ['deneme']\n",
        "liste"
      ]
    },
    {
      "cell_type": "code",
      "execution_count": null,
      "id": "d9754511",
      "metadata": {
        "id": "d9754511",
        "outputId": "9c5079af-3179-49e3-915e-ec0d1bdd0765"
      },
      "outputs": [
        {
          "data": {
            "text/plain": [
              "['d', 'e', 'n', 'e', 'm', 'e']"
            ]
          },
          "execution_count": 38,
          "metadata": {},
          "output_type": "execute_result"
        }
      ],
      "source": [
        "liste = list('deneme')\n",
        "liste"
      ]
    },
    {
      "cell_type": "code",
      "execution_count": null,
      "id": "062f5094",
      "metadata": {
        "id": "062f5094",
        "outputId": "c8e86408-7dda-47aa-a9b8-94cb13057093"
      },
      "outputs": [
        {
          "data": {
            "text/plain": [
              "['d', 'e', 'n', 'e', 'm', 'e']"
            ]
          },
          "execution_count": 101,
          "metadata": {},
          "output_type": "execute_result"
        }
      ],
      "source": [
        "liste = [*'deneme']\n",
        "liste"
      ]
    },
    {
      "cell_type": "code",
      "execution_count": null,
      "id": "f79598d9",
      "metadata": {
        "id": "f79598d9",
        "outputId": "13debf92-ce08-4a38-a797-51081ca71254"
      },
      "outputs": [
        {
          "data": {
            "text/plain": [
              "(str, 'deneme')"
            ]
          },
          "execution_count": 106,
          "metadata": {},
          "output_type": "execute_result"
        }
      ],
      "source": [
        "tuple1 = ('deneme')\n",
        "type(tuple1), tuple1"
      ]
    },
    {
      "cell_type": "code",
      "execution_count": null,
      "id": "c3d79853",
      "metadata": {
        "id": "c3d79853",
        "outputId": "63d8daa8-1ef6-4d92-fcd4-b5b5cb5f507b"
      },
      "outputs": [
        {
          "data": {
            "text/plain": [
              "(tuple, ('deneme',))"
            ]
          },
          "execution_count": 31,
          "metadata": {},
          "output_type": "execute_result"
        }
      ],
      "source": [
        "tuple1 = 'deneme',\n",
        "type(tuple1), tuple1"
      ]
    },
    {
      "cell_type": "code",
      "execution_count": null,
      "id": "28f934c2",
      "metadata": {
        "id": "28f934c2",
        "outputId": "d2172688-f12b-4678-b9d7-5f83039de79b"
      },
      "outputs": [
        {
          "data": {
            "text/plain": [
              "('d', 'e', 'n', 'e', 'm', 'e')"
            ]
          },
          "execution_count": 32,
          "metadata": {},
          "output_type": "execute_result"
        }
      ],
      "source": [
        "tuple2 = *'deneme',\n",
        "tuple2"
      ]
    },
    {
      "cell_type": "code",
      "execution_count": null,
      "id": "230819ce",
      "metadata": {
        "id": "230819ce",
        "outputId": "3e0b7c56-a55e-4fd3-992d-2aa1461dba08"
      },
      "outputs": [
        {
          "data": {
            "text/plain": [
              "('d', 'e', 'n', 'e', 'm', 'e')"
            ]
          },
          "execution_count": 33,
          "metadata": {},
          "output_type": "execute_result"
        }
      ],
      "source": [
        "tuple3 = (*'deneme',)\n",
        "tuple3"
      ]
    },
    {
      "cell_type": "code",
      "execution_count": null,
      "id": "08508a9d",
      "metadata": {
        "id": "08508a9d",
        "outputId": "dac0cf82-e312-4800-86a9-92398bc7da53"
      },
      "outputs": [
        {
          "data": {
            "text/plain": [
              "{'d', 'e', 'm', 'n'}"
            ]
          },
          "execution_count": 42,
          "metadata": {},
          "output_type": "execute_result"
        }
      ],
      "source": [
        "set1 = set('deneme')\n",
        "set1"
      ]
    },
    {
      "cell_type": "code",
      "execution_count": null,
      "id": "d99cb110",
      "metadata": {
        "id": "d99cb110",
        "outputId": "33b6305e-7ec7-4f70-c962-089c40041828"
      },
      "outputs": [
        {
          "data": {
            "text/plain": [
              "{'deneme'}"
            ]
          },
          "execution_count": 43,
          "metadata": {},
          "output_type": "execute_result"
        }
      ],
      "source": [
        "set2 = set(['deneme'])\n",
        "set2"
      ]
    },
    {
      "cell_type": "code",
      "execution_count": null,
      "id": "57f64d79",
      "metadata": {
        "id": "57f64d79",
        "outputId": "fdb2dc5b-e1c5-49b8-e1df-c425bb69df58"
      },
      "outputs": [
        {
          "data": {
            "text/plain": [
              "{'d', 'e', 'm', 'n'}"
            ]
          },
          "execution_count": 43,
          "metadata": {},
          "output_type": "execute_result"
        }
      ],
      "source": [
        "set3 = set([*'deneme'])\n",
        "set3"
      ]
    },
    {
      "cell_type": "code",
      "execution_count": null,
      "id": "66721f24",
      "metadata": {
        "id": "66721f24",
        "outputId": "1b6e57a4-0e98-4d6f-8442-16ddad0ea655"
      },
      "outputs": [
        {
          "data": {
            "text/plain": [
              "{'d', 'e', 'm', 'n'}"
            ]
          },
          "execution_count": 44,
          "metadata": {},
          "output_type": "execute_result"
        }
      ],
      "source": [
        "set4 = set('deneme',)\n",
        "set4"
      ]
    },
    {
      "cell_type": "code",
      "execution_count": null,
      "id": "6b31f405",
      "metadata": {
        "id": "6b31f405"
      },
      "outputs": [],
      "source": [
        ""
      ]
    },
    {
      "cell_type": "markdown",
      "id": "e59923ba",
      "metadata": {
        "id": "e59923ba"
      },
      "source": [
        "# retun - yield"
      ]
    },
    {
      "cell_type": "code",
      "execution_count": null,
      "id": "71f18d60",
      "metadata": {
        "id": "71f18d60",
        "outputId": "4faa028a-3c93-426d-9612-e13c6864af05"
      },
      "outputs": [
        {
          "data": {
            "text/plain": [
              "0"
            ]
          },
          "execution_count": 45,
          "metadata": {},
          "output_type": "execute_result"
        }
      ],
      "source": [
        "# döngü ilk return ettiği yerde durur\n",
        "\n",
        "def num_list(num):\n",
        "    for i in range(num):  # 0 durdu - 1 defa calıstı\n",
        "        return i\n",
        "\n",
        "num_list(10)"
      ]
    },
    {
      "cell_type": "code",
      "execution_count": null,
      "id": "775bf5c6",
      "metadata": {
        "id": "775bf5c6",
        "outputId": "590733de-0f3e-499f-c05c-6e9bbe01cbd8"
      },
      "outputs": [
        {
          "name": "stdout",
          "output_type": "stream",
          "text": [
            "<generator object num_list at 0x0000022EBAE8ABA0>\n",
            "0 1 2 3 4 5 6 7 8 9\n"
          ]
        }
      ],
      "source": [
        "# döngü sonuna kadar calısır ve bütün değerler toplu return olmus gibi olur\n",
        "\n",
        "def num_list(num):\n",
        "    for i in range(num):  # num kadar calıstı\n",
        "        yield i\n",
        "\n",
        "result = num_list(10)  # generator \n",
        "\n",
        "print(result)\n",
        "print(*result)"
      ]
    },
    {
      "cell_type": "code",
      "execution_count": null,
      "id": "053b9fa5",
      "metadata": {
        "id": "053b9fa5",
        "outputId": "5694f044-0e92-4ad0-9a2a-30ce94bbb09a"
      },
      "outputs": [
        {
          "name": "stdout",
          "output_type": "stream",
          "text": [
            "[0, 1, 2, 3, 4, 5, 6, 7, 8, 9]\n"
          ]
        }
      ],
      "source": [
        "def num_list(num):\n",
        "    for i in range(num):  # num kadar calıstı\n",
        "        yield i\n",
        "\n",
        "result = num_list(10)  # generator \n",
        "print(list(result))"
      ]
    },
    {
      "cell_type": "code",
      "execution_count": null,
      "id": "87ed3f1c",
      "metadata": {
        "id": "87ed3f1c"
      },
      "outputs": [],
      "source": [
        ""
      ]
    },
    {
      "cell_type": "markdown",
      "id": "e806f35e",
      "metadata": {
        "id": "e806f35e"
      },
      "source": [
        "# chr(), ord()"
      ]
    },
    {
      "cell_type": "code",
      "execution_count": null,
      "id": "b97bf9d4",
      "metadata": {
        "id": "b97bf9d4",
        "outputId": "3638d1d1-c844-4de1-daf7-96cb932573ca"
      },
      "outputs": [
        {
          "name": "stdout",
          "output_type": "stream",
          "text": [
            "<class 'list'> A B C D E F G H I J K L M N O P Q R S T U V W X Y Z\n"
          ]
        }
      ],
      "source": [
        "def num_list(start, stop):\n",
        "    for i in range(start, stop):  \n",
        "        yield chr(i)\n",
        "\n",
        "result_list = list(num_list(65, 91))\n",
        "\n",
        "print(type(result_list), *result_list)"
      ]
    },
    {
      "cell_type": "code",
      "execution_count": null,
      "id": "6178eb5c",
      "metadata": {
        "id": "6178eb5c"
      },
      "outputs": [],
      "source": [
        ""
      ]
    },
    {
      "cell_type": "code",
      "execution_count": null,
      "id": "f4bd896a",
      "metadata": {
        "id": "f4bd896a",
        "outputId": "0b509b47-6a46-45b1-a6d5-9c6f3e075364"
      },
      "outputs": [
        {
          "name": "stdout",
          "output_type": "stream",
          "text": [
            "<class 'list'> 65 66 67 68 69 70 71 72 73 74 75 76 77 78 79 80 81 82 83 84 85 86 87 88 89 90\n"
          ]
        }
      ],
      "source": [
        "def num_list(str_list):\n",
        "    for i in str_list:  \n",
        "        yield ord(i)\n",
        "\n",
        "result_num = num_list(result_list)\n",
        "print(type(result_list), *result_num)"
      ]
    },
    {
      "cell_type": "code",
      "execution_count": null,
      "id": "e156935a",
      "metadata": {
        "id": "e156935a"
      },
      "outputs": [],
      "source": [
        ""
      ]
    },
    {
      "cell_type": "markdown",
      "id": "908fce5c",
      "metadata": {
        "id": "908fce5c"
      },
      "source": [
        "# list Comprehension (list com oluşturma) - (list-tuple-set-dict kullanımı)"
      ]
    },
    {
      "cell_type": "markdown",
      "id": "3b627c16",
      "metadata": {
        "id": "3b627c16"
      },
      "source": [
        "```\n",
        "1. newlist = [x for x in fruits]\n",
        "\n",
        "2. newlist = [x for x in fruits if x != \"apple\"]\n",
        "\n",
        "3. newlist = [x if x != \"banana\" else \"orange\" for x in fruits]\n",
        "\n",
        "```"
      ]
    },
    {
      "cell_type": "markdown",
      "id": "bf727aa0",
      "metadata": {
        "id": "bf727aa0"
      },
      "source": [
        "```python\n",
        "\n",
        "for item in iterable :\n",
        "    expression\n",
        "   \n",
        "    \n",
        "[expression for item in iterable]    \n",
        "    \n",
        "```"
      ]
    },
    {
      "cell_type": "code",
      "execution_count": null,
      "id": "38ac4aac",
      "metadata": {
        "id": "38ac4aac",
        "outputId": "572f375f-b33a-4efb-c9f8-fa3afc95ffc3"
      },
      "outputs": [
        {
          "data": {
            "text/plain": [
              "[0, 1, 2, 3, 4, 5, 6, 7, 8, 9]"
            ]
          },
          "execution_count": 135,
          "metadata": {},
          "output_type": "execute_result"
        }
      ],
      "source": [
        "liste = [*range(10)]\n",
        "liste"
      ]
    },
    {
      "cell_type": "code",
      "execution_count": null,
      "id": "7ca779ad",
      "metadata": {
        "id": "7ca779ad",
        "outputId": "bc2543ef-2413-4c80-f7bb-36194db9fc05"
      },
      "outputs": [
        {
          "data": {
            "text/plain": [
              "[0, 1, 2, 3, 4, 5, 6, 7, 8, 9]"
            ]
          },
          "execution_count": 141,
          "metadata": {},
          "output_type": "execute_result"
        }
      ],
      "source": [
        "bos = []\n",
        "\n",
        "for x in liste:\n",
        "    bos.append(x)\n",
        "\n",
        "bos"
      ]
    },
    {
      "cell_type": "code",
      "execution_count": null,
      "id": "ae9324a2",
      "metadata": {
        "id": "ae9324a2",
        "outputId": "ee0d52de-224c-4b1a-ca7e-adcb3804f0ff"
      },
      "outputs": [
        {
          "data": {
            "text/plain": [
              "[0, 1, 2, 3, 4, 5, 6, 7, 8, 9]"
            ]
          },
          "execution_count": 142,
          "metadata": {},
          "output_type": "execute_result"
        }
      ],
      "source": [
        "newlist = [x for x in liste]\n",
        "newlist"
      ]
    },
    {
      "cell_type": "code",
      "execution_count": null,
      "id": "c087b8ea",
      "metadata": {
        "id": "c087b8ea",
        "outputId": "5ebb7ce4-ff40-4668-e6f0-eb089dc26842"
      },
      "outputs": [
        {
          "name": "stdout",
          "output_type": "stream",
          "text": [
            "deneme\tde2\n",
            "deneme\tde2deneme\n",
            "de2"
          ]
        }
      ],
      "source": [
        "print(end='deneme\\tde2\\n')  # list comp alakası yok\n",
        "print(end='deneme\\tde2')\n",
        "print(end='deneme\\nde2')"
      ]
    },
    {
      "cell_type": "code",
      "execution_count": null,
      "id": "0a0996a0",
      "metadata": {
        "id": "0a0996a0",
        "outputId": "2841450e-cc06-4dc3-a93e-ebc5615c516b"
      },
      "outputs": [
        {
          "name": "stdout",
          "output_type": "stream",
          "text": [
            "['0 str', '1 str', '2 str', '3 str', '4 str', '5 str', '6 str', '7 str', '8 str', '9 str']\n"
          ]
        }
      ],
      "source": [
        "newlist = [f'{x} str' for x in liste]\n",
        "print(newlist)"
      ]
    },
    {
      "cell_type": "markdown",
      "id": "65abeeac",
      "metadata": {
        "id": "65abeeac"
      },
      "source": [
        "# 2. newlist = [x for x in fruits if x != \"apple\"]"
      ]
    },
    {
      "cell_type": "code",
      "execution_count": null,
      "id": "5ec2334a",
      "metadata": {
        "id": "5ec2334a",
        "outputId": "f5cf24cd-b54e-4a40-99ac-00f5d9881505"
      },
      "outputs": [
        {
          "data": {
            "text/plain": [
              "[0, 1, 2, 3, 4, 5, 6, 7, 8, 9]"
            ]
          },
          "execution_count": 161,
          "metadata": {},
          "output_type": "execute_result"
        }
      ],
      "source": [
        "liste = [*range(10)]\n",
        "liste"
      ]
    },
    {
      "cell_type": "code",
      "execution_count": null,
      "id": "c3ac5f8b",
      "metadata": {
        "id": "c3ac5f8b",
        "outputId": "bd97c24a-edc5-4f82-f756-e66f49c5f874"
      },
      "outputs": [
        {
          "data": {
            "text/plain": [
              "[0, 2, 4, 6, 8]"
            ]
          },
          "execution_count": 163,
          "metadata": {},
          "output_type": "execute_result"
        }
      ],
      "source": [
        "citlist = []\n",
        "\n",
        "for i in liste:\n",
        "    if i%2 == 0:\n",
        "        citlist.append(i)\n",
        "\n",
        "citlist"
      ]
    },
    {
      "cell_type": "code",
      "execution_count": null,
      "id": "8b3f4b9f",
      "metadata": {
        "id": "8b3f4b9f",
        "outputId": "ebf61732-d2fe-456f-abcb-d3334b742123"
      },
      "outputs": [
        {
          "data": {
            "text/plain": [
              "[0, 2, 4, 6, 8]"
            ]
          },
          "execution_count": 165,
          "metadata": {},
          "output_type": "execute_result"
        }
      ],
      "source": [
        "[i for i in liste if i%2 == 0]"
      ]
    },
    {
      "cell_type": "code",
      "execution_count": null,
      "id": "9ab18008",
      "metadata": {
        "id": "9ab18008",
        "outputId": "38922715-294b-47ab-bbad-248504ea4b3e"
      },
      "outputs": [
        {
          "data": {
            "text/plain": [
              "[1, 3, 5, 7, 9]"
            ]
          },
          "execution_count": 168,
          "metadata": {},
          "output_type": "execute_result"
        }
      ],
      "source": [
        "citlist = []\n",
        "\n",
        "for x in liste:\n",
        "    if x%2 == 1:  # \n",
        "        citlist.append(x)\n",
        "\n",
        "citlist"
      ]
    },
    {
      "cell_type": "code",
      "execution_count": null,
      "id": "a1bab437",
      "metadata": {
        "id": "a1bab437",
        "outputId": "189bb9e4-1598-426b-a76c-6b56d380c71d"
      },
      "outputs": [
        {
          "data": {
            "text/plain": [
              "[1, 3, 5, 7, 9]"
            ]
          },
          "execution_count": 169,
          "metadata": {},
          "output_type": "execute_result"
        }
      ],
      "source": [
        "[x for x in liste if x%2 == 1]"
      ]
    },
    {
      "cell_type": "markdown",
      "id": "bb590624",
      "metadata": {
        "id": "bb590624"
      },
      "source": [
        "# 3. newlist = [x if x != \"banana\" else \"orange\" for x in fruits]"
      ]
    },
    {
      "cell_type": "code",
      "execution_count": null,
      "id": "ea403dc2",
      "metadata": {
        "id": "ea403dc2",
        "outputId": "3290143b-6ddc-4cc2-cbff-7d8c531145d8"
      },
      "outputs": [
        {
          "data": {
            "text/plain": [
              "[0, 1, 2, 3, 4, 5, 6, 7, 8, 9]"
            ]
          },
          "execution_count": 49,
          "metadata": {},
          "output_type": "execute_result"
        }
      ],
      "source": [
        "liste = [0, 1, 2, 3, 4, 5, 6, 7, 8, 9]\n",
        "liste"
      ]
    },
    {
      "cell_type": "code",
      "execution_count": null,
      "id": "a4a2336b",
      "metadata": {
        "id": "a4a2336b"
      },
      "outputs": [],
      "source": [
        "c_list = []\n",
        "t_list = []"
      ]
    },
    {
      "cell_type": "code",
      "execution_count": null,
      "id": "8f7a830a",
      "metadata": {
        "id": "8f7a830a",
        "outputId": "4a846a5a-777d-41f0-900c-727183426ad5"
      },
      "outputs": [
        {
          "data": {
            "text/plain": [
              "([0, 2, 4, 6, 8], [1, 3, 5, 7, 9])"
            ]
          },
          "execution_count": 52,
          "metadata": {},
          "output_type": "execute_result"
        }
      ],
      "source": [
        "for i in liste:\n",
        "    if i%2 == 0:  # çift\n",
        "        c_list.append(i) \n",
        "\n",
        "    else: # tek\n",
        "        t_list.append(i)\n",
        "        \n",
        "c_list, t_list"
      ]
    },
    {
      "cell_type": "code",
      "execution_count": null,
      "id": "2c5505c9",
      "metadata": {
        "id": "2c5505c9",
        "outputId": "1b5aedbd-c720-457a-e521-4263eaa301c2"
      },
      "outputs": [
        {
          "data": {
            "text/plain": [
              "[0, 'tek', 2, 'tek', 4, 'tek', 6, 'tek', 8, 'tek']"
            ]
          },
          "execution_count": 50,
          "metadata": {},
          "output_type": "execute_result"
        }
      ],
      "source": [
        "[i if i%2 == 0  else 'tek' for i in liste]"
      ]
    },
    {
      "cell_type": "code",
      "execution_count": null,
      "id": "7ebc6e5a",
      "metadata": {
        "id": "7ebc6e5a",
        "outputId": "0f1bb17e-e36c-4f0f-c159-745450bba7a5"
      },
      "outputs": [
        {
          "data": {
            "text/plain": [
              "([0, 2, 4, 6, 8], [1, 3, 5, 7, 9])"
            ]
          },
          "execution_count": 53,
          "metadata": {},
          "output_type": "execute_result"
        }
      ],
      "source": [
        "c_list = []\n",
        "t_list = []\n",
        "\n",
        "[c_list.append(i) if i%2 == 0  else t_list.append(i) for i in liste]\n",
        "c_list, t_list\n"
      ]
    },
    {
      "cell_type": "code",
      "execution_count": null,
      "id": "59d9a16a",
      "metadata": {
        "id": "59d9a16a"
      },
      "outputs": [],
      "source": [
        ""
      ]
    },
    {
      "cell_type": "code",
      "execution_count": null,
      "id": "a5626326",
      "metadata": {
        "id": "a5626326",
        "outputId": "7691cf94-2c1a-45e7-e2b3-04b479bde038"
      },
      "outputs": [
        {
          "data": {
            "text/plain": [
              "['eleman', 'eleman']"
            ]
          },
          "execution_count": 5,
          "metadata": {},
          "output_type": "execute_result"
        }
      ],
      "source": [
        "['eleman' for i in range(2)]"
      ]
    },
    {
      "cell_type": "code",
      "execution_count": null,
      "id": "abb43dbc",
      "metadata": {
        "id": "abb43dbc",
        "outputId": "2709fa5d-c685-4b9f-fc63-993220045bfd"
      },
      "outputs": [
        {
          "data": {
            "text/plain": [
              "[[], []]"
            ]
          },
          "execution_count": 6,
          "metadata": {},
          "output_type": "execute_result"
        }
      ],
      "source": [
        "[[]  for i in range(2)]"
      ]
    },
    {
      "cell_type": "code",
      "execution_count": null,
      "id": "ccf912cb",
      "metadata": {
        "id": "ccf912cb"
      },
      "outputs": [],
      "source": [
        ""
      ]
    },
    {
      "cell_type": "code",
      "execution_count": null,
      "id": "a23615fb",
      "metadata": {
        "id": "a23615fb",
        "outputId": "f1092549-99d6-45ae-c1a0-82b07956e18a"
      },
      "outputs": [
        {
          "data": {
            "text/plain": [
              "[[0, 2, 4, 6, 8, 10, 12, 14, 16, 18], [1, 3, 5, 7, 9, 11, 13, 15, 17, 19]]"
            ]
          },
          "execution_count": 8,
          "metadata": {},
          "output_type": "execute_result"
        }
      ],
      "source": [
        "z = [[i for i in range(20) if i%2 == 0] , [i for i in range(20) if i%2 != 0]]\n",
        "z\n"
      ]
    },
    {
      "cell_type": "code",
      "execution_count": null,
      "id": "fb8ba666",
      "metadata": {
        "id": "fb8ba666",
        "outputId": "f6f65576-c3c5-4e2f-a4d3-3b7bc6a6ae5f"
      },
      "outputs": [
        {
          "data": {
            "text/plain": [
              "[[0, 2, 4, 6, 8, 10, 12, 14, 16, 18, 1, 3, 5, 7, 9, 11, 13, 15, 17, 19]]"
            ]
          },
          "execution_count": 9,
          "metadata": {},
          "output_type": "execute_result"
        }
      ],
      "source": [
        "z = [[i for i in range(20) if i%2 == 0] + [i for i in range(20) if i%2 != 0]]\n",
        "z"
      ]
    },
    {
      "cell_type": "markdown",
      "id": "74329497",
      "metadata": {
        "id": "74329497"
      },
      "source": [
        "```z = ['1.liste create' if i%2 == 0 else '2.liste create' for i in range(2)]```"
      ]
    },
    {
      "cell_type": "code",
      "execution_count": null,
      "id": "cc4770ff",
      "metadata": {
        "id": "cc4770ff",
        "outputId": "d826ae3c-894f-4fbd-b2d2-3edb304390e4"
      },
      "outputs": [
        {
          "data": {
            "text/plain": [
              "[[1, 3, 5, 7, 9, 11, 13, 15, 17, 19], [0, 2, 4, 6, 8, 10, 12, 14, 16, 18]]"
            ]
          },
          "execution_count": 7,
          "metadata": {},
          "output_type": "execute_result"
        }
      ],
      "source": [
        "z = [[i for i in range(20) if i%2 == 0] if i else [i for i in range(20) if i%2 != 0] for i in range(2)]\n",
        "z"
      ]
    },
    {
      "cell_type": "code",
      "execution_count": null,
      "id": "5a4a7480",
      "metadata": {
        "id": "5a4a7480"
      },
      "outputs": [],
      "source": [
        ""
      ]
    },
    {
      "cell_type": "markdown",
      "id": "187cdf8c",
      "metadata": {
        "id": "187cdf8c"
      },
      "source": [
        "# soru?"
      ]
    },
    {
      "cell_type": "code",
      "execution_count": null,
      "id": "c1732bb5",
      "metadata": {
        "id": "c1732bb5",
        "outputId": "04613121-bdf6-4b7e-a871-da44a09acd70"
      },
      "outputs": [
        {
          "name": "stdout",
          "output_type": "stream",
          "text": [
            "{'b': 1, 'u': 1, 'g': 1, 'ü': 5, 'n': 4, ' ': 7, 'ç': 1, 'o': 2, 'k': 3, 'h': 1, 'z': 1, 'l': 2, 'y': 3, 'm': 1, '.': 2, 'a': 2, 'r': 1, 'ı': 3, '2': 1, 's': 3, 'e': 1, 'i': 1}\n"
          ]
        }
      ],
      "source": [
        "string = 'bugün çok hüzünlüyüm. ayrılık yakın. 2 session '\n",
        "\n",
        "word_dict = {}\n",
        "\n",
        "for n in string:\n",
        "    if n in word_dict:\n",
        "        word_dict[n] += 1\n",
        "    else:\n",
        "        word_dict[n] = 1\n",
        "        \n",
        "print(word_dict)"
      ]
    },
    {
      "cell_type": "code",
      "execution_count": null,
      "id": "34967cab",
      "metadata": {
        "id": "34967cab",
        "outputId": "6d71869e-74e0-4cdc-d843-14b7dc3950ec"
      },
      "outputs": [
        {
          "name": "stdout",
          "output_type": "stream",
          "text": [
            "{'int': 2, 'str': 3, 'bool': 1, 'list': 1, 'tuple': 1, 'dict': 2, 'set': 1}\n"
          ]
        }
      ],
      "source": [
        "veri = [\"a\", \"b\", True, (False, 1), {\"1\" : 2}, [1,2], {\"2\" : \"two\"}, {2, \"3\"}, \"c\", 23, 0]\n",
        "\n",
        "tipler = [\"int\", \"str\", \"bool\", \"list\", \"tuple\", \"dict\", \"set\"]\n",
        "\n",
        "toplam={}.fromkeys(tipler,0)\n",
        "\n",
        "for i in range(len(veri)):\n",
        "    if type(veri[i])==int :toplam[\"int\"]+=1\n",
        "    elif type(veri[i])==str :toplam[\"str\"]+=1\n",
        "    elif type(veri[i])==bool :toplam[\"bool\"]+=1\n",
        "    elif type(veri[i])==list :toplam[\"list\"]+=1\n",
        "    elif type(veri[i])==tuple :toplam[\"tuple\"]+=1\n",
        "    elif type(veri[i])==dict :toplam[\"dict\"]+=1\n",
        "    elif type(veri[i])==set :toplam[\"set\"]+=1\n",
        "print(toplam)"
      ]
    },
    {
      "cell_type": "code",
      "execution_count": null,
      "id": "086a23c7",
      "metadata": {
        "id": "086a23c7",
        "outputId": "44073615-80ba-43be-8723-01e24784f865"
      },
      "outputs": [
        {
          "name": "stdout",
          "output_type": "stream",
          "text": [
            "{'int': 2, 'str': 3, 'bool': 1, 'list': 1, 'tuple': 1, 'dict': 2, 'set': 1}\n"
          ]
        }
      ],
      "source": [
        "veri = [\"a\", \"b\", True, (False, 1), {\"1\" : 2}, [1,2], {\"2\" : \"two\"}, {2, \"3\"}, \"c\", 23, 0]\n",
        "\n",
        "tipler = [\"int\", \"str\", \"bool\", \"list\", \"tuple\", \"dict\", \"set\"]\n",
        "\n",
        "toplam = {}.fromkeys(tipler,0)\n",
        "\n",
        "for i in range(len(veri)):   \n",
        "    # type(veri[i]).__name__ MAKE \"<class 'int'>\" to 'int' \n",
        "    if type(veri[i]).__name__ in list(toplam.keys()): \n",
        "        toplam[type(veri[i]).__name__] += 1 \n",
        "print(toplam)"
      ]
    },
    {
      "cell_type": "code",
      "execution_count": null,
      "id": "589665e9",
      "metadata": {
        "id": "589665e9"
      },
      "outputs": [],
      "source": [
        ""
      ]
    },
    {
      "cell_type": "code",
      "execution_count": null,
      "id": "b4c87b64",
      "metadata": {
        "id": "b4c87b64"
      },
      "outputs": [],
      "source": [
        ""
      ]
    },
    {
      "cell_type": "markdown",
      "id": "3b754fc7",
      "metadata": {
        "id": "3b754fc7"
      },
      "source": [
        "# for çoklu if statement - like and"
      ]
    },
    {
      "cell_type": "code",
      "execution_count": null,
      "id": "e9cb19f5",
      "metadata": {
        "id": "e9cb19f5"
      },
      "outputs": [],
      "source": [
        "liste = [0, 1, 2, 3, 4, 5, 6, 7, 8, 9]\n",
        "liste"
      ]
    },
    {
      "cell_type": "code",
      "execution_count": null,
      "id": "75d98207",
      "metadata": {
        "id": "75d98207",
        "outputId": "d6a01672-bf56-4e28-f7cd-8f6024a7bde8"
      },
      "outputs": [
        {
          "data": {
            "text/plain": [
              "[0, 30]"
            ]
          },
          "execution_count": 184,
          "metadata": {},
          "output_type": "execute_result"
        }
      ],
      "source": [
        "z = [i for i in range(41) if i%3==0 and i%5==0 and i%2==0]\n",
        "z"
      ]
    },
    {
      "cell_type": "code",
      "execution_count": null,
      "id": "59825276",
      "metadata": {
        "id": "59825276",
        "outputId": "f186f868-7626-4d4f-8fb5-624ffc01d429"
      },
      "outputs": [
        {
          "data": {
            "text/plain": [
              "[0, 30]"
            ]
          },
          "execution_count": 183,
          "metadata": {},
          "output_type": "execute_result"
        }
      ],
      "source": [
        "z = [i for i in range(41) if i%3==0 if i%5==0 if i%2==0]\n",
        "z"
      ]
    },
    {
      "cell_type": "code",
      "execution_count": null,
      "id": "58af8a11",
      "metadata": {
        "id": "58af8a11"
      },
      "outputs": [],
      "source": [
        ""
      ]
    },
    {
      "cell_type": "markdown",
      "id": "7351fa8d",
      "metadata": {
        "id": "7351fa8d"
      },
      "source": [
        "# iç içe for"
      ]
    },
    {
      "cell_type": "code",
      "execution_count": null,
      "id": "550fa06f",
      "metadata": {
        "id": "550fa06f"
      },
      "outputs": [],
      "source": [
        "liste = ['orange', 'apple']"
      ]
    },
    {
      "cell_type": "code",
      "execution_count": null,
      "id": "87ceab1b",
      "metadata": {
        "id": "87ceab1b",
        "outputId": "348e6675-82ef-4194-eb8a-a084089f06bc"
      },
      "outputs": [
        {
          "data": {
            "text/plain": [
              "['o', 'r', 'a', 'n', 'g', 'e', 'a', 'p', 'p', 'l', 'e']"
            ]
          },
          "execution_count": 71,
          "metadata": {},
          "output_type": "execute_result"
        }
      ],
      "source": [
        "harf_lis = []\n",
        "\n",
        "for i in liste:\n",
        "    for j in i:\n",
        "        harf_lis.append(j)\n",
        "        \n",
        "harf_lis"
      ]
    },
    {
      "cell_type": "code",
      "execution_count": null,
      "id": "91efed64",
      "metadata": {
        "id": "91efed64",
        "outputId": "456a4a52-5a76-4f22-834d-e5bc8fa71900"
      },
      "outputs": [
        {
          "data": {
            "text/plain": [
              "['o', 'r', 'a', 'n', 'g', 'e', 'a', 'p', 'p', 'l', 'e']"
            ]
          },
          "execution_count": 72,
          "metadata": {},
          "output_type": "execute_result"
        }
      ],
      "source": [
        "liste = ['orange', 'apple']  # bütün harfler tek liste (for - if) mantığı\n",
        "[j for i in liste for j in i]"
      ]
    },
    {
      "cell_type": "code",
      "execution_count": null,
      "id": "d3a63472",
      "metadata": {
        "id": "d3a63472",
        "outputId": "08a5a8d4-469f-48e6-ecd5-a319d582de18"
      },
      "outputs": [
        {
          "data": {
            "text/plain": [
              "['a', 'a', 'p', 'p', 'p', 'p', 'l', 'l', 'e', 'e']"
            ]
          },
          "execution_count": 75,
          "metadata": {},
          "output_type": "execute_result"
        }
      ],
      "source": [
        "liste = ['orange', 'apple']\n",
        "[j for j in i for i in liste]  # hatalı"
      ]
    },
    {
      "cell_type": "code",
      "execution_count": null,
      "id": "bd93fa92",
      "metadata": {
        "id": "bd93fa92"
      },
      "outputs": [],
      "source": [
        ""
      ]
    },
    {
      "cell_type": "code",
      "execution_count": null,
      "id": "30ff5a65",
      "metadata": {
        "id": "30ff5a65"
      },
      "outputs": [],
      "source": [
        "liste = ['orange', 'apple']"
      ]
    },
    {
      "cell_type": "code",
      "execution_count": null,
      "id": "cb94ba07",
      "metadata": {
        "id": "cb94ba07",
        "outputId": "6354809e-e808-465d-a28c-5bed95671931"
      },
      "outputs": [
        {
          "data": {
            "text/plain": [
              "['o', 'r', 'a', 'n', 'g', 'e', 'a', 'l', 'e']"
            ]
          },
          "execution_count": 78,
          "metadata": {},
          "output_type": "execute_result"
        }
      ],
      "source": [
        "[j  for i in liste for j in i if j !='p' ]  # p olmayan bütün harfler tek liste"
      ]
    },
    {
      "cell_type": "code",
      "execution_count": null,
      "id": "c233ce9d",
      "metadata": {
        "id": "c233ce9d",
        "outputId": "425a5620-365e-46bb-cf10-02a5158d4d53"
      },
      "outputs": [
        {
          "data": {
            "text/plain": [
              "[1, 1, 1, 1, 1, 1, 1, 1]"
            ]
          },
          "execution_count": 4,
          "metadata": {},
          "output_type": "execute_result"
        }
      ],
      "source": [
        "[1 for i in range(8)]"
      ]
    },
    {
      "cell_type": "code",
      "execution_count": null,
      "id": "a6187d37",
      "metadata": {
        "id": "a6187d37",
        "outputId": "190d8449-3462-4976-890b-988bba1e457e"
      },
      "outputs": [
        {
          "data": {
            "text/plain": [
              "[[], [], [], [], [], [], [], []]"
            ]
          },
          "execution_count": 5,
          "metadata": {},
          "output_type": "execute_result"
        }
      ],
      "source": [
        "[[] for i in range(8)]"
      ]
    },
    {
      "cell_type": "code",
      "execution_count": null,
      "id": "d1d68479",
      "metadata": {
        "id": "d1d68479",
        "outputId": "558f2c80-dfc4-4bbe-9171-0290b9c0613a"
      },
      "outputs": [
        {
          "data": {
            "text/plain": [
              "[['o', 'r', 'a', 'n', 'g', 'e'], ['a', 'p', 'p', 'l', 'e']]"
            ]
          },
          "execution_count": 79,
          "metadata": {},
          "output_type": "execute_result"
        }
      ],
      "source": [
        "liste = ['orange', 'apple']\n",
        "[[j  for j in i] for i in liste]  # iki ayrı liste"
      ]
    },
    {
      "cell_type": "code",
      "execution_count": null,
      "id": "9cf24459",
      "metadata": {
        "id": "9cf24459"
      },
      "outputs": [],
      "source": [
        ""
      ]
    },
    {
      "cell_type": "code",
      "execution_count": null,
      "id": "7488e48f",
      "metadata": {
        "id": "7488e48f"
      },
      "outputs": [],
      "source": [
        "int_list = [11, 12]"
      ]
    },
    {
      "cell_type": "code",
      "execution_count": null,
      "id": "7d3025e9",
      "metadata": {
        "id": "7d3025e9",
        "outputId": "b1389d98-03b4-46b5-d8f2-3d023bfea720"
      },
      "outputs": [
        {
          "data": {
            "text/plain": [
              "[[0, 1, 2, 3, 4, 5, 6, 7, 8, 9, 10], [0, 1, 2, 3, 4, 5, 6, 7, 8, 9, 10, 11]]"
            ]
          },
          "execution_count": 6,
          "metadata": {},
          "output_type": "execute_result"
        }
      ],
      "source": [
        "[[j  for j in range(i)] for i in int_list]  # iki ayrı liste"
      ]
    },
    {
      "cell_type": "code",
      "execution_count": null,
      "id": "61f6bf77",
      "metadata": {
        "id": "61f6bf77"
      },
      "outputs": [],
      "source": [
        ""
      ]
    },
    {
      "cell_type": "code",
      "execution_count": null,
      "id": "662ad5d9",
      "metadata": {
        "id": "662ad5d9",
        "outputId": "f772e6cf-3fda-437a-978f-1feaf3b4b441"
      },
      "outputs": [
        {
          "name": "stdout",
          "output_type": "stream",
          "text": [
            "10 5\n"
          ]
        }
      ],
      "source": [
        "a = b = 5\n",
        "a = a+b\n",
        "print(a, b)"
      ]
    },
    {
      "cell_type": "code",
      "execution_count": null,
      "id": "0957be53",
      "metadata": {
        "id": "0957be53",
        "outputId": "543a5b36-a796-4ad9-8589-2d6530875dde"
      },
      "outputs": [
        {
          "data": {
            "text/plain": [
              "<enumerate at 0x1d9fbec8d40>"
            ]
          },
          "execution_count": 29,
          "metadata": {},
          "output_type": "execute_result"
        }
      ],
      "source": [
        "enumerate('a')"
      ]
    },
    {
      "cell_type": "code",
      "execution_count": null,
      "id": "75b69621",
      "metadata": {
        "id": "75b69621"
      },
      "outputs": [],
      "source": [
        "bos_tek = bos_cif = []  # aynı bellek - yer\n",
        "\n",
        "bos_tek = []  # yeni bellek - yer\n",
        "bos_cif = []  # yeni bellek - yer\n"
      ]
    },
    {
      "cell_type": "code",
      "execution_count": null,
      "id": "a8f6b33c",
      "metadata": {
        "id": "a8f6b33c",
        "outputId": "5b1f4b9c-e0d0-478e-8aa3-bd3051210831"
      },
      "outputs": [
        {
          "name": "stdout",
          "output_type": "stream",
          "text": [
            "[0, 2, 4, 6, 8, 10, 12, 14, 16, 18]\n",
            "[1, 3, 5, 7, 9, 11, 13, 15, 17, 19]\n"
          ]
        }
      ],
      "source": [
        "for i in range(2):  # 0, 1\n",
        "    if i:\n",
        "        for j in range(20):\n",
        "            if j%2 == 0:\n",
        "                bos_cif.append(j)\n",
        "    else:\n",
        "        for k in range(20):\n",
        "            if k%2 != 0:\n",
        "                bos_tek.append(k)\n",
        "\n",
        "print(bos_cif)\n",
        "print(bos_tek)"
      ]
    },
    {
      "cell_type": "code",
      "execution_count": null,
      "id": "63491f65",
      "metadata": {
        "id": "63491f65",
        "outputId": "4d04fc29-9a40-4004-cf37-3c95da6f612b"
      },
      "outputs": [
        {
          "name": "stdout",
          "output_type": "stream",
          "text": [
            "[0, 2, 4, 6, 8, 10, 12, 14, 16, 18]\n",
            "[1, 3, 5, 7, 9, 11, 13, 15, 17, 19]\n"
          ]
        }
      ],
      "source": [
        "for i in range(2):\n",
        "    if i:\n",
        "        bos_cif = [i for i in range(20) if i%2 == 0]\n",
        "    else:\n",
        "        bos_tek = [i for i in range(20) if i%2 != 0]\n",
        "\n",
        "print(bos_cif)\n",
        "print(bos_tek)"
      ]
    },
    {
      "cell_type": "code",
      "execution_count": null,
      "id": "1260d4b0",
      "metadata": {
        "id": "1260d4b0",
        "outputId": "50860920-bf6b-4462-fe0f-24339c71b036"
      },
      "outputs": [
        {
          "data": {
            "text/plain": [
              "[[1, 3, 5, 7, 9, 11, 13, 15, 17, 19], [0, 2, 4, 6, 8, 10, 12, 14, 16, 18]]"
            ]
          },
          "execution_count": 4,
          "metadata": {},
          "output_type": "execute_result"
        }
      ],
      "source": [
        "z = [[i for i in range(20) if i%2 == 0] if i else [i for i in range(20) if i%2 != 0] for i in range(2)]\n",
        "z"
      ]
    },
    {
      "cell_type": "code",
      "execution_count": null,
      "id": "85f7ea29",
      "metadata": {
        "id": "85f7ea29"
      },
      "outputs": [],
      "source": [
        ""
      ]
    },
    {
      "cell_type": "markdown",
      "id": "f8e94cbb",
      "metadata": {
        "id": "f8e94cbb"
      },
      "source": [
        "# list - tuple - set - dict ile (list comprehension)"
      ]
    },
    {
      "cell_type": "code",
      "execution_count": null,
      "id": "1864d0a8",
      "metadata": {
        "id": "1864d0a8",
        "outputId": "f32790a6-8b73-48dd-dec6-37772e2764a3"
      },
      "outputs": [
        {
          "data": {
            "text/plain": [
              "[0, 1, 2, 3, 4, 5, 6, 7, 8, 9]"
            ]
          },
          "execution_count": 15,
          "metadata": {},
          "output_type": "execute_result"
        }
      ],
      "source": [
        "a = [i for i in range(10)]\n",
        "a"
      ]
    },
    {
      "cell_type": "markdown",
      "id": "ac5f9933",
      "metadata": {
        "id": "ac5f9933"
      },
      "source": [
        "## tuple list Comp"
      ]
    },
    {
      "cell_type": "code",
      "execution_count": null,
      "id": "cee896bf",
      "metadata": {
        "id": "cee896bf",
        "outputId": "0c49ad2a-4a1a-4380-8746-9b94049f5e90"
      },
      "outputs": [
        {
          "name": "stdout",
          "output_type": "stream",
          "text": [
            "(0, 1, 2, 3, 4, 5, 6, 7, 8, 9)\n"
          ]
        },
        {
          "data": {
            "text/plain": [
              "tuple"
            ]
          },
          "execution_count": 86,
          "metadata": {},
          "output_type": "execute_result"
        }
      ],
      "source": [
        "a = *range(10),\n",
        "print(a)\n",
        "type(a)"
      ]
    },
    {
      "cell_type": "code",
      "execution_count": null,
      "id": "9a65aeeb",
      "metadata": {
        "id": "9a65aeeb",
        "outputId": "c4935dbf-5609-4beb-e520-592d05bd2b6b"
      },
      "outputs": [
        {
          "name": "stdout",
          "output_type": "stream",
          "text": [
            "(0, 1, 2, 3, 4, 5, 6, 7, 8, 9)\n"
          ]
        },
        {
          "data": {
            "text/plain": [
              "tuple"
            ]
          },
          "execution_count": 85,
          "metadata": {},
          "output_type": "execute_result"
        }
      ],
      "source": [
        "b = *(i for i in range(10)),\n",
        "print(b)\n",
        "type(b)"
      ]
    },
    {
      "cell_type": "code",
      "execution_count": null,
      "id": "82359f82",
      "metadata": {
        "id": "82359f82",
        "outputId": "e1dec2b3-d444-42e7-9d3f-c0a710784df2"
      },
      "outputs": [
        {
          "name": "stdout",
          "output_type": "stream",
          "text": [
            "([0], [1], [2], [3], [4], [5], [6], [7], [8], [9])\n"
          ]
        },
        {
          "data": {
            "text/plain": [
              "tuple"
            ]
          },
          "execution_count": 87,
          "metadata": {},
          "output_type": "execute_result"
        }
      ],
      "source": [
        "b = *([i] for i in range(10)),\n",
        "print(b)\n",
        "type(b)"
      ]
    },
    {
      "cell_type": "code",
      "execution_count": null,
      "id": "92e8b89c",
      "metadata": {
        "id": "92e8b89c"
      },
      "outputs": [],
      "source": [
        ""
      ]
    },
    {
      "cell_type": "markdown",
      "id": "d3291b2f",
      "metadata": {
        "id": "d3291b2f"
      },
      "source": [
        "## set list Comp"
      ]
    },
    {
      "cell_type": "code",
      "execution_count": null,
      "id": "3f211f65",
      "metadata": {
        "id": "3f211f65",
        "outputId": "342f8596-e67a-405a-a5eb-4aa5c96bb970"
      },
      "outputs": [
        {
          "name": "stdout",
          "output_type": "stream",
          "text": [
            "{'m', 'e', 'n', 'd'}\n"
          ]
        },
        {
          "data": {
            "text/plain": [
              "set"
            ]
          },
          "execution_count": 89,
          "metadata": {},
          "output_type": "execute_result"
        }
      ],
      "source": [
        "c = set('deneme')  \n",
        "print(c)\n",
        "type(c)"
      ]
    },
    {
      "cell_type": "code",
      "execution_count": null,
      "id": "293a0616",
      "metadata": {
        "id": "293a0616",
        "outputId": "36548972-e3bc-4ed1-f6a3-a3c1c59297bd"
      },
      "outputs": [
        {
          "name": "stdout",
          "output_type": "stream",
          "text": [
            "{0, 1, 2, 3, 4, 5, 6, 7, 8, 9}\n"
          ]
        },
        {
          "data": {
            "text/plain": [
              "set"
            ]
          },
          "execution_count": 90,
          "metadata": {},
          "output_type": "execute_result"
        }
      ],
      "source": [
        "set_oldu = {i for i in range(10)}\n",
        "print(set_oldu)\n",
        "type(set_oldu)"
      ]
    },
    {
      "cell_type": "code",
      "execution_count": null,
      "id": "52256c88",
      "metadata": {
        "id": "52256c88",
        "outputId": "9821bdd1-c788-448b-efef-5f7095350cfd"
      },
      "outputs": [
        {
          "name": "stdout",
          "output_type": "stream",
          "text": [
            "{'m', 'e', 'n', 'd'}\n"
          ]
        },
        {
          "data": {
            "text/plain": [
              "set"
            ]
          },
          "execution_count": 91,
          "metadata": {},
          "output_type": "execute_result"
        }
      ],
      "source": [
        "set_oldu = {i for i in 'deneme'}\n",
        "print(set_oldu)\n",
        "type(set_oldu)"
      ]
    },
    {
      "cell_type": "markdown",
      "id": "f52b0432",
      "metadata": {
        "id": "f52b0432"
      },
      "source": [
        "## dict list Comprehension  - key, value (zip, enumarete, etc)"
      ]
    },
    {
      "cell_type": "code",
      "execution_count": null,
      "id": "3dfe87f9",
      "metadata": {
        "id": "3dfe87f9",
        "outputId": "7782e0db-3652-4d3e-f369-49bb74bc0524"
      },
      "outputs": [
        {
          "name": "stdout",
          "output_type": "stream",
          "text": [
            "{}\n"
          ]
        },
        {
          "data": {
            "text/plain": [
              "dict"
            ]
          },
          "execution_count": 92,
          "metadata": {},
          "output_type": "execute_result"
        }
      ],
      "source": [
        "dic = {}\n",
        "print(dic)\n",
        "type(dic)"
      ]
    },
    {
      "cell_type": "code",
      "execution_count": null,
      "id": "e61b94a4",
      "metadata": {
        "id": "e61b94a4",
        "outputId": "122fc8e1-9029-4d79-a880-6b141b0d2397"
      },
      "outputs": [
        {
          "data": {
            "text/plain": [
              "dict"
            ]
          },
          "execution_count": 34,
          "metadata": {},
          "output_type": "execute_result"
        }
      ],
      "source": [
        "dic = dict()\n",
        "print(dic)\n",
        "type(dic)"
      ]
    },
    {
      "cell_type": "code",
      "execution_count": null,
      "id": "b9f8923c",
      "metadata": {
        "id": "b9f8923c",
        "outputId": "33f9200d-bb35-4285-8662-a1be4461f9cb"
      },
      "outputs": [
        {
          "data": {
            "text/plain": [
              "(dict, {'a': 1, 12: 2})"
            ]
          },
          "execution_count": 38,
          "metadata": {},
          "output_type": "execute_result"
        }
      ],
      "source": [
        "dic = { 'a' : 1, 12 : 2 }\n",
        "print(dic)\n",
        "type(dic)"
      ]
    },
    {
      "cell_type": "code",
      "execution_count": null,
      "id": "22862ab6",
      "metadata": {
        "id": "22862ab6",
        "outputId": "cdf0fb43-08b9-4eb5-e35f-4767d228d602"
      },
      "outputs": [
        {
          "data": {
            "text/plain": [
              "(dict, {'a': 1, 'banana': 2})"
            ]
          },
          "execution_count": 43,
          "metadata": {},
          "output_type": "execute_result"
        }
      ],
      "source": [
        "dic = dict( a = 1, banana = 2 )\n",
        "print(dic)\n",
        "type(dic)"
      ]
    },
    {
      "cell_type": "code",
      "execution_count": null,
      "id": "9d092153",
      "metadata": {
        "id": "9d092153"
      },
      "outputs": [],
      "source": [
        ""
      ]
    },
    {
      "cell_type": "code",
      "execution_count": null,
      "id": "fb985a5d",
      "metadata": {
        "id": "fb985a5d",
        "outputId": "40ff4d81-a433-4e52-e5e0-46ad04e3bcc9"
      },
      "outputs": [
        {
          "data": {
            "text/plain": [
              "[0, 1, 2, 3, 4, 5, 6, 7, 8, 9]"
            ]
          },
          "execution_count": 23,
          "metadata": {},
          "output_type": "execute_result"
        }
      ],
      "source": [
        "a = [i for i in range(10)]\n",
        "a"
      ]
    },
    {
      "cell_type": "code",
      "execution_count": null,
      "id": "5d74bc96",
      "metadata": {
        "id": "5d74bc96",
        "outputId": "ef9011db-a03e-4eed-b3f2-6e5cc43ad799"
      },
      "outputs": [
        {
          "name": "stdout",
          "output_type": "stream",
          "text": [
            "<class 'dict'> {0: 0, 1: 1, 2: 2, 3: 3, 4: 4, 5: 5, 6: 6, 7: 7, 8: 8, 9: 9}\n"
          ]
        }
      ],
      "source": [
        "dic_oldu = {i:i for i in range(10)}\n",
        "print(dic_oldu)\n",
        "type(dic_oldu)"
      ]
    },
    {
      "cell_type": "code",
      "execution_count": null,
      "id": "5231be45",
      "metadata": {
        "id": "5231be45"
      },
      "outputs": [],
      "source": [
        ""
      ]
    },
    {
      "cell_type": "code",
      "execution_count": null,
      "id": "b7049ad1",
      "metadata": {
        "id": "b7049ad1",
        "outputId": "ca3d1818-fbf3-4a3e-bd47-c70c1f39f2e4"
      },
      "outputs": [
        {
          "data": {
            "text/plain": [
              "{1: 0, 2: 0, 3: 0, 4: 0, 5: 0, 6: 0, 7: 0, 8: 0, 9: 0}"
            ]
          },
          "execution_count": 37,
          "metadata": {},
          "output_type": "execute_result"
        }
      ],
      "source": [
        "liste = [1, 2, 3, 4, 5, 6, 7, 8, 9]\n",
        "dic = dict().fromkeys(liste, 0) \n",
        "print(dic)\n",
        "type(dic)"
      ]
    },
    {
      "cell_type": "code",
      "execution_count": null,
      "id": "e3e32c66",
      "metadata": {
        "id": "e3e32c66",
        "outputId": "cc83db3e-5c7c-4311-c335-93b8702c9554"
      },
      "outputs": [
        {
          "data": {
            "text/plain": [
              "(dict, {1: 0, 2: 0, 3: 0, 4: 0, 5: 0, 6: 0, 7: 0, 8: 0, 9: 0})"
            ]
          },
          "execution_count": 38,
          "metadata": {},
          "output_type": "execute_result"
        }
      ],
      "source": [
        "dic = {i:0 for i in liste}\n",
        "print(dic)\n",
        "type(dic)"
      ]
    },
    {
      "cell_type": "code",
      "execution_count": null,
      "id": "4b19e30e",
      "metadata": {
        "id": "4b19e30e",
        "outputId": "3c4f0928-ce41-4b55-a3ce-453dcb69e48d"
      },
      "outputs": [
        {
          "name": "stdout",
          "output_type": "stream",
          "text": [
            "{0: 0, 1: 0, 2: 0, 3: 0, 4: 0, 5: 0, 6: 0, 7: 0, 8: 0, 9: 0}\n"
          ]
        },
        {
          "data": {
            "text/plain": [
              "dict"
            ]
          },
          "execution_count": 93,
          "metadata": {},
          "output_type": "execute_result"
        }
      ],
      "source": [
        "dic = {i:0 for i in range(10)}\n",
        "print(dic)\n",
        "type(dic)"
      ]
    },
    {
      "cell_type": "code",
      "execution_count": null,
      "id": "9bb6290c",
      "metadata": {
        "id": "9bb6290c",
        "outputId": "06a66c15-cfc7-43a6-c9b4-317f2c67b116"
      },
      "outputs": [
        {
          "name": "stdout",
          "output_type": "stream",
          "text": [
            "{'d': 0, 'e': 0, 'n': 0, 'm': 0}\n"
          ]
        },
        {
          "data": {
            "text/plain": [
              "dict"
            ]
          },
          "execution_count": 94,
          "metadata": {},
          "output_type": "execute_result"
        }
      ],
      "source": [
        "dic = {i:0 for i in 'deneme'}\n",
        "print(dic)\n",
        "type(dic)"
      ]
    },
    {
      "cell_type": "code",
      "execution_count": null,
      "id": "ee33ca6e",
      "metadata": {
        "id": "ee33ca6e"
      },
      "outputs": [],
      "source": [
        ""
      ]
    },
    {
      "cell_type": "markdown",
      "id": "ef137de0",
      "metadata": {
        "id": "ef137de0"
      },
      "source": [
        "# ternary if"
      ]
    },
    {
      "cell_type": "markdown",
      "id": "d975cde9",
      "metadata": {
        "id": "d975cde9"
      },
      "source": [
        "Ternary Yapıların formulasyonu :\n",
        "\n",
        "```python\n",
        "\n",
        "if condition :\n",
        "    execute-body1\n",
        "else :\n",
        "    execute-body2\n",
        "   \n",
        "    \n",
        "execute-body1 if condition else execute-body2    \n",
        "```"
      ]
    },
    {
      "cell_type": "markdown",
      "id": "f690b8e5",
      "metadata": {
        "id": "f690b8e5"
      },
      "source": [
        "```\n",
        "Klavyeden girilen 0 ile 999 arasındaki sayıların basamak sayısını ekrana yazdıran algoritma ?  - stringe cevirmeden"
      ]
    },
    {
      "cell_type": "code",
      "execution_count": null,
      "id": "38783994",
      "metadata": {
        "id": "38783994",
        "outputId": "48d8f88f-1c2d-4062-c805-c6b8e01090aa"
      },
      "outputs": [
        {
          "name": "stdout",
          "output_type": "stream",
          "text": [
            "1 basamak\n"
          ]
        }
      ],
      "source": [
        "input_al = 9    \n",
        "\n",
        "# condition-koşulların yerleri değişirse hata oluşur sıralama önemli\n",
        "\n",
        "if 0 <= input_al < 10:     # 0 <= input_al and input_al < 10\n",
        "    print('1 basamak')\n",
        "elif input_al < 100:     \n",
        "    print('2 basamak')\n",
        "elif input_al < 1000:     \n",
        "    print('3 basamak')\n",
        "else:\n",
        "    print('error')"
      ]
    },
    {
      "cell_type": "code",
      "execution_count": null,
      "id": "3adb35bf",
      "metadata": {
        "id": "3adb35bf",
        "outputId": "31522b48-2eea-4544-afb9-ab8c5be2fe8d"
      },
      "outputs": [
        {
          "name": "stdout",
          "output_type": "stream",
          "text": [
            "2 basamak\n"
          ]
        }
      ],
      "source": [
        "input_al = 994\n",
        "\n",
        "# condition sıralama önemli değil\n",
        "\n",
        "if 0 <= input_al < 10:     # 0 <= input_al and input_al < 10\n",
        "    print('1 basamak')\n",
        "elif 10 <= input_al < 100:     \n",
        "    print('2 basamak')\n",
        "elif 100 <= input_al < 1000:    \n",
        "    print('3 basamak')\n",
        "else:\n",
        "    print('error')"
      ]
    },
    {
      "cell_type": "code",
      "execution_count": null,
      "id": "81f64d52",
      "metadata": {
        "id": "81f64d52"
      },
      "outputs": [],
      "source": [
        "input_al = 994\n",
        "\n",
        "# basit ternary if\n",
        "\n",
        "if 0 <= input_al < 10:     # 0 <= input_al and input_al < 10\n",
        "    print('1 basamak')\n",
        "else:\n",
        "    print('error')"
      ]
    },
    {
      "cell_type": "code",
      "execution_count": null,
      "id": "f55241fc",
      "metadata": {
        "id": "f55241fc",
        "outputId": "39eae546-105e-47aa-8464-07f4ba10846a"
      },
      "outputs": [
        {
          "name": "stdout",
          "output_type": "stream",
          "text": [
            "error\n"
          ]
        }
      ],
      "source": [
        "input_al = 99\n",
        "\n",
        "print('1 basamak') if 0 <= input_al < 10 else print('error')"
      ]
    },
    {
      "cell_type": "code",
      "execution_count": null,
      "id": "601543d7",
      "metadata": {
        "id": "601543d7"
      },
      "outputs": [],
      "source": [
        "input_al = 994\n",
        "\n",
        "if 0 <= input_al < 10:     # 0 <= input_al and input_al < 10\n",
        "    print('1 basamak')\n",
        "elif 10 <= input_al < 100:     \n",
        "    print('2 basamak')\n",
        "elif 100 <= input_al < 1000:    \n",
        "    print('3 basamak')\n",
        "else:\n",
        "    print('error')"
      ]
    },
    {
      "cell_type": "code",
      "execution_count": null,
      "id": "9bdf34a7",
      "metadata": {
        "id": "9bdf34a7",
        "outputId": "1fce35d2-384c-4fc5-9ab6-7eedf46f39d8"
      },
      "outputs": [
        {
          "name": "stdout",
          "output_type": "stream",
          "text": [
            "3 basamak\n"
          ]
        }
      ],
      "source": [
        "# bütün kosullar ternary i statement\n",
        "input_al = 555\n",
        "print('1 basamak') if 0 <= input_al < 10 else print('2 basamak') if 10 <= input_al < 100 else print('3 basamak') if 100 <= input_al < 1000 else print('error')"
      ]
    },
    {
      "cell_type": "code",
      "execution_count": null,
      "id": "6c1e24db",
      "metadata": {
        "id": "6c1e24db"
      },
      "outputs": [],
      "source": [
        ""
      ]
    },
    {
      "cell_type": "markdown",
      "id": "a364b5c2",
      "metadata": {
        "id": "a364b5c2"
      },
      "source": [
        "# fonksiyon nedir"
      ]
    },
    {
      "cell_type": "markdown",
      "id": "ef86aef7",
      "metadata": {
        "id": "ef86aef7"
      },
      "source": [
        "```\n",
        "Functions are python objects that facilitates re-usability of a program/code. They allow you to write\n",
        "smarter, neater codes that will increase your code efficiency.\n",
        "DRY: Do not rpeat yourself.... A function run when you call it....\n",
        "The general format of a function is:\n",
        "\n",
        "def function_name(inputs):\n",
        " \"\"\"\n",
        " docstrings\n",
        " \"\"\"\n",
        " instructions to execute\n",
        " return output\n",
        "```"
      ]
    },
    {
      "cell_type": "markdown",
      "id": "3d18bb9b",
      "metadata": {
        "id": "3d18bb9b"
      },
      "source": [
        "## No input"
      ]
    },
    {
      "cell_type": "code",
      "execution_count": null,
      "id": "b8d71d9d",
      "metadata": {
        "id": "b8d71d9d"
      },
      "outputs": [],
      "source": [
        "def hello_function():\n",
        " print (\"Helloe everyone\")"
      ]
    },
    {
      "cell_type": "code",
      "execution_count": null,
      "id": "9066a712",
      "metadata": {
        "id": "9066a712",
        "outputId": "bab76af0-641e-41c5-f89f-74a29004434a"
      },
      "outputs": [
        {
          "data": {
            "text/plain": [
              "<function __main__.hello_function()>"
            ]
          },
          "execution_count": 6,
          "metadata": {},
          "output_type": "execute_result"
        }
      ],
      "source": [
        "hello_function"
      ]
    },
    {
      "cell_type": "code",
      "execution_count": null,
      "id": "df255916",
      "metadata": {
        "id": "df255916",
        "outputId": "72f978e1-3dcb-4871-a4b7-bd5f253b6647"
      },
      "outputs": [
        {
          "name": "stdout",
          "output_type": "stream",
          "text": [
            "Helloe everyone\n"
          ]
        }
      ],
      "source": [
        "hello_function()"
      ]
    },
    {
      "cell_type": "code",
      "execution_count": null,
      "id": "ffac97ed",
      "metadata": {
        "id": "ffac97ed"
      },
      "outputs": [],
      "source": [
        ""
      ]
    },
    {
      "cell_type": "markdown",
      "id": "dfae13bf",
      "metadata": {
        "id": "dfae13bf"
      },
      "source": [
        "## One input"
      ]
    },
    {
      "cell_type": "code",
      "execution_count": null,
      "id": "2aadc0e5",
      "metadata": {
        "id": "2aadc0e5"
      },
      "outputs": [],
      "source": [
        "def equ_function(x):\n",
        " y=x+1\n",
        " return y"
      ]
    },
    {
      "cell_type": "code",
      "execution_count": null,
      "id": "3971641f",
      "metadata": {
        "id": "3971641f",
        "outputId": "8afa43e3-0505-46fb-f0d4-4cd0239f5871"
      },
      "outputs": [
        {
          "data": {
            "text/plain": [
              "4"
            ]
          },
          "execution_count": 9,
          "metadata": {},
          "output_type": "execute_result"
        }
      ],
      "source": [
        "equ_function(3)"
      ]
    },
    {
      "cell_type": "code",
      "execution_count": null,
      "id": "a74145e3",
      "metadata": {
        "id": "a74145e3",
        "outputId": "49c37ab2-6b18-48e1-bc2b-1db7cb04b2cf"
      },
      "outputs": [
        {
          "name": "stdout",
          "output_type": "stream",
          "text": [
            "Python is the best codding language\n"
          ]
        }
      ],
      "source": [
        "a, b, c = 'Python', \"Matlab\", \"MathCad\"\n",
        "\n",
        "def sw_function(x):\n",
        "    print (x, \"is the best codding language\")\n",
        "\n",
        "sw_function(a)"
      ]
    },
    {
      "cell_type": "code",
      "execution_count": null,
      "id": "220891c5",
      "metadata": {
        "id": "220891c5"
      },
      "outputs": [],
      "source": [
        ""
      ]
    },
    {
      "cell_type": "markdown",
      "id": "50f958b8",
      "metadata": {
        "id": "50f958b8"
      },
      "source": [
        "## Many inputs"
      ]
    },
    {
      "cell_type": "code",
      "execution_count": null,
      "id": "aadf080b",
      "metadata": {
        "id": "aadf080b"
      },
      "outputs": [],
      "source": [
        "def add_function(x1,x2):\n",
        "    y=x1+x2\n",
        "    return y"
      ]
    },
    {
      "cell_type": "code",
      "execution_count": null,
      "id": "44988f4b",
      "metadata": {
        "id": "44988f4b",
        "outputId": "0f749878-fa16-4557-bc60-36a8f10c048f"
      },
      "outputs": [
        {
          "data": {
            "text/plain": [
              "90"
            ]
          },
          "execution_count": 17,
          "metadata": {},
          "output_type": "execute_result"
        }
      ],
      "source": [
        "add_function(50,40)"
      ]
    },
    {
      "cell_type": "code",
      "execution_count": null,
      "id": "863b3d19",
      "metadata": {
        "id": "863b3d19",
        "outputId": "777c1ef2-50ac-4a7c-9901-b9546719636a"
      },
      "outputs": [
        {
          "name": "stdout",
          "output_type": "stream",
          "text": [
            "Error: only integer allowed\n"
          ]
        },
        {
          "ename": "UnboundLocalError",
          "evalue": "local variable 'y' referenced before assignment",
          "output_type": "error",
          "traceback": [
            "\u001b[1;31m---------------------------------------------------------------------------\u001b[0m",
            "\u001b[1;31mUnboundLocalError\u001b[0m                         Traceback (most recent call last)",
            "\u001b[1;32m~\\AppData\\Local\\Temp/ipykernel_8248/3587018185.py\u001b[0m in \u001b[0;36m<module>\u001b[1;34m\u001b[0m\n\u001b[0;32m      6\u001b[0m     \u001b[0mprint\u001b[0m \u001b[1;33m(\u001b[0m\u001b[0my\u001b[0m\u001b[1;33m)\u001b[0m\u001b[1;33m\u001b[0m\u001b[1;33m\u001b[0m\u001b[0m\n\u001b[0;32m      7\u001b[0m \u001b[1;33m\u001b[0m\u001b[0m\n\u001b[1;32m----> 8\u001b[1;33m \u001b[0madd3_function\u001b[0m\u001b[1;33m(\u001b[0m\u001b[0mx1\u001b[0m\u001b[1;33m=\u001b[0m\u001b[1;34m'3'\u001b[0m\u001b[1;33m,\u001b[0m\u001b[0mx2\u001b[0m\u001b[1;33m=\u001b[0m\u001b[1;36m4\u001b[0m\u001b[1;33m)\u001b[0m\u001b[1;33m\u001b[0m\u001b[1;33m\u001b[0m\u001b[0m\n\u001b[0m",
            "\u001b[1;32m~\\AppData\\Local\\Temp/ipykernel_8248/3587018185.py\u001b[0m in \u001b[0;36madd3_function\u001b[1;34m(x1, x2)\u001b[0m\n\u001b[0;32m      4\u001b[0m     \u001b[1;32melse\u001b[0m\u001b[1;33m:\u001b[0m\u001b[1;33m\u001b[0m\u001b[1;33m\u001b[0m\u001b[0m\n\u001b[0;32m      5\u001b[0m         \u001b[0my\u001b[0m\u001b[1;33m=\u001b[0m\u001b[0mx1\u001b[0m\u001b[1;33m+\u001b[0m\u001b[0mx2\u001b[0m\u001b[1;33m\u001b[0m\u001b[1;33m\u001b[0m\u001b[0m\n\u001b[1;32m----> 6\u001b[1;33m     \u001b[0mprint\u001b[0m \u001b[1;33m(\u001b[0m\u001b[0my\u001b[0m\u001b[1;33m)\u001b[0m\u001b[1;33m\u001b[0m\u001b[1;33m\u001b[0m\u001b[0m\n\u001b[0m\u001b[0;32m      7\u001b[0m \u001b[1;33m\u001b[0m\u001b[0m\n\u001b[0;32m      8\u001b[0m \u001b[0madd3_function\u001b[0m\u001b[1;33m(\u001b[0m\u001b[0mx1\u001b[0m\u001b[1;33m=\u001b[0m\u001b[1;34m'3'\u001b[0m\u001b[1;33m,\u001b[0m\u001b[0mx2\u001b[0m\u001b[1;33m=\u001b[0m\u001b[1;36m4\u001b[0m\u001b[1;33m)\u001b[0m\u001b[1;33m\u001b[0m\u001b[1;33m\u001b[0m\u001b[0m\n",
            "\u001b[1;31mUnboundLocalError\u001b[0m: local variable 'y' referenced before assignment"
          ]
        }
      ],
      "source": [
        "def add3_function(x1,x2):\n",
        "    if type(x1) != int or type(x2) != int:\n",
        "        print(\"Error: only integer allowed\")\n",
        "    else: \n",
        "        y=x1+x2\n",
        "    print (y) \n",
        "\n",
        "add3_function(x1='3',x2=4)"
      ]
    },
    {
      "cell_type": "code",
      "execution_count": null,
      "id": "0786b9be",
      "metadata": {
        "id": "0786b9be"
      },
      "outputs": [],
      "source": [
        "def full_name(first, middle, last):\n",
        "    print (f'{first.strip().capitalize()} {middle.upper():.1s} {last.capitalize()}')"
      ]
    },
    {
      "cell_type": "code",
      "execution_count": null,
      "id": "305c4c3d",
      "metadata": {
        "id": "305c4c3d",
        "outputId": "85182f06-33e4-4d03-ac85-b2d6694c4c62"
      },
      "outputs": [
        {
          "name": "stdout",
          "output_type": "stream",
          "text": [
            "Ali V Deli\n"
          ]
        }
      ],
      "source": [
        "full_name(\" ali \", 'veli', 'deli')"
      ]
    },
    {
      "cell_type": "code",
      "execution_count": null,
      "id": "af4e5a67",
      "metadata": {
        "id": "af4e5a67"
      },
      "outputs": [],
      "source": [
        ""
      ]
    },
    {
      "cell_type": "markdown",
      "id": "60ff0b9d",
      "metadata": {
        "id": "60ff0b9d"
      },
      "source": [
        "## Unkown inputs: Packing, Unpacking"
      ]
    },
    {
      "cell_type": "markdown",
      "id": "bb76da87",
      "metadata": {
        "id": "bb76da87"
      },
      "source": [
        "### Tuple inputs"
      ]
    },
    {
      "cell_type": "code",
      "execution_count": null,
      "id": "1658d0ea",
      "metadata": {
        "id": "1658d0ea"
      },
      "outputs": [],
      "source": [
        "def say_Hi1(a, b):\n",
        "    people=[a, b]\n",
        "    for name in people:\n",
        "        print(f\"Hi {name}\")"
      ]
    },
    {
      "cell_type": "code",
      "execution_count": null,
      "id": "d647c509",
      "metadata": {
        "id": "d647c509",
        "outputId": "83a627c0-f818-457a-da94-dd89c1239d92"
      },
      "outputs": [
        {
          "name": "stdout",
          "output_type": "stream",
          "text": [
            "Hi Ali\n",
            "Hi Veli\n"
          ]
        }
      ],
      "source": [
        "say_Hi1('Ali', \"Veli\") "
      ]
    },
    {
      "cell_type": "code",
      "execution_count": null,
      "id": "72a277f4",
      "metadata": {
        "id": "72a277f4",
        "outputId": "4ecac3af-ee8d-4e7f-f4a5-f87921267128"
      },
      "outputs": [
        {
          "ename": "TypeError",
          "evalue": "say_Hi1() takes 2 positional arguments but 3 were given",
          "output_type": "error",
          "traceback": [
            "\u001b[1;31m---------------------------------------------------------------------------\u001b[0m",
            "\u001b[1;31mTypeError\u001b[0m                                 Traceback (most recent call last)",
            "\u001b[1;32m~\\AppData\\Local\\Temp/ipykernel_8248/1681682522.py\u001b[0m in \u001b[0;36m<module>\u001b[1;34m\u001b[0m\n\u001b[1;32m----> 1\u001b[1;33m \u001b[0msay_Hi1\u001b[0m\u001b[1;33m(\u001b[0m\u001b[1;34m'ali'\u001b[0m\u001b[1;33m,\u001b[0m \u001b[1;34m'veli'\u001b[0m\u001b[1;33m,\u001b[0m \u001b[1;34m'deli'\u001b[0m\u001b[1;33m)\u001b[0m \u001b[1;31m# 3 names cause error\u001b[0m\u001b[1;33m\u001b[0m\u001b[1;33m\u001b[0m\u001b[0m\n\u001b[0m",
            "\u001b[1;31mTypeError\u001b[0m: say_Hi1() takes 2 positional arguments but 3 were given"
          ]
        }
      ],
      "source": [
        "say_Hi1('ali', 'veli', 'deli') # 3 names cause error"
      ]
    },
    {
      "cell_type": "code",
      "execution_count": null,
      "id": "b42a0066",
      "metadata": {
        "id": "b42a0066"
      },
      "outputs": [],
      "source": [
        "def say_Hi2(*people):\n",
        "    for name in people:\n",
        "        print(f\"Hi {name}\")"
      ]
    },
    {
      "cell_type": "code",
      "execution_count": null,
      "id": "1b023460",
      "metadata": {
        "id": "1b023460",
        "outputId": "4142b8e9-ba14-4bd2-fb53-15dbd7b6002f"
      },
      "outputs": [
        {
          "name": "stdout",
          "output_type": "stream",
          "text": [
            "Hi ali\n",
            "Hi veli\n",
            "Hi deli\n"
          ]
        }
      ],
      "source": [
        "say_Hi2('ali', 'veli', 'deli')"
      ]
    },
    {
      "cell_type": "code",
      "execution_count": null,
      "id": "6977d016",
      "metadata": {
        "id": "6977d016"
      },
      "outputs": [],
      "source": [
        "def student(uni, *people):\n",
        "    for name in people:\n",
        "        print(f\"{name} studies at {uni}\")"
      ]
    },
    {
      "cell_type": "code",
      "execution_count": null,
      "id": "2308e334",
      "metadata": {
        "id": "2308e334",
        "outputId": "214c9068-f8ad-45aa-f6ab-01a636d4fc1e"
      },
      "outputs": [
        {
          "name": "stdout",
          "output_type": "stream",
          "text": [
            "Jhon studies at Curtin University\n",
            "Sam studies at Curtin University\n",
            "kaf studies at Curtin University\n",
            "Jaf studies at Curtin University\n",
            "Naf studies at Curtin University\n"
          ]
        }
      ],
      "source": [
        "student('Curtin University','Jhon', \"Sam\", \"kaf\", \"Jaf\", \"Naf\")"
      ]
    },
    {
      "cell_type": "code",
      "execution_count": null,
      "id": "a89b95ea",
      "metadata": {
        "id": "a89b95ea"
      },
      "outputs": [],
      "source": [
        "def show_skills(name, *skills):\n",
        "    \n",
        "    print (f\"{name} \\n - skills without progress:\") \n",
        "    for skill in skills:\n",
        "        print (f\" -- {skill}\")"
      ]
    },
    {
      "cell_type": "code",
      "execution_count": null,
      "id": "b50cf328",
      "metadata": {
        "id": "b50cf328",
        "outputId": "8d51e4f5-1f9f-4bfd-c062-41c175327aef"
      },
      "outputs": [
        {
          "name": "stdout",
          "output_type": "stream",
          "text": [
            "Sam \n",
            " - skills without progress:\n",
            " -- Python\n",
            " -- Matlab\n",
            " -- VB\n"
          ]
        }
      ],
      "source": [
        "show_skills(\"Sam\", \"Python\", \"Matlab\", \"VB\")"
      ]
    },
    {
      "cell_type": "code",
      "execution_count": null,
      "id": "4c56e09b",
      "metadata": {
        "id": "4c56e09b",
        "outputId": "5f354f06-5202-4947-da12-d7b1fd594064"
      },
      "outputs": [
        {
          "name": "stdout",
          "output_type": "stream",
          "text": [
            "Sam \n",
            " - skills without progress:\n",
            " -- Python\n",
            " -- Matlab\n",
            " -- VB\n",
            " -- Mathcad\n"
          ]
        }
      ],
      "source": [
        "show_skills(\"Sam\", \"Python\", \"Matlab\", \"VB\", \"Mathcad\")\n"
      ]
    },
    {
      "cell_type": "code",
      "execution_count": null,
      "id": "618418fb",
      "metadata": {
        "id": "618418fb"
      },
      "outputs": [],
      "source": [
        ""
      ]
    },
    {
      "cell_type": "markdown",
      "id": "995aa364",
      "metadata": {
        "id": "995aa364"
      },
      "source": [
        "### Dictionery inputs"
      ]
    },
    {
      "cell_type": "code",
      "execution_count": null,
      "id": "6c3fb43e",
      "metadata": {
        "id": "6c3fb43e"
      },
      "outputs": [],
      "source": [
        "def people_info(**info): \n",
        "    for name, age in info.items():\n",
        "        print (f\"{name} is {age} year old\")"
      ]
    },
    {
      "cell_type": "code",
      "execution_count": null,
      "id": "7c2cca85",
      "metadata": {
        "id": "7c2cca85",
        "outputId": "32e549cc-cc99-4ac8-fbf3-6b5e977ba254"
      },
      "outputs": [
        {
          "name": "stdout",
          "output_type": "stream",
          "text": [
            "Sam is 28 year old\n",
            "Kaf is 25 year old\n"
          ]
        }
      ],
      "source": [
        "# Method 1:\n",
        "people_info(Sam= 28, Kaf= 25)"
      ]
    },
    {
      "cell_type": "code",
      "execution_count": null,
      "id": "04b4f899",
      "metadata": {
        "id": "04b4f899",
        "outputId": "673d3a0d-391c-4130-fc42-c6aa83a587ed"
      },
      "outputs": [
        {
          "name": "stdout",
          "output_type": "stream",
          "text": [
            "Sam is 28 year old\n",
            "Kaf is 25 year old\n"
          ]
        }
      ],
      "source": [
        "# Method 2:\n",
        "my_info={\"Sam\": 28, \"Kaf\": 25}\n",
        "people_info(**my_info)"
      ]
    },
    {
      "cell_type": "code",
      "execution_count": null,
      "id": "2a727993",
      "metadata": {
        "id": "2a727993"
      },
      "outputs": [],
      "source": [
        ""
      ]
    },
    {
      "cell_type": "markdown",
      "id": "93014ad5",
      "metadata": {
        "id": "93014ad5"
      },
      "source": [
        "### Tuple & Dictionery inputs "
      ]
    },
    {
      "cell_type": "code",
      "execution_count": null,
      "id": "be98b63f",
      "metadata": {
        "id": "be98b63f"
      },
      "outputs": [],
      "source": [
        "def show_skills2(name, *skills, ** skills_with_progress):\n",
        "    \n",
        "    print (f\"{name} \\n 1- Skills without progress:\") \n",
        "    for skill in skills:\n",
        "        print (f\" --- {skill}\")\n",
        "    \n",
        "    print (f\" \\n 2- Skills with progress:\")\n",
        "    for skill_key, skill_value in skills_with_progress.items():\n",
        "        print (f\" --- {skill_key} : {skill_value}\") "
      ]
    },
    {
      "cell_type": "code",
      "execution_count": null,
      "id": "7f139008",
      "metadata": {
        "id": "7f139008",
        "outputId": "544686a3-9f3d-4e60-cfcf-f2c7b3801a9e"
      },
      "outputs": [
        {
          "name": "stdout",
          "output_type": "stream",
          "text": [
            "Sam \n",
            " 1- Skills without progress:\n",
            " --- Python\n",
            " --- Matlab\n",
            " --- VB\n",
            " \n",
            " 2- Skills with progress:\n",
            " --- MathCad : 60\n"
          ]
        }
      ],
      "source": [
        "show_skills2(\"Sam\", \"Python\", \"Matlab\", \"VB\", MathCad=\"60\")"
      ]
    },
    {
      "cell_type": "code",
      "execution_count": null,
      "id": "aa5ea69c",
      "metadata": {
        "id": "aa5ea69c",
        "outputId": "d4c60b75-c7f5-468c-a4cf-35788d1fdecd"
      },
      "outputs": [
        {
          "name": "stdout",
          "output_type": "stream",
          "text": [
            "Sam \n",
            " 1- Skills without progress:\n",
            " \n",
            " 2- Skills with progress:\n",
            " --- MathCad : 60\n"
          ]
        }
      ],
      "source": [
        "show_skills2(\"Sam\", MathCad=\"60\")\n"
      ]
    },
    {
      "cell_type": "code",
      "execution_count": null,
      "id": "6fa6c4c2",
      "metadata": {
        "id": "6fa6c4c2",
        "outputId": "88d52c7d-68d7-46ee-cf42-38aca8b1fd77"
      },
      "outputs": [
        {
          "name": "stdout",
          "output_type": "stream",
          "text": [
            "Sam \n",
            " 1- Skills without progress:\n",
            " --- Python\n",
            " --- Matlab\n",
            " \n",
            " 2- Skills with progress:\n"
          ]
        }
      ],
      "source": [
        "show_skills2(\"Sam\", \"Python\", \"Matlab\")"
      ]
    },
    {
      "cell_type": "code",
      "execution_count": null,
      "id": "0cb3db49",
      "metadata": {
        "id": "0cb3db49",
        "outputId": "1c685398-6c88-43f0-cd6c-19c6f2db6d94"
      },
      "outputs": [
        {
          "name": "stdout",
          "output_type": "stream",
          "text": [
            "Sam \n",
            " 1- Skills without progress:\n",
            " --- Python\n",
            " --- Matlab\n",
            " --- VB\n",
            " \n",
            " 2- Skills with progress:\n",
            " --- MathCad : 60\n"
          ]
        }
      ],
      "source": [
        "myTuple=(\"Python\", \"Matlab\", \"VB\")\n",
        "\n",
        "show_skills2(\"Sam\",*myTuple, MathCad=\"60\")"
      ]
    },
    {
      "cell_type": "code",
      "execution_count": null,
      "id": "bfafd6e4",
      "metadata": {
        "id": "bfafd6e4"
      },
      "outputs": [],
      "source": [
        "myTuple=(\"Python\", \"Matlab\", \"VB\")\n",
        "my_Dict={\"MathCad\": 28, \"SQL\": 25}"
      ]
    },
    {
      "cell_type": "code",
      "execution_count": null,
      "id": "f1b22e23",
      "metadata": {
        "id": "f1b22e23",
        "outputId": "3897e8d3-a141-4469-ddac-555d762c0749"
      },
      "outputs": [
        {
          "name": "stdout",
          "output_type": "stream",
          "text": [
            "Sam \n",
            " 1- Skills without progress:\n",
            " --- Python\n",
            " --- Matlab\n",
            " --- VB\n",
            " \n",
            " 2- Skills with progress:\n",
            " --- MathCad : 28\n",
            " --- SQL : 25\n"
          ]
        }
      ],
      "source": [
        "show_skills2(\"Sam\",*myTuple, **my_Dict)\n"
      ]
    },
    {
      "cell_type": "code",
      "execution_count": null,
      "id": "c7ff5b17",
      "metadata": {
        "id": "c7ff5b17"
      },
      "outputs": [],
      "source": [
        ""
      ]
    },
    {
      "cell_type": "markdown",
      "id": "cf910da9",
      "metadata": {
        "id": "cf910da9"
      },
      "source": [
        "## Default inputs:"
      ]
    },
    {
      "cell_type": "code",
      "execution_count": null,
      "id": "9ee15f5d",
      "metadata": {
        "id": "9ee15f5d"
      },
      "outputs": [],
      "source": [
        "def info(name, age, country):\n",
        "    print (f\"{name} is {age} year old from {country}\")"
      ]
    },
    {
      "cell_type": "code",
      "execution_count": null,
      "id": "4db543a3",
      "metadata": {
        "id": "4db543a3",
        "outputId": "2f6d826b-a474-468b-9681-cc6cde6b3f0b"
      },
      "outputs": [
        {
          "name": "stdout",
          "output_type": "stream",
          "text": [
            "Sam is 28 year old from Australia\n"
          ]
        }
      ],
      "source": [
        "info(\"Sam\", 28, \"Australia\")"
      ]
    },
    {
      "cell_type": "code",
      "execution_count": null,
      "id": "6b16b315",
      "metadata": {
        "id": "6b16b315",
        "outputId": "60625fa9-73d6-4618-a398-c02df8f9f37c"
      },
      "outputs": [
        {
          "ename": "TypeError",
          "evalue": "info() missing 1 required positional argument: 'country'",
          "output_type": "error",
          "traceback": [
            "\u001b[1;31m---------------------------------------------------------------------------\u001b[0m",
            "\u001b[1;31mTypeError\u001b[0m                                 Traceback (most recent call last)",
            "\u001b[1;32m~\\AppData\\Local\\Temp/ipykernel_8248/25283511.py\u001b[0m in \u001b[0;36m<module>\u001b[1;34m\u001b[0m\n\u001b[1;32m----> 1\u001b[1;33m \u001b[0minfo\u001b[0m\u001b[1;33m(\u001b[0m\u001b[1;34m\"Sam\"\u001b[0m\u001b[1;33m,\u001b[0m \u001b[1;36m28\u001b[0m\u001b[1;33m)\u001b[0m \u001b[1;31m# This will result in error\u001b[0m\u001b[1;33m\u001b[0m\u001b[1;33m\u001b[0m\u001b[0m\n\u001b[0m",
            "\u001b[1;31mTypeError\u001b[0m: info() missing 1 required positional argument: 'country'"
          ]
        }
      ],
      "source": [
        "info(\"Sam\", 28) # This will result in error"
      ]
    },
    {
      "cell_type": "code",
      "execution_count": null,
      "id": "3145ee57",
      "metadata": {
        "id": "3145ee57"
      },
      "outputs": [],
      "source": [
        "def info(name, age, country=\"Unknown\"): # Default input should be the last\n",
        "    print (f\"{name} is {age} year old from {country}\")"
      ]
    },
    {
      "cell_type": "code",
      "execution_count": null,
      "id": "567a524b",
      "metadata": {
        "id": "567a524b",
        "outputId": "a2166cdb-f1ad-4ec1-c242-3c634a5cfd06"
      },
      "outputs": [
        {
          "name": "stdout",
          "output_type": "stream",
          "text": [
            "Sam is 28 year old from Unknown\n"
          ]
        }
      ],
      "source": [
        "info(\"Sam\", 28)"
      ]
    },
    {
      "cell_type": "code",
      "execution_count": null,
      "id": "017af41b",
      "metadata": {
        "id": "017af41b"
      },
      "outputs": [],
      "source": [
        "def info(name, age=\"Unknown\", country=\"Australia\"): # Default input2 should \n",
        "    print (f\"{name} is {age} year old from {country}\")"
      ]
    },
    {
      "cell_type": "code",
      "execution_count": null,
      "id": "d0da378f",
      "metadata": {
        "id": "d0da378f",
        "outputId": "da2855c7-7aa4-4e48-8692-8e0fb0358e7d"
      },
      "outputs": [
        {
          "name": "stdout",
          "output_type": "stream",
          "text": [
            "Sam is Unknown year old from Australia\n"
          ]
        }
      ],
      "source": [
        "info(\"Sam\")"
      ]
    },
    {
      "cell_type": "code",
      "execution_count": null,
      "id": "4357449d",
      "metadata": {
        "id": "4357449d"
      },
      "outputs": [],
      "source": [
        ""
      ]
    },
    {
      "cell_type": "markdown",
      "id": "66dc376f",
      "metadata": {
        "id": "66dc376f"
      },
      "source": [
        "## Many outputs"
      ]
    },
    {
      "cell_type": "code",
      "execution_count": null,
      "id": "502372fe",
      "metadata": {
        "id": "502372fe"
      },
      "outputs": [],
      "source": [
        "def many_outputs(a, b):\n",
        "    x=a**2\n",
        "    y=b**2\n",
        "    return x, y"
      ]
    },
    {
      "cell_type": "code",
      "execution_count": null,
      "id": "4e080a46",
      "metadata": {
        "id": "4e080a46",
        "outputId": "6fadc8cb-224d-45ca-f6b3-775bcd10812f"
      },
      "outputs": [
        {
          "data": {
            "text/plain": [
              "(9, 16)"
            ]
          },
          "execution_count": 64,
          "metadata": {},
          "output_type": "execute_result"
        }
      ],
      "source": [
        "many_outputs(3, 4)"
      ]
    },
    {
      "cell_type": "code",
      "execution_count": null,
      "id": "ab3589e7",
      "metadata": {
        "id": "ab3589e7",
        "outputId": "c39b564a-87ba-4e99-9aa2-3475b11b648a"
      },
      "outputs": [
        {
          "name": "stdout",
          "output_type": "stream",
          "text": [
            "x= 4\n",
            "y= 25\n"
          ]
        }
      ],
      "source": [
        "x,y=many_outputs(2, 5)\n",
        "print (\"x=\", x)\n",
        "print (\"y=\", y)"
      ]
    },
    {
      "cell_type": "code",
      "execution_count": null,
      "id": "7f8d0cd6",
      "metadata": {
        "id": "7f8d0cd6"
      },
      "outputs": [],
      "source": [
        ""
      ]
    },
    {
      "cell_type": "markdown",
      "id": "532d4f6f",
      "metadata": {
        "id": "532d4f6f"
      },
      "source": [
        "## Variable scope"
      ]
    },
    {
      "cell_type": "markdown",
      "id": "525881d0",
      "metadata": {
        "id": "525881d0"
      },
      "source": [
        "```\n",
        "Global variables\n",
        "Function variables\n",
        "```"
      ]
    },
    {
      "cell_type": "code",
      "execution_count": null,
      "id": "5b063f8f",
      "metadata": {
        "id": "5b063f8f"
      },
      "outputs": [],
      "source": [
        "n= 1 # Global variable\n",
        "def var_scope1():\n",
        "    print (f\" Print the global variable from the function scope: {n}\")"
      ]
    },
    {
      "cell_type": "code",
      "execution_count": null,
      "id": "9dbd420a",
      "metadata": {
        "id": "9dbd420a",
        "outputId": "77e99412-7880-4857-a3ed-896e41ae5f47"
      },
      "outputs": [
        {
          "name": "stdout",
          "output_type": "stream",
          "text": [
            " Print the global variable from the global scope: 1\n"
          ]
        }
      ],
      "source": [
        "print (f\" Print the global variable from the global scope: {n}\")"
      ]
    },
    {
      "cell_type": "code",
      "execution_count": null,
      "id": "05ffa6cf",
      "metadata": {
        "id": "05ffa6cf",
        "outputId": "7162f728-526f-4744-d00e-4861e8c3962e"
      },
      "outputs": [
        {
          "name": "stdout",
          "output_type": "stream",
          "text": [
            " Print the global variable from the function scope: 1\n"
          ]
        }
      ],
      "source": [
        "var_scope1()"
      ]
    },
    {
      "cell_type": "code",
      "execution_count": null,
      "id": "fd6fda1f",
      "metadata": {
        "id": "fd6fda1f"
      },
      "outputs": [],
      "source": [
        ""
      ]
    },
    {
      "cell_type": "code",
      "execution_count": null,
      "id": "301be90b",
      "metadata": {
        "id": "301be90b"
      },
      "outputs": [],
      "source": [
        "m= 1 # Global variable. Try to disable it, this will cause error\n",
        "\n",
        "def var_scope2():\n",
        "    m=999 # Function scope\n",
        "    print (f\" Print the variable from the function scope {m} : What happens is?\")"
      ]
    },
    {
      "cell_type": "code",
      "execution_count": null,
      "id": "369d73d2",
      "metadata": {
        "id": "369d73d2",
        "outputId": "721761d4-c969-4fc4-f72c-d9f5e8348316"
      },
      "outputs": [
        {
          "name": "stdout",
          "output_type": "stream",
          "text": [
            " Print the variable from the global scope 1\n"
          ]
        }
      ],
      "source": [
        "print (f\" Print the variable from the global scope {m}\")"
      ]
    },
    {
      "cell_type": "code",
      "execution_count": null,
      "id": "b66fb95f",
      "metadata": {
        "id": "b66fb95f",
        "outputId": "ea0ecdc0-4086-44b7-e2ca-64c6a5ea70a2"
      },
      "outputs": [
        {
          "name": "stdout",
          "output_type": "stream",
          "text": [
            " Print the variable from the function scope 999 : What happens is?\n"
          ]
        }
      ],
      "source": [
        "var_scope2()"
      ]
    },
    {
      "cell_type": "code",
      "execution_count": null,
      "id": "2c50814e",
      "metadata": {
        "id": "2c50814e"
      },
      "outputs": [],
      "source": [
        ""
      ]
    },
    {
      "cell_type": "code",
      "execution_count": null,
      "id": "5616593c",
      "metadata": {
        "id": "5616593c"
      },
      "outputs": [],
      "source": [
        "# Convert fucntion scope to Global scope\n",
        "\n",
        "k= 1 #Global_1\n",
        "\n",
        "def var_scope3():\n",
        "    global k #Global_2\n",
        "    k=999 # Function scope\n",
        "    print (f\" Print the variable from the function scope {k} : What happens is?\")"
      ]
    },
    {
      "cell_type": "code",
      "execution_count": null,
      "id": "93b69f87",
      "metadata": {
        "id": "93b69f87",
        "outputId": "9179376d-a7fd-4945-c140-cb556ab152fc"
      },
      "outputs": [
        {
          "name": "stdout",
          "output_type": "stream",
          "text": [
            " Print the variable from the global_1: 1\n"
          ]
        }
      ],
      "source": [
        "print (f\" Print the variable from the global_1: {k}\")\n"
      ]
    },
    {
      "cell_type": "code",
      "execution_count": null,
      "id": "7980d0e6",
      "metadata": {
        "id": "7980d0e6",
        "outputId": "a41727b5-8e26-4da7-a841-5a206a1d767e"
      },
      "outputs": [
        {
          "name": "stdout",
          "output_type": "stream",
          "text": [
            " Print the variable from the function scope 999 : What happens is?\n"
          ]
        }
      ],
      "source": [
        "var_scope3()"
      ]
    },
    {
      "cell_type": "code",
      "execution_count": null,
      "id": "1cbf9f92",
      "metadata": {
        "id": "1cbf9f92",
        "outputId": "c24a553b-b517-4c48-c84b-7aae3024c13c"
      },
      "outputs": [
        {
          "name": "stdout",
          "output_type": "stream",
          "text": [
            " Print the variable from the global_1: 999\n"
          ]
        }
      ],
      "source": [
        "print (f\" Print the variable from the global_1: {k}\")"
      ]
    },
    {
      "cell_type": "code",
      "execution_count": null,
      "id": "20c310ac",
      "metadata": {
        "id": "20c310ac"
      },
      "outputs": [],
      "source": [
        ""
      ]
    },
    {
      "cell_type": "markdown",
      "id": "7b15315c",
      "metadata": {
        "id": "7b15315c"
      },
      "source": [
        "## recursive - özyinelemeli fonksiyonlar"
      ]
    },
    {
      "cell_type": "markdown",
      "id": "106e73cb",
      "metadata": {
        "id": "106e73cb"
      },
      "source": [
        "```\n",
        "def fonksiyon_adı(num):\n",
        "\n",
        "    if bitiş - çıkış koşulu :\n",
        "        return 1\n",
        "        \n",
        "    else:\n",
        "        return num * fonksiyon_adı(num-1)\n",
        "```"
      ]
    },
    {
      "cell_type": "code",
      "execution_count": null,
      "id": "76e5852b",
      "metadata": {
        "id": "76e5852b",
        "outputId": "0d7c0621-6a77-44e6-ab8b-68a1f10257af"
      },
      "outputs": [
        {
          "data": {
            "text/plain": [
              "120"
            ]
          },
          "execution_count": 12,
          "metadata": {},
          "output_type": "execute_result"
        }
      ],
      "source": [
        "def faktoriyel_f(num):\n",
        "    \"\"\"This is a recursive function\n",
        "     to find the factorial of an integer\"\"\"\n",
        "    \n",
        "    if num < 1:\n",
        "        return 1\n",
        "    else:\n",
        "        return num * faktoriyel_f(num-1)\n",
        "\n",
        "faktoriyel_f(5)"
      ]
    },
    {
      "cell_type": "code",
      "execution_count": null,
      "id": "a0cfd6f4",
      "metadata": {
        "id": "a0cfd6f4",
        "outputId": "e15982cc-33cd-4264-c05d-f5a903a3d0f6"
      },
      "outputs": [
        {
          "name": "stdout",
          "output_type": "stream",
          "text": [
            "The factorial of 4 is 24\n"
          ]
        }
      ],
      "source": [
        "num = 4 # 4!=4*3*2*1\n",
        "\n",
        "print(\"The factorial of\", num, \"is\", faktoriyel_f(num))\n",
        "\n",
        "# step 1: = 4*f(3), where f(3)=3*f(2):\n",
        "\n",
        "# step 2: = 4*3*f(2), where f(2)=2*f(1):\n",
        "\n",
        "# step 3: = 4*3*2*f(1), where f(1)=1\n",
        "\n",
        "# step 3: = 4*3*2*1 "
      ]
    },
    {
      "cell_type": "code",
      "execution_count": null,
      "id": "830fedb4",
      "metadata": {
        "id": "830fedb4"
      },
      "outputs": [],
      "source": [
        ""
      ]
    },
    {
      "cell_type": "code",
      "execution_count": null,
      "id": "8223d393",
      "metadata": {
        "id": "8223d393"
      },
      "outputs": [],
      "source": [
        "liste = [[1,[2,3], [[7]], [[]]], 0]  # [1, 2, 3, 7, 0]\n"
      ]
    },
    {
      "cell_type": "code",
      "execution_count": null,
      "id": "b40c114d",
      "metadata": {
        "id": "b40c114d",
        "outputId": "f796f9b3-a9e8-410f-88c1-df33c4e263bb"
      },
      "outputs": [
        {
          "name": "stdout",
          "output_type": "stream",
          "text": [
            "[1, 2, 3, 7, 0]\n"
          ]
        }
      ],
      "source": [
        "liste = [[1,[2,3], [[7]], [[]]], 0]  # [1, 2, 3, 7, 0]\n",
        "\n",
        "def cözümm(liste):  \n",
        "    bos = []\n",
        "    for i in liste:\n",
        "        if type(i) != list:\n",
        "            bos.append(i)\n",
        "        else:\n",
        "            bos+=cözümm(i)  # [4] + [5] = [4, 5]\n",
        "    return bos\n",
        "  \n",
        "print(cözümm(liste)) "
      ]
    },
    {
      "cell_type": "code",
      "execution_count": null,
      "id": "c97d0458",
      "metadata": {
        "id": "c97d0458",
        "outputId": "fb7bc5e4-78d7-4c40-b675-50cc7dcaa7e7"
      },
      "outputs": [
        {
          "data": {
            "text/plain": [
              "[4, 5]"
            ]
          },
          "execution_count": 62,
          "metadata": {},
          "output_type": "execute_result"
        }
      ],
      "source": [
        "[4] + [5]"
      ]
    },
    {
      "cell_type": "code",
      "execution_count": null,
      "id": "55eb168c",
      "metadata": {
        "id": "55eb168c",
        "outputId": "c71c2104-0639-440c-c4bf-7edad00f6cbf"
      },
      "outputs": [
        {
          "data": {
            "text/plain": [
              "list"
            ]
          },
          "execution_count": 95,
          "metadata": {},
          "output_type": "execute_result"
        }
      ],
      "source": [
        "list"
      ]
    },
    {
      "cell_type": "code",
      "execution_count": null,
      "id": "2f7d923e",
      "metadata": {
        "id": "2f7d923e",
        "outputId": "94643f90-e568-4ef1-b8c5-9611b39bf486"
      },
      "outputs": [
        {
          "data": {
            "text/plain": [
              "True"
            ]
          },
          "execution_count": 53,
          "metadata": {},
          "output_type": "execute_result"
        }
      ],
      "source": [
        "list == type(list())"
      ]
    },
    {
      "cell_type": "code",
      "execution_count": null,
      "id": "031fbc0d",
      "metadata": {
        "id": "031fbc0d",
        "outputId": "d91cda31-41ef-4082-9a0f-7b1564815f61"
      },
      "outputs": [
        {
          "data": {
            "text/plain": [
              "True"
            ]
          },
          "execution_count": 96,
          "metadata": {},
          "output_type": "execute_result"
        }
      ],
      "source": [
        "list == type([])"
      ]
    },
    {
      "cell_type": "code",
      "execution_count": null,
      "id": "2037bb96",
      "metadata": {
        "id": "2037bb96"
      },
      "outputs": [],
      "source": [
        ""
      ]
    },
    {
      "cell_type": "markdown",
      "id": "e6cba53b",
      "metadata": {
        "id": "e6cba53b"
      },
      "source": [
        "```fonksiyonlar devam```"
      ]
    },
    {
      "cell_type": "code",
      "execution_count": null,
      "id": "ccb678da",
      "metadata": {
        "id": "ccb678da"
      },
      "outputs": [],
      "source": [
        "liste = [1,1,1,2,3,4,3,2,4,5,5,5,5,6,6,7,8,9]\n",
        "\n",
        "def fonk(liste):\n",
        "    dic = { i:liste.count(i) for i in set(liste) }\n",
        "    dic = sorted(dic.items(), key=lambda x: x[1])\n",
        "    return dic.pop()\n",
        "\n",
        "k, v = fonk(liste)\n",
        "k"
      ]
    },
    {
      "cell_type": "code",
      "execution_count": null,
      "id": "08f0b380",
      "metadata": {
        "id": "08f0b380"
      },
      "outputs": [],
      "source": [
        ""
      ]
    },
    {
      "cell_type": "markdown",
      "id": "f5cf2c68",
      "metadata": {
        "id": "f5cf2c68"
      },
      "source": [
        "# lambda nedir"
      ]
    },
    {
      "cell_type": "markdown",
      "id": "b62e1ded",
      "metadata": {
        "id": "b62e1ded"
      },
      "source": [
        "```\n",
        "1- lambda nedir\n",
        "\n",
        "2- map(), filter() and reduce() nedir\n",
        "\n",
        "3- fonksiyonlar ile lambda kullanımı\n",
        "```"
      ]
    },
    {
      "cell_type": "markdown",
      "id": "c6f10d7c",
      "metadata": {
        "id": "c6f10d7c"
      },
      "source": [
        "```\n",
        "lambda arguments: expression \n",
        "\n",
        "def add(x,y):\n",
        "\treturn x + y\n",
        "\n",
        "lambda x, y: x + y  # yukarıdaki fonksiyon ile aynı işi yapar\n",
        "```"
      ]
    },
    {
      "cell_type": "markdown",
      "id": "aa46671e",
      "metadata": {
        "id": "aa46671e"
      },
      "source": [
        "```\n",
        "1 A function without name\n",
        "2 Can call it inline without defining it\n",
        "3 Can return data from another fucntion\n",
        "4 Used for simple fucntion\n",
        "5 One single expression\n",
        "```"
      ]
    },
    {
      "cell_type": "markdown",
      "id": "99e8a782",
      "metadata": {
        "id": "99e8a782"
      },
      "source": [
        "## No Input"
      ]
    },
    {
      "cell_type": "code",
      "execution_count": null,
      "id": "a34cf442",
      "metadata": {
        "id": "a34cf442",
        "outputId": "e0582582-3779-4554-dcb0-458e2f0bfb09"
      },
      "outputs": [
        {
          "data": {
            "text/plain": [
              "5"
            ]
          },
          "execution_count": 18,
          "metadata": {},
          "output_type": "execute_result"
        }
      ],
      "source": [
        "def fonk():\n",
        "    return 5\n",
        "fonk()"
      ]
    },
    {
      "cell_type": "code",
      "execution_count": null,
      "id": "15ca918e",
      "metadata": {
        "id": "15ca918e",
        "outputId": "90bdd14c-af78-4a19-a9a8-29b5f379d0f4"
      },
      "outputs": [
        {
          "data": {
            "text/plain": [
              "<function __main__.<lambda>()>"
            ]
          },
          "execution_count": 19,
          "metadata": {},
          "output_type": "execute_result"
        }
      ],
      "source": [
        "lambda: 5"
      ]
    },
    {
      "cell_type": "code",
      "execution_count": null,
      "id": "05e4fb08",
      "metadata": {
        "id": "05e4fb08",
        "outputId": "5dfff5c7-c259-4911-98d5-3f3d90c682a9"
      },
      "outputs": [
        {
          "data": {
            "text/plain": [
              "5"
            ]
          },
          "execution_count": 21,
          "metadata": {},
          "output_type": "execute_result"
        }
      ],
      "source": [
        "(lambda: 5)()"
      ]
    },
    {
      "cell_type": "markdown",
      "id": "e6d87d07",
      "metadata": {
        "id": "e6d87d07"
      },
      "source": [
        "## One Input"
      ]
    },
    {
      "cell_type": "code",
      "execution_count": null,
      "id": "72d27071",
      "metadata": {
        "id": "72d27071",
        "outputId": "94055949-6196-420b-f74a-e1c689e2f6e7"
      },
      "outputs": [
        {
          "data": {
            "text/plain": [
              "100"
            ]
          },
          "execution_count": 23,
          "metadata": {},
          "output_type": "execute_result"
        }
      ],
      "source": [
        "def fonk(num):\n",
        "    return num*num\n",
        "\n",
        "fonk(10)"
      ]
    },
    {
      "cell_type": "code",
      "execution_count": null,
      "id": "a5282a8d",
      "metadata": {
        "id": "a5282a8d",
        "outputId": "8db2bea7-5298-483f-e31a-8623250b5d87"
      },
      "outputs": [
        {
          "data": {
            "text/plain": [
              "9"
            ]
          },
          "execution_count": 15,
          "metadata": {},
          "output_type": "execute_result"
        }
      ],
      "source": [
        "def seq_num_1(num): return num*num\n",
        "\n",
        "seq_num_1(3)"
      ]
    },
    {
      "cell_type": "code",
      "execution_count": null,
      "id": "04d35f93",
      "metadata": {
        "id": "04d35f93"
      },
      "outputs": [],
      "source": [
        "# lambda fucntion\n",
        "#                  input: output\n",
        "seq_num_2 = lambda   num: num*num"
      ]
    },
    {
      "cell_type": "code",
      "execution_count": null,
      "id": "077a5a3b",
      "metadata": {
        "id": "077a5a3b",
        "outputId": "f75bc3bb-984a-47f8-c4f8-94e8df45d058"
      },
      "outputs": [
        {
          "data": {
            "text/plain": [
              "9"
            ]
          },
          "execution_count": 18,
          "metadata": {},
          "output_type": "execute_result"
        }
      ],
      "source": [
        "seq_num_2(3)"
      ]
    },
    {
      "cell_type": "code",
      "execution_count": null,
      "id": "cf007a8b",
      "metadata": {
        "id": "cf007a8b",
        "outputId": "f3b80caf-f810-40ba-e057-788baa21a570"
      },
      "outputs": [
        {
          "data": {
            "text/plain": [
              "<function __main__.<lambda>(num)>"
            ]
          },
          "execution_count": 24,
          "metadata": {},
          "output_type": "execute_result"
        }
      ],
      "source": [
        "lambda num: num*num"
      ]
    },
    {
      "cell_type": "code",
      "execution_count": null,
      "id": "239a165a",
      "metadata": {
        "id": "239a165a",
        "outputId": "cd82b9bd-d2a2-4d50-93a8-4e5713caaa1d"
      },
      "outputs": [
        {
          "data": {
            "text/plain": [
              "100"
            ]
          },
          "execution_count": 25,
          "metadata": {},
          "output_type": "execute_result"
        }
      ],
      "source": [
        "(lambda num: num*num)(10)"
      ]
    },
    {
      "cell_type": "markdown",
      "id": "ce01d2b9",
      "metadata": {
        "id": "ce01d2b9"
      },
      "source": [
        "## Multi Input"
      ]
    },
    {
      "cell_type": "code",
      "execution_count": null,
      "id": "cfe4fea9",
      "metadata": {
        "id": "cfe4fea9"
      },
      "outputs": [],
      "source": [
        "Hi = lambda name, age: f\"{name} age is {age} years\""
      ]
    },
    {
      "cell_type": "code",
      "execution_count": null,
      "id": "2bcd7f8b",
      "metadata": {
        "id": "2bcd7f8b",
        "outputId": "7b043fc7-b52c-4255-f9ea-431898eaf24e"
      },
      "outputs": [
        {
          "data": {
            "text/plain": [
              "'Sam age is 20 years'"
            ]
          },
          "execution_count": 20,
          "metadata": {},
          "output_type": "execute_result"
        }
      ],
      "source": [
        "Hi(\"Sam\", 20)"
      ]
    },
    {
      "cell_type": "code",
      "execution_count": null,
      "id": "026d96a6",
      "metadata": {
        "id": "026d96a6"
      },
      "outputs": [],
      "source": [
        ""
      ]
    },
    {
      "cell_type": "code",
      "execution_count": null,
      "id": "27114246",
      "metadata": {
        "id": "27114246"
      },
      "outputs": [],
      "source": [
        ""
      ]
    },
    {
      "cell_type": "markdown",
      "id": "3853412d",
      "metadata": {
        "id": "3853412d"
      },
      "source": [
        "```Building a calculator using dict with lambda Expression```"
      ]
    },
    {
      "cell_type": "code",
      "execution_count": null,
      "id": "528d0d7e",
      "metadata": {
        "id": "528d0d7e"
      },
      "outputs": [],
      "source": [
        "calculator = {'+': (lambda x,y: x+y),\n",
        "              '-': (lambda x,y: x-y),\n",
        "              '*': (lambda x,y: x*y),\n",
        "              '/': (lambda x,y: x/y)}"
      ]
    },
    {
      "cell_type": "code",
      "execution_count": null,
      "id": "ca83d3f9",
      "metadata": {
        "id": "ca83d3f9",
        "outputId": "f1d51b29-e40c-49b3-c08c-924cf97d2b83"
      },
      "outputs": [
        {
          "name": "stdout",
          "output_type": "stream",
          "text": [
            "9\n",
            "-1\n",
            "20\n",
            "0.8\n"
          ]
        }
      ],
      "source": [
        "print(calculator['+'](4, 5))\n",
        "print(calculator['-'](4, 5))\n",
        "print(calculator['*'](4, 5))\n",
        "print(calculator['/'](4, 5))"
      ]
    },
    {
      "cell_type": "code",
      "execution_count": null,
      "id": "d6f8ed02",
      "metadata": {
        "id": "d6f8ed02"
      },
      "outputs": [],
      "source": [
        ""
      ]
    },
    {
      "cell_type": "markdown",
      "id": "efae2485",
      "metadata": {
        "id": "efae2485"
      },
      "source": [
        "# map(function, iterable(s))"
      ]
    },
    {
      "cell_type": "code",
      "execution_count": null,
      "id": "aed38605",
      "metadata": {
        "id": "aed38605",
        "outputId": "3d52f610-d3ea-430b-9aab-931a816a56ea"
      },
      "outputs": [
        {
          "name": "stdout",
          "output_type": "stream",
          "text": [
            "Help on class map in module builtins:\n",
            "\n",
            "class map(object)\n",
            " |  map(func, *iterables) --> map object\n",
            " |  \n",
            " |  Make an iterator that computes the function using arguments from\n",
            " |  each of the iterables.  Stops when the shortest iterable is exhausted.\n",
            " |  \n",
            " |  Methods defined here:\n",
            " |  \n",
            " |  __getattribute__(self, name, /)\n",
            " |      Return getattr(self, name).\n",
            " |  \n",
            " |  __iter__(self, /)\n",
            " |      Implement iter(self).\n",
            " |  \n",
            " |  __next__(self, /)\n",
            " |      Implement next(self).\n",
            " |  \n",
            " |  __reduce__(...)\n",
            " |      Return state information for pickling.\n",
            " |  \n",
            " |  ----------------------------------------------------------------------\n",
            " |  Static methods defined here:\n",
            " |  \n",
            " |  __new__(*args, **kwargs) from builtins.type\n",
            " |      Create and return a new object.  See help(type) for accurate signature.\n",
            "\n"
          ]
        }
      ],
      "source": [
        "help(map)"
      ]
    },
    {
      "cell_type": "code",
      "execution_count": null,
      "id": "8a74c906",
      "metadata": {
        "id": "8a74c906",
        "outputId": "136ae2a3-8a5e-4afb-82cd-85d56a716cf7"
      },
      "outputs": [
        {
          "data": {
            "text/plain": [
              "map"
            ]
          },
          "execution_count": 99,
          "metadata": {},
          "output_type": "execute_result"
        }
      ],
      "source": [
        "map"
      ]
    },
    {
      "cell_type": "code",
      "execution_count": null,
      "id": "3d6fc18d",
      "metadata": {
        "id": "3d6fc18d",
        "outputId": "1a3b5375-86d6-4b72-d1e6-36c70358b94c"
      },
      "outputs": [
        {
          "data": {
            "text/plain": [
              "<map at 0x22ebaee4970>"
            ]
          },
          "execution_count": 100,
          "metadata": {},
          "output_type": "execute_result"
        }
      ],
      "source": [
        "map(str, [1, 2, 3])"
      ]
    },
    {
      "cell_type": "code",
      "execution_count": null,
      "id": "b1459258",
      "metadata": {
        "id": "b1459258",
        "outputId": "0bc99057-cafa-432a-d138-6a773ad77457"
      },
      "outputs": [
        {
          "data": {
            "text/plain": [
              "('1', '2', '3')"
            ]
          },
          "execution_count": 101,
          "metadata": {},
          "output_type": "execute_result"
        }
      ],
      "source": [
        "*map(str, [1, 2, 3]),"
      ]
    },
    {
      "cell_type": "code",
      "execution_count": null,
      "id": "8e48ecba",
      "metadata": {
        "id": "8e48ecba"
      },
      "outputs": [],
      "source": [
        ""
      ]
    },
    {
      "cell_type": "code",
      "execution_count": null,
      "id": "4aecba21",
      "metadata": {
        "id": "4aecba21"
      },
      "outputs": [],
      "source": [
        "fruit = [\"Apple\", \"Banana\", \"Pear\", \"Apricot\", \"Orange\"]"
      ]
    },
    {
      "cell_type": "code",
      "execution_count": null,
      "id": "ad7932ae",
      "metadata": {
        "id": "ad7932ae",
        "outputId": "3ca1f038-90b1-4448-f922-e25b9263d0ca"
      },
      "outputs": [
        {
          "name": "stdout",
          "output_type": "stream",
          "text": [
            "5\n",
            "6\n",
            "4\n",
            "7\n",
            "6\n"
          ]
        }
      ],
      "source": [
        "for i in fruit:\n",
        "    print(len(i))"
      ]
    },
    {
      "cell_type": "code",
      "execution_count": null,
      "id": "72df5e06",
      "metadata": {
        "id": "72df5e06",
        "outputId": "bace5026-c766-48da-e203-c11f9b60df5c"
      },
      "outputs": [
        {
          "name": "stdout",
          "output_type": "stream",
          "text": [
            "5 6 4 7 6\n"
          ]
        }
      ],
      "source": [
        "print(*map(len, fruit))"
      ]
    },
    {
      "cell_type": "markdown",
      "id": "7f1bf85a",
      "metadata": {
        "id": "7f1bf85a"
      },
      "source": [
        "```ilk harfi silme```"
      ]
    },
    {
      "cell_type": "code",
      "execution_count": null,
      "id": "9e816656",
      "metadata": {
        "id": "9e816656",
        "outputId": "33d6d26f-b948-413f-99e4-818e2ccba539"
      },
      "outputs": [
        {
          "data": {
            "text/plain": [
              "'eneme'"
            ]
          },
          "execution_count": 104,
          "metadata": {},
          "output_type": "execute_result"
        }
      ],
      "source": [
        "'deneme'[1:]"
      ]
    },
    {
      "cell_type": "code",
      "execution_count": null,
      "id": "b76725f5",
      "metadata": {
        "id": "b76725f5",
        "outputId": "662f7bb2-ced6-425a-9c87-1a80d260ec9f"
      },
      "outputs": [
        {
          "data": {
            "text/plain": [
              "'eneme'"
            ]
          },
          "execution_count": 105,
          "metadata": {},
          "output_type": "execute_result"
        }
      ],
      "source": [
        "def silici(x):\n",
        "    return x[1:]\n",
        "\n",
        "silici('deneme')"
      ]
    },
    {
      "cell_type": "code",
      "execution_count": null,
      "id": "974734d1",
      "metadata": {
        "id": "974734d1",
        "outputId": "be69ccf1-2649-4df8-ec73-db4cf88b2b95"
      },
      "outputs": [
        {
          "data": {
            "text/plain": [
              "['pple', 'anana', 'ear', 'pricot', 'range']"
            ]
          },
          "execution_count": 106,
          "metadata": {},
          "output_type": "execute_result"
        }
      ],
      "source": [
        "list(map(silici, fruit))"
      ]
    },
    {
      "cell_type": "markdown",
      "id": "36d000c7",
      "metadata": {
        "id": "36d000c7"
      },
      "source": [
        "```bi büyük bi kücük harfe cevirme```"
      ]
    },
    {
      "cell_type": "code",
      "execution_count": null,
      "id": "90166017",
      "metadata": {
        "id": "90166017"
      },
      "outputs": [],
      "source": [
        "fruit = [\"Apple\", \"Banana\", \"Pear\", \"Apricot\", \"Orange\"]"
      ]
    },
    {
      "cell_type": "code",
      "execution_count": null,
      "id": "a55d4da4",
      "metadata": {
        "id": "a55d4da4",
        "outputId": "ab028eae-1d6a-4c4a-9258-4ab4d39d2d25"
      },
      "outputs": [
        {
          "data": {
            "text/plain": [
              "['APPLE', 'BANANA', 'PEAR', 'APRICOT', 'ORANGE']"
            ]
          },
          "execution_count": 112,
          "metadata": {},
          "output_type": "execute_result"
        }
      ],
      "source": [
        "list( map ( lambda x: x.upper() , fruit))"
      ]
    },
    {
      "cell_type": "code",
      "execution_count": null,
      "id": "a1a46cc9",
      "metadata": {
        "id": "a1a46cc9",
        "outputId": "e40ffe62-2661-4bcc-e997-7fbbfb464817"
      },
      "outputs": [
        {
          "data": {
            "text/plain": [
              "'DeNeMe'"
            ]
          },
          "execution_count": 108,
          "metadata": {},
          "output_type": "execute_result"
        }
      ],
      "source": [
        "def letter_change(word):\n",
        "    cur_word = ''\n",
        "    for i in range(len(word)):\n",
        "        if i % 2:\n",
        "            cur_word += word[i].lower()\n",
        "        else:\n",
        "            cur_word += word[i].upper()\n",
        "    return cur_word\n",
        "\n",
        "letter_change('deneme')"
      ]
    },
    {
      "cell_type": "code",
      "execution_count": null,
      "id": "f0d831d5",
      "metadata": {
        "id": "f0d831d5",
        "outputId": "1bd5f576-48d0-412b-ca83-608180ffee76"
      },
      "outputs": [
        {
          "data": {
            "text/plain": [
              "['ApPlE', 'BaNaNa', 'PeAr', 'ApRiCoT', 'OrAnGe']"
            ]
          },
          "execution_count": 109,
          "metadata": {},
          "output_type": "execute_result"
        }
      ],
      "source": [
        "list(map( letter_change , fruit))"
      ]
    },
    {
      "cell_type": "code",
      "execution_count": null,
      "id": "4ed91506",
      "metadata": {
        "id": "4ed91506",
        "outputId": "2d2fbf6d-ca45-485e-ef12-f2a2996985c3"
      },
      "outputs": [
        {
          "data": {
            "text/plain": [
              "'ApPlE'"
            ]
          },
          "execution_count": 110,
          "metadata": {},
          "output_type": "execute_result"
        }
      ],
      "source": [
        "(  lambda word : ''.join([word[i].lower() if i % 2 else word[i].upper() for i in range(len(word))])  )(\"Apple\")"
      ]
    },
    {
      "cell_type": "code",
      "execution_count": null,
      "id": "3c019c83",
      "metadata": {
        "id": "3c019c83",
        "outputId": "4bd3e615-cc70-40ca-f835-d16db6d9b9a5"
      },
      "outputs": [
        {
          "data": {
            "text/plain": [
              "['ApPlE', 'BaNaNa', 'PeAr', 'ApRiCoT', 'OrAnGe']"
            ]
          },
          "execution_count": 111,
          "metadata": {},
          "output_type": "execute_result"
        }
      ],
      "source": [
        "list(map( lambda word : ''.join([word[i].lower() if i % 2 else word[i].upper() for i in range(len(word))])  , fruit))"
      ]
    },
    {
      "cell_type": "markdown",
      "id": "7dd6a99f",
      "metadata": {
        "id": "7dd6a99f"
      },
      "source": [
        "```Listedeki meyvelerin ilk harflerini birleştirip string yapan algoritma --> 'ABPAO'```"
      ]
    },
    {
      "cell_type": "code",
      "execution_count": null,
      "id": "92cd54e3",
      "metadata": {
        "id": "92cd54e3"
      },
      "outputs": [],
      "source": [
        "fruit = [\"Apple\", \"Banana\", \"Pear\", \"Apricot\", \"Orange\"]"
      ]
    },
    {
      "cell_type": "code",
      "execution_count": null,
      "id": "8b6f8481",
      "metadata": {
        "id": "8b6f8481",
        "outputId": "3fe0c269-129c-4a64-be10-8a509f02ae19"
      },
      "outputs": [
        {
          "data": {
            "text/plain": [
              "('A', 'B', 'P', 'A', 'O')"
            ]
          },
          "execution_count": 5,
          "metadata": {},
          "output_type": "execute_result"
        }
      ],
      "source": [
        "*map(lambda x: x[0:1],fruit),"
      ]
    },
    {
      "cell_type": "code",
      "execution_count": null,
      "id": "1fd41979",
      "metadata": {
        "id": "1fd41979",
        "outputId": "2198c59c-b21b-4ede-872f-6f652f988eae"
      },
      "outputs": [
        {
          "name": "stdout",
          "output_type": "stream",
          "text": [
            "ABPAO"
          ]
        }
      ],
      "source": [
        "for i in map(lambda x: x[0:1],fruit):\n",
        "  print(i,end=\"\")"
      ]
    },
    {
      "cell_type": "code",
      "execution_count": null,
      "id": "85df58b4",
      "metadata": {
        "id": "85df58b4",
        "outputId": "9ad70114-def1-4310-c8c5-8fe4bf162c06"
      },
      "outputs": [
        {
          "name": "stdout",
          "output_type": "stream",
          "text": [
            "ABPAO\n"
          ]
        }
      ],
      "source": [
        "print(  *[num[0] for num in fruit] , sep='' )"
      ]
    },
    {
      "cell_type": "code",
      "execution_count": null,
      "id": "bd5d904b",
      "metadata": {
        "id": "bd5d904b",
        "outputId": "00a9578f-5baf-4af6-869b-a502693bc4cd"
      },
      "outputs": [
        {
          "name": "stdout",
          "output_type": "stream",
          "text": [
            "ABPAO\n"
          ]
        }
      ],
      "source": [
        "print(  ''.join(  [i[:1] for i in fruit]  )  )"
      ]
    },
    {
      "cell_type": "code",
      "execution_count": null,
      "id": "c1bd933a",
      "metadata": {
        "id": "c1bd933a",
        "outputId": "50ecf2ac-646a-4f39-eaeb-f5c51c42645f"
      },
      "outputs": [
        {
          "name": "stdout",
          "output_type": "stream",
          "text": [
            "ABPAO\n"
          ]
        }
      ],
      "source": [
        "print(  *[ fruit[i][0]   for i in range(len(fruit)) ]  , sep=\"\"  )"
      ]
    },
    {
      "cell_type": "code",
      "execution_count": null,
      "id": "929dc180",
      "metadata": {
        "id": "929dc180"
      },
      "outputs": [],
      "source": [
        ""
      ]
    },
    {
      "cell_type": "code",
      "execution_count": null,
      "id": "0450e4a9",
      "metadata": {
        "id": "0450e4a9"
      },
      "outputs": [],
      "source": [
        ""
      ]
    },
    {
      "cell_type": "code",
      "execution_count": null,
      "id": "8a278f59",
      "metadata": {
        "id": "8a278f59",
        "outputId": "02120500-d2f5-4f7b-b9d2-2f06129a9878"
      },
      "outputs": [
        {
          "data": {
            "text/plain": [
              "[True, False, True, False, True, False, True, False, True, False, True]"
            ]
          },
          "execution_count": 107,
          "metadata": {},
          "output_type": "execute_result"
        }
      ],
      "source": [
        "list(map( lambda x: x != ' ' , 'd e n e m e'))"
      ]
    },
    {
      "cell_type": "code",
      "execution_count": null,
      "id": "baaa2b94",
      "metadata": {
        "id": "baaa2b94"
      },
      "outputs": [],
      "source": [
        ""
      ]
    },
    {
      "cell_type": "markdown",
      "id": "69c7bfbb",
      "metadata": {
        "id": "69c7bfbb"
      },
      "source": [
        "# filter(function, iterable(s))"
      ]
    },
    {
      "cell_type": "code",
      "execution_count": null,
      "id": "912ce769",
      "metadata": {
        "id": "912ce769",
        "outputId": "87c190d4-d6ef-4795-8b9a-03290c826f7b"
      },
      "outputs": [
        {
          "name": "stdout",
          "output_type": "stream",
          "text": [
            "Help on class filter in module builtins:\n",
            "\n",
            "class filter(object)\n",
            " |  filter(function or None, iterable) --> filter object\n",
            " |  \n",
            " |  Return an iterator yielding those items of iterable for which function(item)\n",
            " |  is true. If function is None, return the items that are true.\n",
            " |  \n",
            " |  Methods defined here:\n",
            " |  \n",
            " |  __getattribute__(self, name, /)\n",
            " |      Return getattr(self, name).\n",
            " |  \n",
            " |  __iter__(self, /)\n",
            " |      Implement iter(self).\n",
            " |  \n",
            " |  __next__(self, /)\n",
            " |      Implement next(self).\n",
            " |  \n",
            " |  __reduce__(...)\n",
            " |      Return state information for pickling.\n",
            " |  \n",
            " |  ----------------------------------------------------------------------\n",
            " |  Static methods defined here:\n",
            " |  \n",
            " |  __new__(*args, **kwargs) from builtins.type\n",
            " |      Create and return a new object.  See help(type) for accurate signature.\n",
            "\n"
          ]
        }
      ],
      "source": [
        "help(filter)"
      ]
    },
    {
      "cell_type": "markdown",
      "id": "8ba5e8cf",
      "metadata": {
        "id": "8ba5e8cf"
      },
      "source": [
        "```soru 'd e n e m e'  --> 'deneme'```"
      ]
    },
    {
      "cell_type": "code",
      "execution_count": null,
      "id": "524ed18a",
      "metadata": {
        "id": "524ed18a",
        "outputId": "0eee04f4-64bc-49ea-c357-ae30e4b2e53b"
      },
      "outputs": [
        {
          "data": {
            "text/plain": [
              "'deneme'"
            ]
          },
          "execution_count": 114,
          "metadata": {},
          "output_type": "execute_result"
        }
      ],
      "source": [
        "d = 'd e n e m e'\n",
        "''.join(d.split())"
      ]
    },
    {
      "cell_type": "code",
      "execution_count": null,
      "id": "25dcd279",
      "metadata": {
        "id": "25dcd279",
        "outputId": "dfe7585f-b69d-447b-cbd0-b4925713993f"
      },
      "outputs": [
        {
          "name": "stdout",
          "output_type": "stream",
          "text": [
            "True\n"
          ]
        }
      ],
      "source": [
        "d = 'd e n e m e'\n",
        "\n",
        "# filter içindeki fonksiyon True False dönecek\n",
        "\n",
        "def is_empty(word):\n",
        "    for i in word:  # 'd e n e m e'\n",
        "        if i == ' ':\n",
        "            return False \n",
        "        else:\n",
        "            return True\n",
        "    \n",
        "print(is_empty(d))"
      ]
    },
    {
      "cell_type": "code",
      "execution_count": null,
      "id": "52bb31fa",
      "metadata": {
        "id": "52bb31fa",
        "outputId": "93fd64dd-dd17-475f-ae29-59c92823004b"
      },
      "outputs": [
        {
          "data": {
            "text/plain": [
              "'deneme'"
            ]
          },
          "execution_count": 117,
          "metadata": {},
          "output_type": "execute_result"
        }
      ],
      "source": [
        "d = 'd e n e m e'\n",
        "''.join(  list(filter( is_empty , d))  )"
      ]
    },
    {
      "cell_type": "code",
      "execution_count": null,
      "id": "5f0708e2",
      "metadata": {
        "id": "5f0708e2",
        "outputId": "74911ed7-77e7-4436-dcb9-af852956ccfb"
      },
      "outputs": [
        {
          "data": {
            "text/plain": [
              "'deneme'"
            ]
          },
          "execution_count": 119,
          "metadata": {},
          "output_type": "execute_result"
        }
      ],
      "source": [
        "# filter içindeki lambda True False dönecek - condition\n",
        "\n",
        "d = 'd e n e m e'\n",
        "''.join(  list(filter(lambda x: x.isalpha() , d))  )"
      ]
    },
    {
      "cell_type": "code",
      "execution_count": null,
      "id": "995fccd6",
      "metadata": {
        "id": "995fccd6",
        "outputId": "439c3ffd-9058-4ba8-a134-c215b2b183f1"
      },
      "outputs": [
        {
          "data": {
            "text/plain": [
              "'deneme'"
            ]
          },
          "execution_count": 120,
          "metadata": {},
          "output_type": "execute_result"
        }
      ],
      "source": [
        "d = 'd e n e m e'\n",
        "''.join(  list(filter(lambda x: ' ' not in x , d))  )"
      ]
    },
    {
      "cell_type": "code",
      "execution_count": null,
      "id": "3a1b5d49",
      "metadata": {
        "id": "3a1b5d49",
        "outputId": "524fa81f-8570-498f-a960-1dfcb0049c4e"
      },
      "outputs": [
        {
          "data": {
            "text/plain": [
              "'deneme'"
            ]
          },
          "execution_count": 121,
          "metadata": {},
          "output_type": "execute_result"
        }
      ],
      "source": [
        "d = 'd e n e m e'\n",
        "''.join(  list(filter(lambda x: ' ' != x , d))  )"
      ]
    },
    {
      "cell_type": "code",
      "execution_count": null,
      "id": "6f4ca60d",
      "metadata": {
        "id": "6f4ca60d"
      },
      "outputs": [],
      "source": [
        ""
      ]
    },
    {
      "cell_type": "markdown",
      "id": "3544f5e6",
      "metadata": {
        "id": "3544f5e6"
      },
      "source": [
        "```filter () - None yada fonksiyon alır None Truty değerleri döndürür```"
      ]
    },
    {
      "cell_type": "code",
      "execution_count": null,
      "id": "d3db54d3",
      "metadata": {
        "id": "d3db54d3"
      },
      "outputs": [],
      "source": [
        "fruit = [\"Apple\", \"Banana\", \"Pear\", \"Apricot\", \"Orange\", '', 0, False, [], {}]"
      ]
    },
    {
      "cell_type": "code",
      "execution_count": null,
      "id": "a476a6c7",
      "metadata": {
        "id": "a476a6c7",
        "outputId": "a7ccaa3f-6f4b-4ec7-b0d9-32e43681ab27"
      },
      "outputs": [
        {
          "name": "stdout",
          "output_type": "stream",
          "text": [
            "Apple Banana Pear Apricot Orange\n"
          ]
        }
      ],
      "source": [
        "print(*filter( None , fruit))"
      ]
    },
    {
      "cell_type": "markdown",
      "id": "814d108e",
      "metadata": {
        "id": "814d108e"
      },
      "source": [
        "```Listenin içindekilerden içinde 'e' olanlar gelsin```"
      ]
    },
    {
      "cell_type": "code",
      "execution_count": null,
      "id": "60bbd40c",
      "metadata": {
        "id": "60bbd40c"
      },
      "outputs": [],
      "source": [
        "fruit = [\"Apple\", \"Banana\", \"Pear\", \"Apricot\", \"Orange\"]"
      ]
    },
    {
      "cell_type": "code",
      "execution_count": null,
      "id": "6c5c4a7b",
      "metadata": {
        "id": "6c5c4a7b",
        "outputId": "9a5f6434-f3a0-41c6-93fd-dfb1c24833d7"
      },
      "outputs": [
        {
          "data": {
            "text/plain": [
              "True"
            ]
          },
          "execution_count": 131,
          "metadata": {},
          "output_type": "execute_result"
        }
      ],
      "source": [
        "def e_filter (word):\n",
        "    if 'e' in word:\n",
        "        return True\n",
        "    else:\n",
        "        return False\n",
        "    \n",
        "e_filter(\"Apple\")"
      ]
    },
    {
      "cell_type": "code",
      "execution_count": null,
      "id": "205f8aef",
      "metadata": {
        "id": "205f8aef",
        "outputId": "99e878ec-43f2-4a33-c162-455997b0a9d1"
      },
      "outputs": [
        {
          "data": {
            "text/plain": [
              "True"
            ]
          },
          "execution_count": 127,
          "metadata": {},
          "output_type": "execute_result"
        }
      ],
      "source": [
        "# içinde 'e' olanlar gelsin\n",
        "def e_filter_ternary_if (word):\n",
        "    return True if 'e' in word else False\n",
        "\n",
        "e_filter_ternary_if(\"Apple\")"
      ]
    },
    {
      "cell_type": "code",
      "execution_count": null,
      "id": "26053ef9",
      "metadata": {
        "id": "26053ef9",
        "outputId": "ed2f97a2-b622-4a71-a13b-c4ce44c6cd9a"
      },
      "outputs": [
        {
          "data": {
            "text/plain": [
              "['Apple', 'Pear', 'Orange']"
            ]
          },
          "execution_count": 132,
          "metadata": {},
          "output_type": "execute_result"
        }
      ],
      "source": [
        "list( filter( e_filter, fruit))"
      ]
    },
    {
      "cell_type": "code",
      "execution_count": null,
      "id": "556d278c",
      "metadata": {
        "id": "556d278c",
        "outputId": "bf8a4e96-f839-43c7-cfef-dbf84b655e0f"
      },
      "outputs": [
        {
          "data": {
            "text/plain": [
              "['Apple', 'Pear', 'Orange']"
            ]
          },
          "execution_count": 133,
          "metadata": {},
          "output_type": "execute_result"
        }
      ],
      "source": [
        "list( filter( e_filter_ternary_if, fruit))"
      ]
    },
    {
      "cell_type": "code",
      "execution_count": null,
      "id": "72d4b5fc",
      "metadata": {
        "id": "72d4b5fc",
        "outputId": "419e713b-2971-4688-edd6-7141973ab011"
      },
      "outputs": [
        {
          "data": {
            "text/plain": [
              "['Apple', 'Pear', 'Orange']"
            ]
          },
          "execution_count": 134,
          "metadata": {},
          "output_type": "execute_result"
        }
      ],
      "source": [
        "list(filter( lambda word :   True if 'e' in word else False    , fruit))"
      ]
    },
    {
      "cell_type": "code",
      "execution_count": null,
      "id": "78a27b03",
      "metadata": {
        "id": "78a27b03"
      },
      "outputs": [],
      "source": [
        ""
      ]
    },
    {
      "cell_type": "markdown",
      "id": "ab4164bf",
      "metadata": {
        "id": "ab4164bf"
      },
      "source": [
        "# reduce(function, sequence[, initial])"
      ]
    },
    {
      "cell_type": "code",
      "execution_count": null,
      "id": "f4b0711f",
      "metadata": {
        "id": "f4b0711f"
      },
      "outputs": [],
      "source": [
        "from functools import reduce"
      ]
    },
    {
      "cell_type": "code",
      "execution_count": null,
      "id": "5fcc2601",
      "metadata": {
        "id": "5fcc2601",
        "outputId": "d3a00d30-5b90-429f-e10b-256c3f437a18"
      },
      "outputs": [
        {
          "name": "stdout",
          "output_type": "stream",
          "text": [
            "Help on built-in function reduce in module _functools:\n",
            "\n",
            "reduce(...)\n",
            "    reduce(function, sequence[, initial]) -> value\n",
            "    \n",
            "    Apply a function of two arguments cumulatively to the items of a sequence,\n",
            "    from left to right, so as to reduce the sequence to a single value.\n",
            "    For example, reduce(lambda x, y: x+y, [1, 2, 3, 4, 5]) calculates\n",
            "    ((((1+2)+3)+4)+5).  If initial is present, it is placed before the items\n",
            "    of the sequence in the calculation, and serves as a default when the\n",
            "    sequence is empty.\n",
            "\n"
          ]
        }
      ],
      "source": [
        "help(reduce)"
      ]
    },
    {
      "cell_type": "code",
      "execution_count": null,
      "id": "e8071684",
      "metadata": {
        "id": "e8071684",
        "outputId": "bba67e58-119f-4d87-ef56-2979ea9e9444"
      },
      "outputs": [
        {
          "data": {
            "text/plain": [
              "<function _functools.reduce>"
            ]
          },
          "execution_count": 137,
          "metadata": {},
          "output_type": "execute_result"
        }
      ],
      "source": [
        "reduce"
      ]
    },
    {
      "cell_type": "code",
      "execution_count": null,
      "id": "f2a6a2bb",
      "metadata": {
        "id": "f2a6a2bb",
        "outputId": "38b17e90-24bb-47e2-b3b8-613059301acc"
      },
      "outputs": [
        {
          "data": {
            "text/plain": [
              "15"
            ]
          },
          "execution_count": 138,
          "metadata": {},
          "output_type": "execute_result"
        }
      ],
      "source": [
        "reduce(lambda x, y: x+y, [1, 2, 3, 4, 5])"
      ]
    },
    {
      "cell_type": "code",
      "execution_count": null,
      "id": "f0cbef2d",
      "metadata": {
        "id": "f0cbef2d",
        "outputId": "fbed52b1-ec2c-433f-8271-7ae1d77e0be2"
      },
      "outputs": [
        {
          "name": "stdout",
          "output_type": "stream",
          "text": [
            "15\n"
          ]
        }
      ],
      "source": [
        "print(reduce(lambda x, y: x+y, [1, 2, 3, 4, 5]))"
      ]
    },
    {
      "cell_type": "code",
      "execution_count": null,
      "id": "5715db5c",
      "metadata": {
        "id": "5715db5c",
        "outputId": "04f12f73-800b-412c-e5ca-ecc8707d0aba"
      },
      "outputs": [
        {
          "data": {
            "text/plain": [
              "120"
            ]
          },
          "execution_count": 5,
          "metadata": {},
          "output_type": "execute_result"
        }
      ],
      "source": [
        "reduce(lambda x, y: x*y, [1, 2, 3, 4, 5])  # faktöriyel"
      ]
    },
    {
      "cell_type": "code",
      "execution_count": null,
      "id": "d7a9d647",
      "metadata": {
        "id": "d7a9d647",
        "outputId": "46b245b9-ea11-4d98-db6a-c68b21c8f49e"
      },
      "outputs": [
        {
          "data": {
            "text/plain": [
              "120"
            ]
          },
          "execution_count": 3,
          "metadata": {},
          "output_type": "execute_result"
        }
      ],
      "source": [
        "def faktor_reduce (num):\n",
        "    return reduce(lambda x, y: x*y, [*range(1,num + 1)])\n",
        "\n",
        "faktor_reduce(5)"
      ]
    },
    {
      "cell_type": "code",
      "execution_count": null,
      "id": "0e373c1d",
      "metadata": {
        "id": "0e373c1d",
        "outputId": "ede2bbd3-161e-4d24-8b5b-1d0f37e2737b"
      },
      "outputs": [
        {
          "data": {
            "text/plain": [
              "120"
            ]
          },
          "execution_count": 4,
          "metadata": {},
          "output_type": "execute_result"
        }
      ],
      "source": [
        "# recursive\n",
        "def faktor_recur (num):\n",
        "    if num <= 1:\n",
        "        return 1\n",
        "    else:\n",
        "        return num * faktor_recur(num-1)\n",
        "\n",
        "faktor_recur(5)"
      ]
    },
    {
      "cell_type": "code",
      "execution_count": null,
      "id": "4ea9bd45",
      "metadata": {
        "id": "4ea9bd45"
      },
      "outputs": [],
      "source": [
        ""
      ]
    },
    {
      "cell_type": "markdown",
      "id": "1ef2d56e",
      "metadata": {
        "id": "1ef2d56e"
      },
      "source": [
        "```Listedeki meyvelerin ilk harflerini birleştirip string yapan algoritma --> 'ABPAO'```"
      ]
    },
    {
      "cell_type": "code",
      "execution_count": null,
      "id": "c1bd9c47",
      "metadata": {
        "id": "c1bd9c47"
      },
      "outputs": [],
      "source": [
        "fruit = [\"Apple\", \"Banana\", \"Pear\", \"Apricot\", \"Orange\"]"
      ]
    },
    {
      "cell_type": "code",
      "execution_count": null,
      "id": "57f4c675",
      "metadata": {
        "id": "57f4c675",
        "outputId": "dee3a271-6e43-407b-a601-d33c23be0234"
      },
      "outputs": [
        {
          "data": {
            "text/plain": [
              "'AO'"
            ]
          },
          "execution_count": 7,
          "metadata": {},
          "output_type": "execute_result"
        }
      ],
      "source": [
        "reduce( lambda x, y: x[:1] + y[:1] , fruit)"
      ]
    },
    {
      "cell_type": "code",
      "execution_count": null,
      "id": "564f2eb4",
      "metadata": {
        "id": "564f2eb4",
        "outputId": "455d46fb-8b78-4f90-ece0-755885c1ea26"
      },
      "outputs": [
        {
          "data": {
            "text/plain": [
              "['', 'Apple', 'Banana', 'Pear', 'Apricot', 'Orange']"
            ]
          },
          "execution_count": 8,
          "metadata": {},
          "output_type": "execute_result"
        }
      ],
      "source": [
        "[''] + fruit"
      ]
    },
    {
      "cell_type": "code",
      "execution_count": null,
      "id": "50b84d59",
      "metadata": {
        "id": "50b84d59",
        "outputId": "3b7c4365-f4d0-4e0e-b265-3a30340f0856"
      },
      "outputs": [
        {
          "data": {
            "text/plain": [
              "'ABPAO'"
            ]
          },
          "execution_count": 9,
          "metadata": {},
          "output_type": "execute_result"
        }
      ],
      "source": [
        "reduce( lambda x, y: x + y[:1] , [''] + fruit)"
      ]
    },
    {
      "cell_type": "markdown",
      "id": "b1d61627",
      "metadata": {
        "id": "b1d61627"
      },
      "source": [
        "```Listedeki Maksimum sayı```"
      ]
    },
    {
      "cell_type": "code",
      "execution_count": null,
      "id": "623f2cfb",
      "metadata": {
        "id": "623f2cfb"
      },
      "outputs": [],
      "source": [
        "liste = [11, 45, 8, 11, 23, 45, 23, 45, 89]"
      ]
    },
    {
      "cell_type": "code",
      "execution_count": null,
      "id": "3919e436",
      "metadata": {
        "id": "3919e436",
        "outputId": "c93aecf2-2a57-4fd4-c4e1-abdf6172c093"
      },
      "outputs": [
        {
          "data": {
            "text/plain": [
              "5"
            ]
          },
          "execution_count": 13,
          "metadata": {},
          "output_type": "execute_result"
        }
      ],
      "source": [
        "5 if( 5 > 4) else 4"
      ]
    },
    {
      "cell_type": "code",
      "execution_count": null,
      "id": "35847129",
      "metadata": {
        "id": "35847129"
      },
      "outputs": [],
      "source": [
        "f = lambda x, y: x if( x > y) else y"
      ]
    },
    {
      "cell_type": "code",
      "execution_count": null,
      "id": "9a08efaf",
      "metadata": {
        "id": "9a08efaf",
        "outputId": "e12ccf90-6b8a-416f-db38-f95eff7cf40c"
      },
      "outputs": [
        {
          "data": {
            "text/plain": [
              "89"
            ]
          },
          "execution_count": 15,
          "metadata": {},
          "output_type": "execute_result"
        }
      ],
      "source": [
        "reduce ( f, liste)"
      ]
    },
    {
      "cell_type": "code",
      "execution_count": null,
      "id": "dcc8dbd5",
      "metadata": {
        "id": "dcc8dbd5",
        "outputId": "576b004e-529f-41e2-e07d-331c827f655d"
      },
      "outputs": [
        {
          "data": {
            "text/plain": [
              "89"
            ]
          },
          "execution_count": 16,
          "metadata": {},
          "output_type": "execute_result"
        }
      ],
      "source": [
        "reduce ( lambda x, y: x if x > y else y, liste)"
      ]
    },
    {
      "cell_type": "code",
      "execution_count": null,
      "id": "7694d8ca",
      "metadata": {
        "id": "7694d8ca"
      },
      "outputs": [],
      "source": [
        ""
      ]
    },
    {
      "cell_type": "markdown",
      "id": "80eaef2a",
      "metadata": {
        "id": "80eaef2a"
      },
      "source": [
        "# lambda ile fonksiyon cağırma"
      ]
    },
    {
      "cell_type": "code",
      "execution_count": null,
      "id": "983e139b",
      "metadata": {
        "id": "983e139b",
        "outputId": "40e35f2d-6957-4c43-bf69-73fa9e1dd1e3"
      },
      "outputs": [
        {
          "data": {
            "text/plain": [
              "<function sum(iterable, /, start=0)>"
            ]
          },
          "execution_count": 26,
          "metadata": {},
          "output_type": "execute_result"
        }
      ],
      "source": [
        "sum"
      ]
    },
    {
      "cell_type": "code",
      "execution_count": null,
      "id": "3628d285",
      "metadata": {
        "id": "3628d285",
        "outputId": "e9dcf16f-35e8-4b87-c8bf-f0893f56a58e"
      },
      "outputs": [
        {
          "name": "stdout",
          "output_type": "stream",
          "text": [
            "Help on built-in function sum in module builtins:\n",
            "\n",
            "sum(iterable, /, start=0)\n",
            "    Return the sum of a 'start' value (default: 0) plus an iterable of numbers\n",
            "    \n",
            "    When the iterable is empty, return the start value.\n",
            "    This function is intended specifically for use with numeric values and may\n",
            "    reject non-numeric types.\n",
            "\n"
          ]
        }
      ],
      "source": [
        "help(sum)"
      ]
    },
    {
      "cell_type": "code",
      "execution_count": null,
      "id": "1eeafa76",
      "metadata": {
        "id": "1eeafa76",
        "outputId": "d52efddc-06ed-4ec2-f218-0d751b75dea5"
      },
      "outputs": [
        {
          "data": {
            "text/plain": [
              "6"
            ]
          },
          "execution_count": 28,
          "metadata": {},
          "output_type": "execute_result"
        }
      ],
      "source": [
        "sum([1, 2, 3])"
      ]
    },
    {
      "cell_type": "code",
      "execution_count": null,
      "id": "8e93d2bb",
      "metadata": {
        "id": "8e93d2bb",
        "outputId": "868a506a-b2c5-4978-a3dc-b334fa7bf2a8"
      },
      "outputs": [
        {
          "data": {
            "text/plain": [
              "<function __main__.<lambda>()>"
            ]
          },
          "execution_count": 30,
          "metadata": {},
          "output_type": "execute_result"
        }
      ],
      "source": [
        "lambda: 3 + 3"
      ]
    },
    {
      "cell_type": "code",
      "execution_count": null,
      "id": "1613e663",
      "metadata": {
        "id": "1613e663",
        "outputId": "6ffd6988-be71-4f59-b0c7-63a189018692"
      },
      "outputs": [
        {
          "data": {
            "text/plain": [
              "6"
            ]
          },
          "execution_count": 31,
          "metadata": {},
          "output_type": "execute_result"
        }
      ],
      "source": [
        "(lambda: 3 + 3)()"
      ]
    },
    {
      "cell_type": "code",
      "execution_count": null,
      "id": "863e8312",
      "metadata": {
        "id": "863e8312",
        "outputId": "b6eeb3de-6ca1-4515-f3bf-b07648d4fb67"
      },
      "outputs": [
        {
          "data": {
            "text/plain": [
              "<function __main__.<lambda>()>"
            ]
          },
          "execution_count": 34,
          "metadata": {},
          "output_type": "execute_result"
        }
      ],
      "source": [
        "lambda : sum"
      ]
    },
    {
      "cell_type": "code",
      "execution_count": null,
      "id": "a8fb8699",
      "metadata": {
        "id": "a8fb8699",
        "outputId": "c0e9c58d-bf54-44b5-9a72-6901ad59f206"
      },
      "outputs": [
        {
          "data": {
            "text/plain": [
              "<function sum(iterable, /, start=0)>"
            ]
          },
          "execution_count": 35,
          "metadata": {},
          "output_type": "execute_result"
        }
      ],
      "source": [
        "(lambda : sum)()"
      ]
    },
    {
      "cell_type": "code",
      "execution_count": null,
      "id": "1836093d",
      "metadata": {
        "id": "1836093d",
        "outputId": "6d67231b-eeac-4d74-e68a-c66bcfad4ba9"
      },
      "outputs": [
        {
          "data": {
            "text/plain": [
              "6"
            ]
          },
          "execution_count": 36,
          "metadata": {},
          "output_type": "execute_result"
        }
      ],
      "source": [
        "(lambda x : sum(x) )([1, 2, 3])"
      ]
    },
    {
      "cell_type": "code",
      "execution_count": null,
      "id": "0eadd38e",
      "metadata": {
        "id": "0eadd38e",
        "outputId": "3fea2218-c139-4e3c-c675-a0fb8cc3866b"
      },
      "outputs": [
        {
          "data": {
            "text/plain": [
              "1"
            ]
          },
          "execution_count": 37,
          "metadata": {},
          "output_type": "execute_result"
        }
      ],
      "source": [
        "(lambda x : min( x ))([1, 2, 3])"
      ]
    },
    {
      "cell_type": "code",
      "execution_count": null,
      "id": "c8775456",
      "metadata": {
        "id": "c8775456",
        "outputId": "b8021799-6324-48ad-ccbb-b2f8bd14e9bc"
      },
      "outputs": [
        {
          "data": {
            "text/plain": [
              "3"
            ]
          },
          "execution_count": 38,
          "metadata": {},
          "output_type": "execute_result"
        }
      ],
      "source": [
        "(lambda x : max( x ))([1, 2, 3])"
      ]
    },
    {
      "cell_type": "code",
      "execution_count": null,
      "id": "e2c6aeb3",
      "metadata": {
        "id": "e2c6aeb3",
        "outputId": "45463790-c46b-4934-9d41-3819ee27fd05"
      },
      "outputs": [
        {
          "data": {
            "text/plain": [
              "3"
            ]
          },
          "execution_count": 39,
          "metadata": {},
          "output_type": "execute_result"
        }
      ],
      "source": [
        "a = max\n",
        "(lambda x : a( x ))([1, 2, 3])"
      ]
    },
    {
      "cell_type": "code",
      "execution_count": null,
      "id": "b74d7a22",
      "metadata": {
        "id": "b74d7a22",
        "outputId": "bcca5d5f-c4fb-4ab2-b11f-030c275ffddc"
      },
      "outputs": [
        {
          "data": {
            "text/plain": [
              "6"
            ]
          },
          "execution_count": 43,
          "metadata": {},
          "output_type": "execute_result"
        }
      ],
      "source": [
        "def function_generator(a) :\n",
        "    return (lambda x : a( x ))([1, 2, 3])\n",
        "\n",
        "function_generator(sum)"
      ]
    },
    {
      "cell_type": "code",
      "execution_count": null,
      "id": "ec0ea9a0",
      "metadata": {
        "id": "ec0ea9a0",
        "outputId": "477bebba-7335-462a-9761-8720cbe5c4db"
      },
      "outputs": [
        {
          "data": {
            "text/plain": [
              "6"
            ]
          },
          "execution_count": 42,
          "metadata": {},
          "output_type": "execute_result"
        }
      ],
      "source": [
        "def function_generator(function_name) :\n",
        "    return lambda x : function_name(x)\n",
        "\n",
        "function_generator(sum)([1, 2, 3])"
      ]
    },
    {
      "cell_type": "code",
      "execution_count": null,
      "id": "370a6c79",
      "metadata": {
        "id": "370a6c79"
      },
      "outputs": [],
      "source": [
        ""
      ]
    },
    {
      "cell_type": "code",
      "execution_count": null,
      "id": "a1e780d4",
      "metadata": {
        "id": "a1e780d4",
        "outputId": "34b5a995-817b-4ce2-b24d-c40c969fe413"
      },
      "outputs": [
        {
          "name": "stdout",
          "output_type": "stream",
          "text": [
            "<function function_generator at 0x00000233CE0FE790>\n",
            "<function function_generator.<locals>.<lambda> at 0x00000233CDF99EE0>\n",
            "25\n"
          ]
        },
        {
          "data": {
            "text/plain": [
              "<function __main__.function_generator()>"
            ]
          },
          "execution_count": 44,
          "metadata": {},
          "output_type": "execute_result"
        }
      ],
      "source": [
        "def function_generator() :\n",
        "    return lambda x : x*x\n",
        "\n",
        "print(function_generator)\n",
        "print(function_generator())\n",
        "print(function_generator()(5))\n",
        "\n",
        "function_generator"
      ]
    },
    {
      "cell_type": "code",
      "execution_count": null,
      "id": "629cc123",
      "metadata": {
        "id": "629cc123"
      },
      "outputs": [],
      "source": [
        ""
      ]
    },
    {
      "cell_type": "code",
      "execution_count": null,
      "id": "c1248ef1",
      "metadata": {
        "id": "c1248ef1"
      },
      "outputs": [],
      "source": [
        "def my_print(emoji):\n",
        "    return emoji"
      ]
    },
    {
      "cell_type": "code",
      "execution_count": null,
      "id": "6d90f010",
      "metadata": {
        "id": "6d90f010"
      },
      "outputs": [],
      "source": [
        ""
      ]
    },
    {
      "cell_type": "code",
      "execution_count": null,
      "id": "15405129",
      "metadata": {
        "id": "15405129"
      },
      "outputs": [],
      "source": [
        ""
      ]
    },
    {
      "cell_type": "code",
      "execution_count": null,
      "id": "90fbe520",
      "metadata": {
        "id": "90fbe520"
      },
      "outputs": [],
      "source": [
        ""
      ]
    },
    {
      "cell_type": "code",
      "execution_count": null,
      "id": "4f8af074",
      "metadata": {
        "id": "4f8af074"
      },
      "outputs": [],
      "source": [
        ""
      ]
    },
    {
      "cell_type": "markdown",
      "id": "0f0163ee",
      "metadata": {
        "id": "0f0163ee"
      },
      "source": [
        "# soru örnekleri"
      ]
    },
    {
      "cell_type": "code",
      "execution_count": null,
      "id": "36f2e8d6",
      "metadata": {
        "id": "36f2e8d6",
        "outputId": "a568dfb5-ca6e-4fc4-f92c-530d6f88b105"
      },
      "outputs": [
        {
          "data": {
            "text/plain": [
              "'7#gg>1cJF9Z'"
            ]
          },
          "execution_count": 12,
          "metadata": {},
          "output_type": "execute_result"
        }
      ],
      "source": [
        "import random\n",
        "\n",
        "chr(random.randint(33, 47))\n",
        "chr(random.randint(48, 57))  # 0-9\n",
        "chr(random.randint(58, 64))\n",
        "chr(random.randint(65, 90))  # a-z\n",
        "chr(random.randint(97, 122))  # A-Z\n",
        "\n",
        "uppers = [chr(random.randint(97, 122)) for i in range(3)]\n",
        "lowers = [chr(random.randint(65, 90)) for i in range(3)]\n",
        "numbers = [chr(random.randint(48, 57)) for i in range(3)]\n",
        "chars = [chr(random.randint(33, 47)) + chr(random.randint(58, 64))]\n",
        "\n",
        "passw = ''.join(uppers+lowers+numbers+chars)\n",
        "\n",
        "pass_list = list(passw)\n",
        "\n",
        "random.shuffle(pass_list)\n",
        "\n",
        "result = ''.join(pass_list)\n",
        "result"
      ]
    },
    {
      "cell_type": "code",
      "execution_count": null,
      "id": "a9503e6e",
      "metadata": {
        "id": "a9503e6e"
      },
      "outputs": [],
      "source": [
        "x = y = 0\n",
        "command = ['right 20', 'right 30', 'left 50', 'up 10', 'down 20']\n",
        "\n",
        "while command:\n",
        "    order = command.pop()\n",
        "    \n",
        "    order_way = order.split()[0]\n",
        "    order_foot = int(order.split()[1])\n",
        "    \n",
        "    if order_way.startswith('r'):\n",
        "        x += order_foot\n",
        "    elif order_way.startswith('l'):\n",
        "        x -= order_foot\n",
        "    elif order_way.startswith('u'):\n",
        "        y += order_foot\n",
        "    elif order_way.startswith('d'):\n",
        "        y -= order_foot\n",
        "    else:\n",
        "        print('yön yok')\n",
        "\n",
        "print(x, y)"
      ]
    },
    {
      "cell_type": "code",
      "execution_count": null,
      "id": "47a9d099",
      "metadata": {
        "id": "47a9d099"
      },
      "outputs": [],
      "source": [
        ""
      ]
    },
    {
      "cell_type": "code",
      "execution_count": null,
      "id": "87bae2e2",
      "metadata": {
        "id": "87bae2e2"
      },
      "outputs": [],
      "source": [
        ""
      ]
    },
    {
      "cell_type": "code",
      "execution_count": null,
      "id": "d5a680f7",
      "metadata": {
        "id": "d5a680f7"
      },
      "outputs": [],
      "source": [
        ""
      ]
    },
    {
      "cell_type": "code",
      "execution_count": null,
      "id": "318b66e6",
      "metadata": {
        "id": "318b66e6"
      },
      "outputs": [],
      "source": [
        ""
      ]
    },
    {
      "cell_type": "code",
      "execution_count": null,
      "id": "e0781014",
      "metadata": {
        "id": "e0781014"
      },
      "outputs": [],
      "source": [
        ""
      ]
    },
    {
      "cell_type": "code",
      "execution_count": null,
      "id": "f7a93f8b",
      "metadata": {
        "id": "f7a93f8b"
      },
      "outputs": [],
      "source": [
        ""
      ]
    },
    {
      "cell_type": "code",
      "execution_count": null,
      "id": "5ca918f1",
      "metadata": {
        "id": "5ca918f1"
      },
      "outputs": [],
      "source": [
        ""
      ]
    }
  ],
  "metadata": {
    "hide_input": false,
    "kernelspec": {
      "display_name": "Python 3 (ipykernel)",
      "language": "python",
      "name": "python3"
    },
    "language_info": {
      "codemirror_mode": {
        "name": "ipython",
        "version": 3
      },
      "file_extension": ".py",
      "mimetype": "text/x-python",
      "name": "python",
      "nbconvert_exporter": "python",
      "pygments_lexer": "ipython3",
      "version": "3.9.7"
    },
    "nbTranslate": {
      "displayLangs": [
        "*"
      ],
      "hotkey": "alt-t",
      "langInMainMenu": true,
      "sourceLang": "en",
      "targetLang": "fr",
      "useGoogleTranslate": true
    },
    "toc": {
      "base_numbering": 1,
      "nav_menu": {},
      "number_sections": true,
      "sideBar": true,
      "skip_h1_title": false,
      "title_cell": "Table of Contents",
      "title_sidebar": "Contents",
      "toc_cell": false,
      "toc_position": {},
      "toc_section_display": true,
      "toc_window_display": false
    },
    "colab": {
      "name": "2022-04-12-Python-Tekrar-Asteriks-Yield-listComp-Lambda.ipynb",
      "provenance": [],
      "include_colab_link": true
    }
  },
  "nbformat": 4,
  "nbformat_minor": 5
}